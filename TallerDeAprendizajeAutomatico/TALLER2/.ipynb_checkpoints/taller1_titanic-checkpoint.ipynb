{
  "cells": [
    {
      "cell_type": "markdown",
      "id": "56e6df09",
      "metadata": {
        "id": "56e6df09"
      },
      "source": [
        "#  <center> Taller  de Aprendizaje Automático </center>\n",
        "##  <center> Taller 1: Titanic  </center>"
      ]
    },
    {
      "cell_type": "markdown",
      "id": "641ec10d",
      "metadata": {
        "id": "641ec10d"
      },
      "source": [
        "En esta actividad se trabajará con el dataset [Titanic](https://www.kaggle.com/c/titanic/overview) disponible en Kaggle. El objetivo es predecir si un pasajero sobrevivirá a partir de atributos personales. La descripción de los atributos se encuentra en la misma [página](https://www.kaggle.com/c/titanic/data) en que se pueden bajar los datos."
      ]
    },
    {
      "cell_type": "markdown",
      "id": "cf515408",
      "metadata": {
        "id": "cf515408"
      },
      "source": [
        "## Objetivos Generales del Taller\n",
        " - Abordar un problema de aprendizaje automático de punta a punta\n",
        " - Familiarizarse con la biblioteca **pandas** para levantar y explorar los datos\n",
        " - Familiarizarse con los **pipelines** de **scikit-learn** como una forma de resolver un problema en forma ordenada."
      ]
    },
    {
      "cell_type": "markdown",
      "id": "dce3faac",
      "metadata": {
        "id": "dce3faac"
      },
      "source": [
        "## Formas de trabajo\n",
        "\n",
        "Se podrá elegir entre dos formas de trabajo: instalación local o Colab. Para trabajar en clase Colab es completamente adecuado. Para ejecutar corridas que demanden mucho tiempo (por ejemplo, búsqueda de hiperparámetros) puede ser conveniente trabajar localmente. A continuación se explica cómo proceder en cada caso. Cualquiera sea la elección se recomienda trabajar con `scikit-learn>1.1.0`."
      ]
    },
    {
      "cell_type": "markdown",
      "id": "bd1f2c8d",
      "metadata": {
        "id": "bd1f2c8d",
        "jp-MarkdownHeadingCollapsed": true
      },
      "source": [
        "### Opción 1: Trabajar localmente"
      ]
    },
    {
      "cell_type": "markdown",
      "id": "6a69d951",
      "metadata": {
        "id": "6a69d951"
      },
      "source": [
        "####  Ambiente de Trabajo"
      ]
    },
    {
      "cell_type": "markdown",
      "id": "5337d0a6",
      "metadata": {
        "id": "5337d0a6"
      },
      "source": [
        "Deberá trabajar en su propio ambiente de desarrollo. Ej: **conda environment**.  En caso de no contar con uno deberá crearlo ejecutando la siguiente línea de comando:\n",
        "\n",
        "`conda create -n TAA-py311 python=3.11`  \n",
        "\n",
        "Una vez creado se procede a activarlo:\n",
        "\n",
        "`conda activate TAA-py311`  \n",
        "\n",
        "Una vez activado se instalan en el entorno los paquetes que se utilizaran:\n",
        "\n",
        "`pip install numpy matplotlib pandas \"scikit-learn>1.1.0\" notebook`   \n",
        "\n",
        "Una vez finalizada la instalación abra el Jupyter Notebook:\n",
        "\n",
        "`jupyter-notebook`"
      ]
    },
    {
      "cell_type": "markdown",
      "id": "71a72bc4",
      "metadata": {
        "id": "71a72bc4"
      },
      "source": [
        "Los paquetes faltantes se pueden instalar desde el notebook haciendo:    \n",
        "\n",
        "`!pip install paquete_faltante`"
      ]
    },
    {
      "cell_type": "markdown",
      "id": "e83900c9",
      "metadata": {
        "id": "e83900c9",
        "jp-MarkdownHeadingCollapsed": true
      },
      "source": [
        "####  Configuración del API token"
      ]
    },
    {
      "cell_type": "markdown",
      "id": "0f84354a",
      "metadata": {
        "id": "0f84354a"
      },
      "source": [
        "A continuación, vaya a su cuenta de [Kaggle](https://www.kaggle.com/) (o cree una si aún no lo ha hecho), haga clic en el icono de perfil en la esquina superior derecha de la pantalla y seleccione \"Your Account\" en la lista desplegable. Luego, seleccione la viñeta \"Account\" y haga clic en \"Create new API token\". Entonces un archivo llamado kaggle.json se descargará automáticamente a su carpeta de descargas. Este archivo contiene sus credenciales de inicio de sesión para permitirle acceder a la API."
      ]
    },
    {
      "cell_type": "markdown",
      "id": "5679841f",
      "metadata": {
        "id": "5679841f"
      },
      "source": [
        "Cree (en caso de no existir) la carpeta `.kaggle`. Modifique *nombre_usuario* por el nombre del usuario donde está trabajando."
      ]
    },
    {
      "cell_type": "code",
      "execution_count": null,
      "id": "daa56599",
      "metadata": {
        "id": "daa56599"
      },
      "outputs": [],
      "source": [
        "!mkdir C:\\Users\\nombre_usuario\\.kaggle"
      ]
    },
    {
      "cell_type": "markdown",
      "id": "b656757b",
      "metadata": {
        "id": "b656757b"
      },
      "source": [
        "Mueva el archivo descargado a la carpeta creada."
      ]
    },
    {
      "cell_type": "code",
      "execution_count": null,
      "id": "f53f7709",
      "metadata": {
        "id": "f53f7709"
      },
      "outputs": [],
      "source": [
        "#Comando en Windows\n",
        "!move C:\\Users\\nombre_usuario\\Downloads\\kaggle.json C:\\Users\\nombre_usuario\\.kaggle\n",
        "\n",
        "#Comando en Linux\n",
        "# !mv C:\\Users\\nombre_usuario\\Downloads\\kaggle.json /home/nombre_usuario/.kaggle"
      ]
    },
    {
      "cell_type": "markdown",
      "id": "634e8a7b",
      "metadata": {
        "id": "634e8a7b",
        "jp-MarkdownHeadingCollapsed": true
      },
      "source": [
        "### Opción 2:  Trabajar en *Colab*."
      ]
    },
    {
      "cell_type": "markdown",
      "id": "a1ee4a73",
      "metadata": {
        "id": "a1ee4a73"
      },
      "source": [
        "Se puede trabajar en Google Colab. Para ello es necesario contar con una cuenta de **google drive** y ejecutar un notebook almacenado en dicha cuenta. De lo contrario, no se conservarán los cambios realizados en la sesión. En caso de ya contar con una cuenta, se puede abrir el notebook y luego ir a `Archivo-->Guardar una copia en drive`.  \n",
        "\n",
        "<table align=\"left\">\n",
        "  <td>\n",
        "    <a target=\"_blank\" href=\"https://colab.research.google.com/github/TAA-fing/TAA-2025/blob/main/talleres/taller1_titanic.ipynb\"><img src=\"https://www.tensorflow.org/images/colab_logo_32px.png\" />Ejecutar en Google Colab</a>\n",
        "  </td>\n",
        "</table>"
      ]
    },
    {
      "cell_type": "markdown",
      "id": "a637c9fa",
      "metadata": {
        "id": "a637c9fa"
      },
      "source": [
        "La siguiente celda monta el disco personal del drive:"
      ]
    },
    {
      "cell_type": "code",
      "execution_count": null,
      "id": "7a541d79",
      "metadata": {
        "id": "7a541d79"
      },
      "outputs": [],
      "source": [
        "from google.colab import drive\n",
        "drive.mount('/content/drive')"
      ]
    },
    {
      "cell_type": "markdown",
      "id": "7559ffd0-b664-4a65-aef7-7a7107a8b487",
      "metadata": {
        "id": "7559ffd0-b664-4a65-aef7-7a7107a8b487"
      },
      "source": [
        "####  Configuración del API token en Colab"
      ]
    },
    {
      "cell_type": "markdown",
      "id": "6d5f5528",
      "metadata": {
        "id": "6d5f5528"
      },
      "source": [
        "A continuación, vaya a su cuenta de [Kaggle](https://www.kaggle.com/) (o cree una si aún no lo ha hecho), haga clic en el icono de perfil en la esquina superior derecha de la pantalla y seleccione \"Your Account\" en la lista desplegable. Luego, seleccione la viñeta \"Settings\" y en la sección API haga clic en \"Create new token\". Entonces un archivo llamado kaggle.json se descargará automáticamente a su carpeta de descargas. Este archivo contiene sus credenciales de inicio de sesión para permitirle acceder a la API."
      ]
    },
    {
      "cell_type": "markdown",
      "id": "1034537a",
      "metadata": {
        "id": "1034537a"
      },
      "source": [
        "La siguiente celda realiza la configuración necesaria para obtener datos desde la plataforma Kaggle. Le solicitará que suba el archivo kaggle.json descargado anteriormente."
      ]
    },
    {
      "cell_type": "code",
      "execution_count": null,
      "id": "49aaa7fd",
      "metadata": {
        "id": "49aaa7fd"
      },
      "outputs": [],
      "source": [
        "import warnings\n",
        "warnings.filterwarnings('ignore')\n",
        "from google.colab import files\n",
        "\n",
        "# El siguiente archivo solicitado es para habilitar la API de Kaggle en el entorno que está trabajando.\n",
        "# Este archivo se descarga entrando a su perfíl de Kaggle, en la sección Settings/API, presionando donde dice: Create New Token\n",
        "\n",
        "uploaded = files.upload()\n",
        "\n",
        "for fn in uploaded.keys():\n",
        "    print('User uploaded file \"{name}\" with length {length} bytes'.format(\n",
        "      name=fn, length=len(uploaded[fn])))\n",
        "\n",
        "#Then move kaggle.json into the folder where the API expects to find it.\n",
        "!mkdir -p ~/.kaggle/ && mv kaggle.json ~/.kaggle/ && chmod 600 ~/.kaggle/kaggle.json"
      ]
    },
    {
      "cell_type": "markdown",
      "id": "f029977e-fb92-4680-8b71-2a4bcf26ff57",
      "metadata": {
        "id": "f029977e-fb92-4680-8b71-2a4bcf26ff57"
      },
      "source": [
        "## Descarga de los datos"
      ]
    },
    {
      "cell_type": "markdown",
      "id": "d82f8112-3316-4325-869f-693ae24ff829",
      "metadata": {
        "id": "d82f8112-3316-4325-869f-693ae24ff829"
      },
      "source": [
        "###  Unirse a la competición"
      ]
    },
    {
      "cell_type": "markdown",
      "id": "25b171b7-ee0b-43a2-be69-5ada231a1146",
      "metadata": {
        "id": "25b171b7-ee0b-43a2-be69-5ada231a1146"
      },
      "source": [
        "Vaya a la competición de [Titanic](https://www.kaggle.com/c/titanic) en Kaggle y presione **Join Competition**."
      ]
    },
    {
      "cell_type": "markdown",
      "id": "d50f73ee-3d4d-4ca8-9ed6-ec93b14c8b64",
      "metadata": {
        "id": "d50f73ee-3d4d-4ca8-9ed6-ec93b14c8b64"
      },
      "source": [
        "###  Instalar el paquete *kaggle*"
      ]
    },
    {
      "cell_type": "markdown",
      "id": "ab102661",
      "metadata": {
        "id": "ab102661"
      },
      "source": [
        "Para obtener los datos de Kaggle primero se instalará la librería de **Kaggle**"
      ]
    },
    {
      "cell_type": "code",
      "execution_count": null,
      "id": "b3e53070",
      "metadata": {
        "ExecuteTime": {
          "end_time": "2023-03-08T11:54:51.678223Z",
          "start_time": "2023-03-08T11:54:50.184110Z"
        },
        "id": "b3e53070",
        "scrolled": true
      },
      "outputs": [],
      "source": [
        "!pip install kaggle"
      ]
    },
    {
      "cell_type": "markdown",
      "id": "8d0de337",
      "metadata": {
        "id": "8d0de337"
      },
      "source": [
        "Si la instalación fue exitosa, el siguiente comando debería mostrar una lista de todas las competiciones activas de Kaggle."
      ]
    },
    {
      "cell_type": "code",
      "execution_count": null,
      "id": "b769ca4a",
      "metadata": {
        "id": "b769ca4a"
      },
      "outputs": [],
      "source": [
        "!kaggle competitions list"
      ]
    },
    {
      "cell_type": "markdown",
      "id": "87bb5824-2df1-400c-ae4e-a95ea5647a8f",
      "metadata": {
        "id": "87bb5824-2df1-400c-ae4e-a95ea5647a8f"
      },
      "source": [
        "####  Descargar y descomprimir los datos"
      ]
    },
    {
      "cell_type": "markdown",
      "id": "d9032e65",
      "metadata": {
        "id": "d9032e65"
      },
      "source": [
        "Ejecutar el siguiente comando para bajar los datos de la competencia *titanic*."
      ]
    },
    {
      "cell_type": "code",
      "execution_count": null,
      "id": "de5aee66",
      "metadata": {
        "id": "de5aee66"
      },
      "outputs": [],
      "source": [
        "!kaggle competitions download -c titanic"
      ]
    },
    {
      "cell_type": "markdown",
      "id": "7ca61700",
      "metadata": {
        "id": "7ca61700"
      },
      "source": [
        "Descomprima el archivo descargado:"
      ]
    },
    {
      "cell_type": "code",
      "execution_count": null,
      "id": "5891d0bb",
      "metadata": {
        "id": "5891d0bb"
      },
      "outputs": [],
      "source": [
        "# Forma 1\n",
        "!unzip titanic.zip\n",
        "\n",
        "# Forma 2\n",
        "# import zipfile\n",
        "# with zipfile.ZipFile(\"titanic.zip\",\"r\") as zip_ref:\n",
        "#     zip_ref.extractall(\"./\")"
      ]
    },
    {
      "cell_type": "markdown",
      "id": "e1ad0f59",
      "metadata": {
        "id": "e1ad0f59"
      },
      "source": [
        "##  Parte 1 - Carga de datos"
      ]
    },
    {
      "cell_type": "markdown",
      "id": "cc06be81",
      "metadata": {
        "id": "cc06be81"
      },
      "source": [
        "#### Ejercicios:\n",
        "\n",
        " - Levantar el conjunto de entrenamiento utilizando el método `read_csv()` de la biblioteca **pandas**.\n",
        " - Explorar los métodos `head()`, `info()` y `describe()` para obtener información relevante de los datos."
      ]
    },
    {
      "cell_type": "code",
      "execution_count": null,
      "id": "36125d16-15eb-43b1-94e1-692f7aa75c90",
      "metadata": {
        "id": "36125d16-15eb-43b1-94e1-692f7aa75c90"
      },
      "outputs": [],
      "source": [
        "# data_train ="
      ]
    },
    {
      "cell_type": "markdown",
      "id": "4c36e4b4",
      "metadata": {
        "id": "4c36e4b4"
      },
      "source": [
        "## Parte 2 - Exploración con pandas"
      ]
    },
    {
      "cell_type": "markdown",
      "id": "78b551e2",
      "metadata": {
        "id": "78b551e2",
        "solution2": "shown",
        "solution2_first": true
      },
      "source": [
        "#### Ejemplos de manipulación con Pandas  "
      ]
    },
    {
      "cell_type": "markdown",
      "id": "29fe4d41",
      "metadata": {
        "id": "29fe4d41",
        "solution2": "shown"
      },
      "source": [
        "**1)** Ejemplo de filtrado utilizando `df.loc[..]`. ¿Quiénes eran los pasajeros mayores de 60 años que viajaban en tercera clase? ¿Cuáles sobrevivieron?"
      ]
    },
    {
      "cell_type": "code",
      "execution_count": null,
      "id": "d96579c7",
      "metadata": {
        "ExecuteTime": {
          "end_time": "2022-02-21T11:31:58.517283Z",
          "start_time": "2022-02-21T11:31:58.493347Z"
        },
        "id": "d96579c7",
        "solution2": "shown"
      },
      "outputs": [],
      "source": [
        "data_train.loc[(data_train['Age'] > 60) & (data_train['Pclass'] == 3)]"
      ]
    },
    {
      "cell_type": "code",
      "execution_count": null,
      "id": "05d27ef7",
      "metadata": {
        "ExecuteTime": {
          "end_time": "2022-02-21T11:31:59.100114Z",
          "start_time": "2022-02-21T11:31:59.077168Z"
        },
        "id": "05d27ef7",
        "solution2": "shown"
      },
      "outputs": [],
      "source": [
        "data_train.loc[(data_train['Age'] > 60) & (data_train['Pclass'] == 3) & (data_train['Survived'] == 1)]"
      ]
    },
    {
      "cell_type": "markdown",
      "id": "82a9ada0",
      "metadata": {
        "id": "82a9ada0",
        "solution2": "shown"
      },
      "source": [
        "**2)**  Ejemplo de manipular columnas y filas de dataframes. Generar un vector con las etiquetas a partir del nombre."
      ]
    },
    {
      "cell_type": "code",
      "execution_count": null,
      "id": "c6c28f26",
      "metadata": {
        "ExecuteTime": {
          "end_time": "2022-02-21T11:32:00.227091Z",
          "start_time": "2022-02-21T11:32:00.213130Z"
        },
        "id": "c6c28f26",
        "solution2": "shown"
      },
      "outputs": [],
      "source": [
        "y_target = data_train['Survived']\n",
        "y_target"
      ]
    },
    {
      "cell_type": "code",
      "execution_count": null,
      "id": "c73da135",
      "metadata": {
        "ExecuteTime": {
          "end_time": "2022-02-21T11:32:00.748080Z",
          "start_time": "2022-02-21T11:32:00.738107Z"
        },
        "id": "c73da135",
        "solution2": "shown"
      },
      "outputs": [],
      "source": [
        "y_target = data_train.loc[:, 'Survived']\n",
        "y_target"
      ]
    },
    {
      "cell_type": "markdown",
      "id": "2c2262fc-66ba-4a4e-b223-9a9a54140913",
      "metadata": {
        "id": "2c2262fc-66ba-4a4e-b223-9a9a54140913"
      },
      "source": [
        "**3)** Generar el vector de etiquetas a partir del número de la columna.  "
      ]
    },
    {
      "cell_type": "code",
      "execution_count": null,
      "id": "b49dbb48",
      "metadata": {
        "ExecuteTime": {
          "end_time": "2022-02-21T11:32:01.299941Z",
          "start_time": "2022-02-21T11:32:01.278002Z"
        },
        "id": "b49dbb48",
        "solution2": "shown"
      },
      "outputs": [],
      "source": [
        "column_names = data_train.columns.to_list()\n",
        "print(column_names)\n",
        "\n",
        "index_survived = column_names.index('Survived')\n",
        "print(index_survived)\n",
        "\n",
        "y_target = data_train.iloc[:,index_survived]\n",
        "y_target"
      ]
    },
    {
      "cell_type": "code",
      "source": [
        "data_train"
      ],
      "metadata": {
        "id": "_ta3KIHek8JU"
      },
      "id": "_ta3KIHek8JU",
      "execution_count": null,
      "outputs": []
    },
    {
      "cell_type": "markdown",
      "id": "c3c447ee",
      "metadata": {
        "id": "c3c447ee"
      },
      "source": [
        "#### Ejercicios:\n",
        " - Identificar el atributo a predecir\n",
        " - Obtener el porcentaje de pasajeros del conjunto de entrenamiento que sobrevivió. ¿Es un problema de clases desbalanceadas?\n",
        " - Identificar los atributos numéricos y categóricos.\n",
        " - En caso de contar con datos categóricos identifique las categorías.\n",
        " - Obtener el porcentaje de pasajeros dentro de cada categoría que sobrevivió. Asegúrese de poder responder preguntas del tipo: ¿Qué porcentaje de mujeres sobrevivieron? ¿Cuál fue el porcentaje de paraseros de primera clase (PClass 1) que sobrevivió?)\n",
        " - Identificar y cuantificar datos faltantes.\n"
      ]
    },
    {
      "cell_type": "code",
      "execution_count": null,
      "id": "d56c7c3a-f76f-472f-a0b9-26a4eb35717c",
      "metadata": {
        "id": "d56c7c3a-f76f-472f-a0b9-26a4eb35717c"
      },
      "outputs": [],
      "source": []
    },
    {
      "cell_type": "markdown",
      "id": "9113b5af",
      "metadata": {
        "id": "9113b5af"
      },
      "source": [
        "## Parte 3 - Descubrir y visualizar los datos para obtener información relevante.  \n"
      ]
    },
    {
      "cell_type": "markdown",
      "id": "5a7429d5",
      "metadata": {
        "id": "5a7429d5"
      },
      "source": [
        " - Explore [métodos de visualización](https://pandas.pydata.org/pandas-docs/stable/reference/api/pandas.DataFrame.plot.html) con **pandas**. Para graficar con *pandas* es necesario importar *matplotlib*. Puede ser útil comparar los histogramas de cada clase contra los histogramas de supervivencia en cada clase.\n",
        " - Estudie la correlación de las características con la etiqueta a predecir. Se sugiere utilizar el método `corr()`.\n",
        " - Concluya que factores tuvieron mayor incidencia en la supervivencia o no de un pasajero."
      ]
    },
    {
      "cell_type": "code",
      "execution_count": null,
      "id": "a362e944",
      "metadata": {
        "id": "a362e944"
      },
      "outputs": [],
      "source": []
    },
    {
      "cell_type": "markdown",
      "id": "76032391",
      "metadata": {
        "ExecuteTime": {
          "end_time": "2022-02-14T13:43:12.322654Z",
          "start_time": "2022-02-14T13:43:12.318666Z"
        },
        "id": "76032391"
      },
      "source": [
        "## Parte 4 - Un Primer Pipeline"
      ]
    },
    {
      "cell_type": "markdown",
      "id": "3321b311",
      "metadata": {
        "id": "3321b311"
      },
      "source": [
        "- Construir un **pipeline** que realice el preprocesamiento de los datos necesario para que éstos puedan ser utilizados por un clasificador de *sklearn*. Dicho preprocesamiento deberá en primera instancia realizar las siguientes tareas:\n",
        "\n",
        "    1. Descartar los atributos *Cabin*, *Name* y *Ticket*.\n",
        "    2. Rellenar datos faltantes con algún criterio elegido"
      ]
    },
    {
      "cell_type": "code",
      "execution_count": null,
      "id": "de5282b0",
      "metadata": {
        "id": "de5282b0"
      },
      "outputs": [],
      "source": []
    },
    {
      "cell_type": "markdown",
      "id": "8b794507",
      "metadata": {
        "id": "8b794507",
        "solution2": "hidden",
        "solution2_first": true
      },
      "source": [
        "- Acceda a los elementos del pipeline. Para acceder a las distintas transformaciones se usa `named_transformers_` y para acceder a los steps de cada transformación `named_steps`  "
      ]
    },
    {
      "cell_type": "code",
      "execution_count": null,
      "id": "cac06e15",
      "metadata": {
        "ExecuteTime": {
          "end_time": "2022-02-21T11:32:41.314068Z",
          "start_time": "2022-02-21T11:32:41.291125Z"
        },
        "id": "cac06e15",
        "solution2": "hidden"
      },
      "outputs": [],
      "source": [
        "preprocessing_pipeline_default.get_feature_names_out()"
      ]
    },
    {
      "cell_type": "code",
      "execution_count": null,
      "id": "9249a1d2",
      "metadata": {
        "ExecuteTime": {
          "end_time": "2022-02-21T11:32:41.977263Z",
          "start_time": "2022-02-21T11:32:41.963303Z"
        },
        "id": "9249a1d2",
        "scrolled": true,
        "solution2": "hidden"
      },
      "outputs": [],
      "source": [
        "preprocessing_pipeline_default.named_transformers_"
      ]
    },
    {
      "cell_type": "code",
      "execution_count": null,
      "id": "0f22c30c",
      "metadata": {
        "ExecuteTime": {
          "end_time": "2022-02-21T11:32:42.722270Z",
          "start_time": "2022-02-21T11:32:42.714294Z"
        },
        "id": "0f22c30c",
        "solution2": "hidden"
      },
      "outputs": [],
      "source": [
        "preprocessing_pipeline_default.named_transformers_['cat'].named_steps['ohe'].categories_"
      ]
    },
    {
      "cell_type": "markdown",
      "id": "0272bb0d",
      "metadata": {
        "id": "0272bb0d"
      },
      "source": [
        "## Parte 5 - Un Segundo Pipeline"
      ]
    },
    {
      "cell_type": "markdown",
      "id": "a16e2a2e",
      "metadata": {
        "id": "a16e2a2e"
      },
      "source": [
        "- Realizar un **pipeline** que utilice como único atributo el género del pasajero."
      ]
    },
    {
      "cell_type": "code",
      "execution_count": null,
      "id": "024f90a7",
      "metadata": {
        "id": "024f90a7"
      },
      "outputs": [],
      "source": []
    },
    {
      "cell_type": "markdown",
      "id": "66340f80",
      "metadata": {
        "id": "66340f80"
      },
      "source": [
        "## Parte 6 - Clasificación con Regresión Logística"
      ]
    },
    {
      "cell_type": "markdown",
      "id": "5ad84773",
      "metadata": {
        "id": "5ad84773"
      },
      "source": [
        "- Con los datos procesados por los pipelines de la Parte 4 y Parte 5 entrenar un modelo de *Regresión Logística* con parámetros por defecto y estimar el desempeño mediante validación cruzada 5-folds.\n",
        "- Observe los desempeños obtenidos. ¿Qué puede decir sobre los datos? ¿Y sobre el modelo?"
      ]
    },
    {
      "cell_type": "code",
      "execution_count": null,
      "id": "6df7145e",
      "metadata": {
        "id": "6df7145e"
      },
      "outputs": [],
      "source": []
    },
    {
      "cell_type": "markdown",
      "id": "2fdb958d",
      "metadata": {
        "ExecuteTime": {
          "end_time": "2022-02-14T14:27:14.408426Z",
          "start_time": "2022-02-14T14:27:14.398454Z"
        },
        "heading_collapsed": true,
        "id": "2fdb958d"
      },
      "source": [
        "## Parte 7 - Busqueda de Hiperparámetros"
      ]
    },
    {
      "cell_type": "markdown",
      "id": "85fa9ade",
      "metadata": {
        "hidden": true,
        "id": "85fa9ade"
      },
      "source": [
        "- Utilizar *Grid Search* para encontrar el valor óptimo del parámetro *C* del mejor clasificador de *Regresión Logística* obtenido de la parte anterior."
      ]
    },
    {
      "cell_type": "code",
      "execution_count": null,
      "id": "3035cc1b",
      "metadata": {
        "hidden": true,
        "id": "3035cc1b"
      },
      "outputs": [],
      "source": []
    },
    {
      "cell_type": "markdown",
      "id": "5fe5e557",
      "metadata": {
        "id": "5fe5e557"
      },
      "source": [
        "## Parte 8 - Guardar Modelo"
      ]
    },
    {
      "cell_type": "markdown",
      "id": "062acf1b",
      "metadata": {
        "id": "062acf1b"
      },
      "source": [
        "- Guarde el modelo obtenido de la parte anterior.\n",
        "\n",
        "*Observación: Es usual que entrenar modelos tome un tiempo considerable por lo que el guardado del modelo resulta de vital importancia.*"
      ]
    },
    {
      "cell_type": "code",
      "execution_count": null,
      "id": "0e64efe9",
      "metadata": {
        "id": "0e64efe9"
      },
      "outputs": [],
      "source": []
    },
    {
      "cell_type": "markdown",
      "id": "0a8595f3",
      "metadata": {
        "id": "0a8595f3"
      },
      "source": [
        "## Parte 9 - Generar predicciones en conjunto de test"
      ]
    },
    {
      "cell_type": "markdown",
      "id": "979a7d96",
      "metadata": {
        "id": "979a7d96"
      },
      "source": [
        "- Levante el modelo guardado en la parte anterior.\n",
        "- Genere las predicciones con el conjunto de test."
      ]
    },
    {
      "cell_type": "code",
      "execution_count": null,
      "id": "c928ca95",
      "metadata": {
        "id": "c928ca95"
      },
      "outputs": [],
      "source": []
    },
    {
      "cell_type": "markdown",
      "id": "15114419",
      "metadata": {
        "id": "15114419"
      },
      "source": [
        "## Parte 10 - Generar una Kaggle Submission"
      ]
    },
    {
      "cell_type": "markdown",
      "id": "2d2cf97f",
      "metadata": {
        "id": "2d2cf97f"
      },
      "source": [
        "- Generar una Kaggle Submission utilizando las prediciones obtenidas en el conjunto de Test. Puede ver un ejemplo de como hacerlo [aquí](https://www.kaggle.com/jlawman/complete-beginner-your-first-titanic-submission?scriptVersionId=1700267&cellId=17)."
      ]
    },
    {
      "cell_type": "code",
      "execution_count": null,
      "id": "58fda0e6",
      "metadata": {
        "id": "58fda0e6"
      },
      "outputs": [],
      "source": []
    },
    {
      "cell_type": "markdown",
      "id": "93fa6c11",
      "metadata": {
        "id": "93fa6c11"
      },
      "source": [
        "Una vez generado el archivo *.csv*, la submission se puede realizar subiendo directamente el archivo a la página de Kaggle o desde la línea de comandos como:\n",
        "\n",
        "`!kaggle competitions submit -c [COMPETITION] -f [FILE] -m [MESSAGE]`  "
      ]
    },
    {
      "cell_type": "code",
      "execution_count": null,
      "id": "78dd9be5",
      "metadata": {
        "id": "78dd9be5"
      },
      "outputs": [],
      "source": [
        "!kaggle competitions submit -c titanic -f my_first_titanic_predictions.csv -m primer_submission"
      ]
    },
    {
      "cell_type": "markdown",
      "id": "ddd83801",
      "metadata": {
        "ExecuteTime": {
          "end_time": "2022-02-14T15:13:41.567355Z",
          "start_time": "2022-02-14T15:13:41.549405Z"
        },
        "id": "ddd83801"
      },
      "source": [
        "## Parte 11 - En busca de un mejor modelo"
      ]
    },
    {
      "cell_type": "markdown",
      "id": "1037f7d6",
      "metadata": {
        "id": "1037f7d6"
      },
      "source": [
        "- Generar un nuevo **pipeline** y evaluar si éste genera un mejor clasificador. Algunas de las opciones que se pueden explorar son las siguientes:\n",
        "    * Evaluar la característica Pclass como dato numérico, ordinal o categórico.    \n",
        "    * Estudiar qué escalado sirve en los atributos numéricos   \n",
        "    * Agregar nuevas características y/o sustituir las existentes. Por ejemplo:   \n",
        "        - Reemplazar *SibSp* y *Parch* por la suma     \n",
        "        - Discretizar algún atributo numérico, por ejemplo la edad.\n",
        "    * Estudiar algún modelo alternativo (*Se sugiere experimentar con SVM o RandomForestClassifier*)\n",
        "    * Construir un **pipeline** que permita determinar automáticamente qué grupo de características utilizar y qué estrategia seguir para lidiar con datos faltantes."
      ]
    },
    {
      "cell_type": "code",
      "execution_count": null,
      "id": "0ff34288",
      "metadata": {
        "id": "0ff34288"
      },
      "outputs": [],
      "source": []
    }
  ],
  "metadata": {
    "colab": {
      "provenance": []
    },
    "kernelspec": {
      "display_name": "Python 3 (ipykernel)",
      "language": "python",
      "name": "python3"
    },
    "language_info": {
      "codemirror_mode": {
        "name": "ipython",
        "version": 3
      },
      "file_extension": ".py",
      "mimetype": "text/x-python",
      "name": "python",
      "nbconvert_exporter": "python",
      "pygments_lexer": "ipython3",
      "version": "3.11.8"
    },
    "toc": {
      "base_numbering": 1,
      "nav_menu": {},
      "number_sections": true,
      "sideBar": true,
      "skip_h1_title": false,
      "title_cell": "Table of Contents",
      "title_sidebar": "Contents",
      "toc_cell": false,
      "toc_position": {},
      "toc_section_display": true,
      "toc_window_display": false
    },
    "varInspector": {
      "cols": {
        "lenName": 16,
        "lenType": 16,
        "lenVar": 40
      },
      "kernels_config": {
        "python": {
          "delete_cmd_postfix": "",
          "delete_cmd_prefix": "del ",
          "library": "var_list.py",
          "varRefreshCmd": "print(var_dic_list())"
        },
        "r": {
          "delete_cmd_postfix": ") ",
          "delete_cmd_prefix": "rm(",
          "library": "var_list.r",
          "varRefreshCmd": "cat(var_dic_list()) "
        }
      },
      "position": {
        "height": "484.844px",
        "left": "725px",
        "right": "20px",
        "top": "118px",
        "width": "514px"
      },
      "types_to_exclude": [
        "module",
        "function",
        "builtin_function_or_method",
        "instance",
        "_Feature"
      ],
      "window_display": false
    }
  },
  "nbformat": 4,
  "nbformat_minor": 5
}