{
 "cells": [
  {
   "cell_type": "markdown",
   "id": "56e6df09",
   "metadata": {
    "id": "56e6df09"
   },
   "source": [
    "#  <center> Taller  de Aprendizaje Automático </center>\n",
    "##  <center> Taller 1: Titanic  </center>"
   ]
  },
  {
   "cell_type": "markdown",
   "id": "641ec10d",
   "metadata": {
    "id": "641ec10d"
   },
   "source": [
    "En esta actividad se trabajará con el dataset [Titanic](https://www.kaggle.com/c/titanic/overview) disponible en Kaggle. El objetivo es predecir si un pasajero sobrevivirá a partir de atributos personales. La descripción de los atributos se encuentra en la misma [página](https://www.kaggle.com/c/titanic/data) en que se pueden bajar los datos."
   ]
  },
  {
   "cell_type": "markdown",
   "id": "cf515408",
   "metadata": {
    "id": "cf515408"
   },
   "source": [
    "## Objetivos Generales del Taller\n",
    " - Abordar un problema de aprendizaje automático de punta a punta\n",
    " - Familiarizarse con la biblioteca **pandas** para levantar y explorar los datos\n",
    " - Familiarizarse con los **pipelines** de **scikit-learn** como una forma de resolver un problema en forma ordenada."
   ]
  },
  {
   "cell_type": "markdown",
   "id": "dce3faac",
   "metadata": {
    "id": "dce3faac"
   },
   "source": [
    "## Formas de trabajo\n",
    "\n",
    "Se podrá elegir entre dos formas de trabajo: instalación local o Colab. Para trabajar en clase Colab es completamente adecuado. Para ejecutar corridas que demanden mucho tiempo (por ejemplo, búsqueda de hiperparámetros) puede ser conveniente trabajar localmente. A continuación se explica cómo proceder en cada caso. Cualquiera sea la elección se recomienda trabajar con `scikit-learn>1.1.0`."
   ]
  },
  {
   "cell_type": "markdown",
   "id": "bd1f2c8d",
   "metadata": {
    "id": "bd1f2c8d"
   },
   "source": [
    "### Opción 1: Trabajar localmente"
   ]
  },
  {
   "cell_type": "markdown",
   "id": "6a69d951",
   "metadata": {
    "id": "6a69d951"
   },
   "source": [
    "####  Ambiente de Trabajo"
   ]
  },
  {
   "cell_type": "markdown",
   "id": "5337d0a6",
   "metadata": {
    "id": "5337d0a6"
   },
   "source": [
    "Deberá trabajar en su propio ambiente de desarrollo. Ej: **conda environment**.  En caso de no contar con uno deberá crearlo ejecutando la siguiente línea de comando:\n",
    "\n",
    "`conda create -n TAA-py311 python=3.11`  \n",
    "\n",
    "Una vez creado se procede a activarlo:\n",
    "\n",
    "`conda activate TAA-py311`  \n",
    "\n",
    "Una vez activado se instalan en el entorno los paquetes que se utilizaran:\n",
    "\n",
    "`pip install numpy matplotlib pandas \"scikit-learn>1.1.0\" notebook`   \n",
    "\n",
    "Una vez finalizada la instalación abra el Jupyter Notebook:\n",
    "\n",
    "`jupyter-notebook`"
   ]
  },
  {
   "cell_type": "markdown",
   "id": "71a72bc4",
   "metadata": {
    "id": "71a72bc4"
   },
   "source": [
    "Los paquetes faltantes se pueden instalar desde el notebook haciendo:    \n",
    "\n",
    "`!pip install paquete_faltante`"
   ]
  },
  {
   "cell_type": "markdown",
   "id": "e83900c9",
   "metadata": {
    "id": "e83900c9"
   },
   "source": [
    "####  Configuración del API token"
   ]
  },
  {
   "cell_type": "markdown",
   "id": "0f84354a",
   "metadata": {
    "id": "0f84354a"
   },
   "source": [
    "A continuación, vaya a su cuenta de [Kaggle](https://www.kaggle.com/) (o cree una si aún no lo ha hecho), haga clic en el icono de perfil en la esquina superior derecha de la pantalla y seleccione \"Your Account\" en la lista desplegable. Luego, seleccione la viñeta \"Account\" y haga clic en \"Create new API token\". Entonces un archivo llamado kaggle.json se descargará automáticamente a su carpeta de descargas. Este archivo contiene sus credenciales de inicio de sesión para permitirle acceder a la API."
   ]
  },
  {
   "cell_type": "markdown",
   "id": "5679841f",
   "metadata": {
    "id": "5679841f"
   },
   "source": [
    "Cree (en caso de no existir) la carpeta `.kaggle`. Modifique *nombre_usuario* por el nombre del usuario donde está trabajando."
   ]
  },
  {
   "cell_type": "code",
   "execution_count": 5,
   "id": "daa56599",
   "metadata": {
    "id": "daa56599"
   },
   "outputs": [
    {
     "name": "stderr",
     "output_type": "stream",
     "text": [
      "Ya existe el subdirectorio o el archivo C:\\Users\\ureca\\.kaggle.\n"
     ]
    }
   ],
   "source": [
    "!mkdir C:\\Users\\ureca\\.kaggle"
   ]
  },
  {
   "cell_type": "markdown",
   "id": "b656757b",
   "metadata": {
    "id": "b656757b"
   },
   "source": [
    "Mueva el archivo descargado a la carpeta creada."
   ]
  },
  {
   "cell_type": "code",
   "execution_count": 6,
   "id": "f53f7709",
   "metadata": {
    "id": "f53f7709"
   },
   "outputs": [
    {
     "name": "stdout",
     "output_type": "stream",
     "text": [
      "Se han movido         1 archivos.\n"
     ]
    }
   ],
   "source": [
    "#Comando en Windows\n",
    "!move C:\\Users\\ureca\\Downloads\\kaggle.json C:\\Users\\ureca\\.kaggle\n",
    "\n",
    "#Comando en Linux\n",
    "# !mv C:\\Users\\nombre_usuario\\Downloads\\kaggle.json /home/nombre_usuario/.kaggle"
   ]
  },
  {
   "cell_type": "markdown",
   "id": "634e8a7b",
   "metadata": {
    "id": "634e8a7b",
    "jp-MarkdownHeadingCollapsed": true
   },
   "source": [
    "### Opción 2:  Trabajar en *Colab*."
   ]
  },
  {
   "cell_type": "markdown",
   "id": "a1ee4a73",
   "metadata": {
    "id": "a1ee4a73"
   },
   "source": [
    "Se puede trabajar en Google Colab. Para ello es necesario contar con una cuenta de **google drive** y ejecutar un notebook almacenado en dicha cuenta. De lo contrario, no se conservarán los cambios realizados en la sesión. En caso de ya contar con una cuenta, se puede abrir el notebook y luego ir a `Archivo-->Guardar una copia en drive`.  \n",
    "\n",
    "<table align=\"left\">\n",
    "  <td>\n",
    "    <a target=\"_blank\" href=\"https://colab.research.google.com/github/TAA-fing/TAA-2025/blob/main/talleres/taller1_titanic.ipynb\"><img src=\"https://www.tensorflow.org/images/colab_logo_32px.png\" />Ejecutar en Google Colab</a>\n",
    "  </td>\n",
    "</table>"
   ]
  },
  {
   "cell_type": "markdown",
   "id": "a637c9fa",
   "metadata": {
    "id": "a637c9fa"
   },
   "source": [
    "La siguiente celda monta el disco personal del drive:"
   ]
  },
  {
   "cell_type": "code",
   "execution_count": null,
   "id": "7a541d79",
   "metadata": {
    "id": "7a541d79"
   },
   "outputs": [],
   "source": [
    "from google.colab import drive\n",
    "drive.mount('/content/drive')"
   ]
  },
  {
   "cell_type": "markdown",
   "id": "7559ffd0-b664-4a65-aef7-7a7107a8b487",
   "metadata": {
    "id": "7559ffd0-b664-4a65-aef7-7a7107a8b487"
   },
   "source": [
    "####  Configuración del API token en Colab"
   ]
  },
  {
   "cell_type": "markdown",
   "id": "6d5f5528",
   "metadata": {
    "id": "6d5f5528"
   },
   "source": [
    "A continuación, vaya a su cuenta de [Kaggle](https://www.kaggle.com/) (o cree una si aún no lo ha hecho), haga clic en el icono de perfil en la esquina superior derecha de la pantalla y seleccione \"Your Account\" en la lista desplegable. Luego, seleccione la viñeta \"Settings\" y en la sección API haga clic en \"Create new token\". Entonces un archivo llamado kaggle.json se descargará automáticamente a su carpeta de descargas. Este archivo contiene sus credenciales de inicio de sesión para permitirle acceder a la API."
   ]
  },
  {
   "cell_type": "markdown",
   "id": "1034537a",
   "metadata": {
    "id": "1034537a"
   },
   "source": [
    "La siguiente celda realiza la configuración necesaria para obtener datos desde la plataforma Kaggle. Le solicitará que suba el archivo kaggle.json descargado anteriormente."
   ]
  },
  {
   "cell_type": "code",
   "execution_count": null,
   "id": "49aaa7fd",
   "metadata": {
    "id": "49aaa7fd"
   },
   "outputs": [],
   "source": [
    "import warnings\n",
    "warnings.filterwarnings('ignore')\n",
    "from google.colab import files\n",
    "\n",
    "# El siguiente archivo solicitado es para habilitar la API de Kaggle en el entorno que está trabajando.\n",
    "# Este archivo se descarga entrando a su perfíl de Kaggle, en la sección Settings/API, presionando donde dice: Create New Token\n",
    "\n",
    "uploaded = files.upload()\n",
    "\n",
    "for fn in uploaded.keys():\n",
    "    print('User uploaded file \"{name}\" with length {length} bytes'.format(\n",
    "      name=fn, length=len(uploaded[fn])))\n",
    "\n",
    "#Then move kaggle.json into the folder where the API expects to find it.\n",
    "!mkdir -p ~/.kaggle/ && mv kaggle.json ~/.kaggle/ && chmod 600 ~/.kaggle/kaggle.json"
   ]
  },
  {
   "cell_type": "markdown",
   "id": "f029977e-fb92-4680-8b71-2a4bcf26ff57",
   "metadata": {
    "id": "f029977e-fb92-4680-8b71-2a4bcf26ff57"
   },
   "source": [
    "## Descarga de los datos"
   ]
  },
  {
   "cell_type": "markdown",
   "id": "d82f8112-3316-4325-869f-693ae24ff829",
   "metadata": {
    "id": "d82f8112-3316-4325-869f-693ae24ff829"
   },
   "source": [
    "###  Unirse a la competición"
   ]
  },
  {
   "cell_type": "markdown",
   "id": "25b171b7-ee0b-43a2-be69-5ada231a1146",
   "metadata": {
    "id": "25b171b7-ee0b-43a2-be69-5ada231a1146"
   },
   "source": [
    "Vaya a la competición de [Titanic](https://www.kaggle.com/c/titanic) en Kaggle y presione **Join Competition**."
   ]
  },
  {
   "cell_type": "markdown",
   "id": "d50f73ee-3d4d-4ca8-9ed6-ec93b14c8b64",
   "metadata": {
    "id": "d50f73ee-3d4d-4ca8-9ed6-ec93b14c8b64"
   },
   "source": [
    "###  Instalar el paquete *kaggle*"
   ]
  },
  {
   "cell_type": "markdown",
   "id": "ab102661",
   "metadata": {
    "id": "ab102661"
   },
   "source": [
    "Para obtener los datos de Kaggle primero se instalará la librería de **Kaggle**"
   ]
  },
  {
   "cell_type": "code",
   "execution_count": 1,
   "id": "b3e53070",
   "metadata": {
    "ExecuteTime": {
     "end_time": "2023-03-08T11:54:51.678223Z",
     "start_time": "2023-03-08T11:54:50.184110Z"
    },
    "id": "b3e53070",
    "scrolled": true
   },
   "outputs": [
    {
     "name": "stdout",
     "output_type": "stream",
     "text": [
      "Collecting kaggle\n",
      "  Downloading kaggle-1.7.4.1-py3-none-any.whl.metadata (16 kB)\n",
      "Requirement already satisfied: bleach in c:\\users\\ureca\\miniconda3\\envs\\taa-py311\\lib\\site-packages (from kaggle) (6.2.0)\n",
      "Requirement already satisfied: certifi>=14.05.14 in c:\\users\\ureca\\miniconda3\\envs\\taa-py311\\lib\\site-packages (from kaggle) (2025.1.31)\n",
      "Requirement already satisfied: charset-normalizer in c:\\users\\ureca\\miniconda3\\envs\\taa-py311\\lib\\site-packages (from kaggle) (3.4.1)\n",
      "Requirement already satisfied: idna in c:\\users\\ureca\\miniconda3\\envs\\taa-py311\\lib\\site-packages (from kaggle) (3.10)\n",
      "Collecting protobuf (from kaggle)\n",
      "  Downloading protobuf-6.30.1-cp310-abi3-win_amd64.whl.metadata (593 bytes)\n",
      "Requirement already satisfied: python-dateutil>=2.5.3 in c:\\users\\ureca\\miniconda3\\envs\\taa-py311\\lib\\site-packages (from kaggle) (2.9.0.post0)\n",
      "Collecting python-slugify (from kaggle)\n",
      "  Downloading python_slugify-8.0.4-py2.py3-none-any.whl.metadata (8.5 kB)\n",
      "Requirement already satisfied: requests in c:\\users\\ureca\\miniconda3\\envs\\taa-py311\\lib\\site-packages (from kaggle) (2.32.3)\n",
      "Requirement already satisfied: setuptools>=21.0.0 in c:\\users\\ureca\\miniconda3\\envs\\taa-py311\\lib\\site-packages (from kaggle) (75.8.0)\n",
      "Requirement already satisfied: six>=1.10 in c:\\users\\ureca\\miniconda3\\envs\\taa-py311\\lib\\site-packages (from kaggle) (1.17.0)\n",
      "Collecting text-unidecode (from kaggle)\n",
      "  Downloading text_unidecode-1.3-py2.py3-none-any.whl.metadata (2.4 kB)\n",
      "Collecting tqdm (from kaggle)\n",
      "  Downloading tqdm-4.67.1-py3-none-any.whl.metadata (57 kB)\n",
      "Requirement already satisfied: urllib3>=1.15.1 in c:\\users\\ureca\\miniconda3\\envs\\taa-py311\\lib\\site-packages (from kaggle) (2.3.0)\n",
      "Requirement already satisfied: webencodings in c:\\users\\ureca\\miniconda3\\envs\\taa-py311\\lib\\site-packages (from kaggle) (0.5.1)\n",
      "Requirement already satisfied: colorama in c:\\users\\ureca\\miniconda3\\envs\\taa-py311\\lib\\site-packages (from tqdm->kaggle) (0.4.6)\n",
      "Downloading kaggle-1.7.4.1-py3-none-any.whl (173 kB)\n",
      "Downloading protobuf-6.30.1-cp310-abi3-win_amd64.whl (431 kB)\n",
      "Downloading python_slugify-8.0.4-py2.py3-none-any.whl (10 kB)\n",
      "Downloading text_unidecode-1.3-py2.py3-none-any.whl (78 kB)\n",
      "Downloading tqdm-4.67.1-py3-none-any.whl (78 kB)\n",
      "Installing collected packages: text-unidecode, tqdm, python-slugify, protobuf, kaggle\n",
      "Successfully installed kaggle-1.7.4.1 protobuf-6.30.1 python-slugify-8.0.4 text-unidecode-1.3 tqdm-4.67.1\n"
     ]
    }
   ],
   "source": [
    "!pip install kaggle"
   ]
  },
  {
   "cell_type": "markdown",
   "id": "8d0de337",
   "metadata": {
    "id": "8d0de337"
   },
   "source": [
    "Si la instalación fue exitosa, el siguiente comando debería mostrar una lista de todas las competiciones activas de Kaggle."
   ]
  },
  {
   "cell_type": "code",
   "execution_count": 1,
   "id": "b769ca4a",
   "metadata": {
    "id": "b769ca4a"
   },
   "outputs": [
    {
     "name": "stdout",
     "output_type": "stream",
     "text": [
      "ref                                                                               deadline             category                reward  teamCount  userHasEntered  \n",
      "--------------------------------------------------------------------------------  -------------------  ---------------  -------------  ---------  --------------  \n",
      "https://www.kaggle.com/competitions/ai-mathematical-olympiad-progress-prize-2     2025-04-01 23:59:00  Featured         2,117,152 Usd       2124           False  \n",
      "https://www.kaggle.com/competitions/konwinski-prize                               2025-03-16 23:59:00  Featured         1,225,000 Usd        617           False  \n",
      "https://www.kaggle.com/competitions/stanford-rna-3d-folding                       2025-05-29 23:59:00  Featured            75,000 Usd        572           False  \n",
      "https://www.kaggle.com/competitions/byu-locating-bacterial-flagellar-motors-2025  2025-06-04 23:59:00  Research            65,000 Usd        315           False  \n",
      "https://www.kaggle.com/competitions/march-machine-learning-mania-2025             2025-03-20 16:00:00  Featured            50,000 Usd        910           False  \n",
      "https://www.kaggle.com/competitions/drawing-with-llms                             2025-05-27 23:59:00  Featured            50,000 Usd        518           False  \n",
      "https://www.kaggle.com/competitions/birdclef-2025                                 2025-06-05 23:59:00  Research            50,000 Usd        211           False  \n",
      "https://www.kaggle.com/competitions/playground-series-s5e3                        2025-03-31 23:59:00  Playground                Swag       2580           False  \n",
      "https://www.kaggle.com/competitions/titanic                                       2030-01-01 00:00:00  Getting Started      Knowledge      15306           False  \n",
      "https://www.kaggle.com/competitions/home-data-for-ml-course                       2030-01-01 23:59:00  Getting Started      Knowledge       7038           False  \n",
      "https://www.kaggle.com/competitions/house-prices-advanced-regression-techniques   2030-01-01 00:00:00  Getting Started      Knowledge       3885           False  \n",
      "https://www.kaggle.com/competitions/spaceship-titanic                             2030-01-01 00:00:00  Getting Started      Knowledge       1817           False  \n",
      "https://www.kaggle.com/competitions/digit-recognizer                              2030-01-01 00:00:00  Getting Started      Knowledge       1115           False  \n",
      "https://www.kaggle.com/competitions/nlp-getting-started                           2030-01-01 00:00:00  Getting Started      Knowledge        763           False  \n",
      "https://www.kaggle.com/competitions/store-sales-time-series-forecasting           2030-06-30 23:59:00  Getting Started      Knowledge        629           False  \n",
      "https://www.kaggle.com/competitions/connectx                                      2030-01-01 00:00:00  Getting Started      Knowledge        213           False  \n",
      "https://www.kaggle.com/competitions/llm-classification-finetuning                 2030-07-01 23:59:00  Getting Started      Knowledge         97           False  \n",
      "https://www.kaggle.com/competitions/gan-getting-started                           2030-07-01 23:59:00  Getting Started      Knowledge         94           False  \n",
      "https://www.kaggle.com/competitions/contradictory-my-dear-watson                  2030-07-01 23:59:00  Getting Started      Knowledge         29           False  \n",
      "https://www.kaggle.com/competitions/tpu-getting-started                           2030-06-03 23:59:00  Getting Started      Knowledge         24           False  \n"
     ]
    }
   ],
   "source": [
    "!kaggle competitions list"
   ]
  },
  {
   "cell_type": "markdown",
   "id": "87bb5824-2df1-400c-ae4e-a95ea5647a8f",
   "metadata": {
    "id": "87bb5824-2df1-400c-ae4e-a95ea5647a8f"
   },
   "source": [
    "####  Descargar y descomprimir los datos"
   ]
  },
  {
   "cell_type": "markdown",
   "id": "d9032e65",
   "metadata": {
    "id": "d9032e65"
   },
   "source": [
    "Ejecutar el siguiente comando para bajar los datos de la competencia *titanic*."
   ]
  },
  {
   "cell_type": "code",
   "execution_count": 8,
   "id": "de5aee66",
   "metadata": {
    "id": "de5aee66"
   },
   "outputs": [],
   "source": [
    "!kaggle competitions download -c titanic"
   ]
  },
  {
   "cell_type": "markdown",
   "id": "7ca61700",
   "metadata": {
    "id": "7ca61700"
   },
   "source": [
    "Descomprima el archivo descargado:"
   ]
  },
  {
   "cell_type": "code",
   "execution_count": 9,
   "id": "5891d0bb",
   "metadata": {
    "id": "5891d0bb"
   },
   "outputs": [
    {
     "name": "stdout",
     "output_type": "stream",
     "text": [
      "Archive:  titanic.zip\n",
      "  inflating: gender_submission.csv   \n",
      "  inflating: test.csv                \n",
      "  inflating: train.csv               \n"
     ]
    }
   ],
   "source": [
    "# Forma 1\n",
    "!unzip titanic.zip\n",
    "\n",
    "# Forma 2\n",
    "# import zipfile\n",
    "# with zipfile.ZipFile(\"titanic.zip\",\"r\") as zip_ref:\n",
    "#     zip_ref.extractall(\"./\")"
   ]
  },
  {
   "cell_type": "markdown",
   "id": "e1ad0f59",
   "metadata": {
    "id": "e1ad0f59"
   },
   "source": [
    "##  Parte 1 - Carga de datos"
   ]
  },
  {
   "cell_type": "markdown",
   "id": "cc06be81",
   "metadata": {
    "id": "cc06be81"
   },
   "source": [
    "#### Ejercicios:\n",
    "\n",
    " - Levantar el conjunto de entrenamiento utilizando el método `read_csv()` de la biblioteca **pandas**.\n",
    " - Explorar los métodos `head()`, `info()` y `describe()` para obtener información relevante de los datos."
   ]
  },
  {
   "cell_type": "code",
   "execution_count": 2,
   "id": "36125d16-15eb-43b1-94e1-692f7aa75c90",
   "metadata": {
    "id": "36125d16-15eb-43b1-94e1-692f7aa75c90"
   },
   "outputs": [],
   "source": [
    "import pandas as pd\n",
    "data_train = pd.read_csv('train.csv')"
   ]
  },
  {
   "cell_type": "markdown",
   "id": "4c36e4b4",
   "metadata": {
    "id": "4c36e4b4"
   },
   "source": [
    "## Parte 2 - Exploración con pandas"
   ]
  },
  {
   "cell_type": "markdown",
   "id": "78b551e2",
   "metadata": {
    "id": "78b551e2",
    "solution2": "shown",
    "solution2_first": true
   },
   "source": [
    "#### Ejemplos de manipulación con Pandas  "
   ]
  },
  {
   "cell_type": "markdown",
   "id": "29fe4d41",
   "metadata": {
    "id": "29fe4d41",
    "solution2": "shown"
   },
   "source": [
    "**1)** Ejemplo de filtrado utilizando `df.loc[..]`. ¿Quiénes eran los pasajeros mayores de 60 años que viajaban en tercera clase? ¿Cuáles sobrevivieron?"
   ]
  },
  {
   "cell_type": "code",
   "execution_count": 11,
   "id": "d96579c7",
   "metadata": {
    "ExecuteTime": {
     "end_time": "2022-02-21T11:31:58.517283Z",
     "start_time": "2022-02-21T11:31:58.493347Z"
    },
    "id": "d96579c7",
    "solution2": "shown"
   },
   "outputs": [
    {
     "data": {
      "text/html": [
       "<div>\n",
       "<style scoped>\n",
       "    .dataframe tbody tr th:only-of-type {\n",
       "        vertical-align: middle;\n",
       "    }\n",
       "\n",
       "    .dataframe tbody tr th {\n",
       "        vertical-align: top;\n",
       "    }\n",
       "\n",
       "    .dataframe thead th {\n",
       "        text-align: right;\n",
       "    }\n",
       "</style>\n",
       "<table border=\"1\" class=\"dataframe\">\n",
       "  <thead>\n",
       "    <tr style=\"text-align: right;\">\n",
       "      <th></th>\n",
       "      <th>PassengerId</th>\n",
       "      <th>Survived</th>\n",
       "      <th>Pclass</th>\n",
       "      <th>Name</th>\n",
       "      <th>Sex</th>\n",
       "      <th>Age</th>\n",
       "      <th>SibSp</th>\n",
       "      <th>Parch</th>\n",
       "      <th>Ticket</th>\n",
       "      <th>Fare</th>\n",
       "      <th>Cabin</th>\n",
       "      <th>Embarked</th>\n",
       "    </tr>\n",
       "  </thead>\n",
       "  <tbody>\n",
       "    <tr>\n",
       "      <th>116</th>\n",
       "      <td>117</td>\n",
       "      <td>0</td>\n",
       "      <td>3</td>\n",
       "      <td>Connors, Mr. Patrick</td>\n",
       "      <td>male</td>\n",
       "      <td>70.5</td>\n",
       "      <td>0</td>\n",
       "      <td>0</td>\n",
       "      <td>370369</td>\n",
       "      <td>7.7500</td>\n",
       "      <td>NaN</td>\n",
       "      <td>Q</td>\n",
       "    </tr>\n",
       "    <tr>\n",
       "      <th>280</th>\n",
       "      <td>281</td>\n",
       "      <td>0</td>\n",
       "      <td>3</td>\n",
       "      <td>Duane, Mr. Frank</td>\n",
       "      <td>male</td>\n",
       "      <td>65.0</td>\n",
       "      <td>0</td>\n",
       "      <td>0</td>\n",
       "      <td>336439</td>\n",
       "      <td>7.7500</td>\n",
       "      <td>NaN</td>\n",
       "      <td>Q</td>\n",
       "    </tr>\n",
       "    <tr>\n",
       "      <th>326</th>\n",
       "      <td>327</td>\n",
       "      <td>0</td>\n",
       "      <td>3</td>\n",
       "      <td>Nysveen, Mr. Johan Hansen</td>\n",
       "      <td>male</td>\n",
       "      <td>61.0</td>\n",
       "      <td>0</td>\n",
       "      <td>0</td>\n",
       "      <td>345364</td>\n",
       "      <td>6.2375</td>\n",
       "      <td>NaN</td>\n",
       "      <td>S</td>\n",
       "    </tr>\n",
       "    <tr>\n",
       "      <th>483</th>\n",
       "      <td>484</td>\n",
       "      <td>1</td>\n",
       "      <td>3</td>\n",
       "      <td>Turkula, Mrs. (Hedwig)</td>\n",
       "      <td>female</td>\n",
       "      <td>63.0</td>\n",
       "      <td>0</td>\n",
       "      <td>0</td>\n",
       "      <td>4134</td>\n",
       "      <td>9.5875</td>\n",
       "      <td>NaN</td>\n",
       "      <td>S</td>\n",
       "    </tr>\n",
       "    <tr>\n",
       "      <th>851</th>\n",
       "      <td>852</td>\n",
       "      <td>0</td>\n",
       "      <td>3</td>\n",
       "      <td>Svensson, Mr. Johan</td>\n",
       "      <td>male</td>\n",
       "      <td>74.0</td>\n",
       "      <td>0</td>\n",
       "      <td>0</td>\n",
       "      <td>347060</td>\n",
       "      <td>7.7750</td>\n",
       "      <td>NaN</td>\n",
       "      <td>S</td>\n",
       "    </tr>\n",
       "  </tbody>\n",
       "</table>\n",
       "</div>"
      ],
      "text/plain": [
       "     PassengerId  Survived  Pclass                       Name     Sex   Age  \\\n",
       "116          117         0       3       Connors, Mr. Patrick    male  70.5   \n",
       "280          281         0       3           Duane, Mr. Frank    male  65.0   \n",
       "326          327         0       3  Nysveen, Mr. Johan Hansen    male  61.0   \n",
       "483          484         1       3     Turkula, Mrs. (Hedwig)  female  63.0   \n",
       "851          852         0       3        Svensson, Mr. Johan    male  74.0   \n",
       "\n",
       "     SibSp  Parch  Ticket    Fare Cabin Embarked  \n",
       "116      0      0  370369  7.7500   NaN        Q  \n",
       "280      0      0  336439  7.7500   NaN        Q  \n",
       "326      0      0  345364  6.2375   NaN        S  \n",
       "483      0      0    4134  9.5875   NaN        S  \n",
       "851      0      0  347060  7.7750   NaN        S  "
      ]
     },
     "execution_count": 11,
     "metadata": {},
     "output_type": "execute_result"
    }
   ],
   "source": [
    "data_train.loc[(data_train['Age'] > 60) & (data_train['Pclass'] == 3)]"
   ]
  },
  {
   "cell_type": "code",
   "execution_count": 12,
   "id": "05d27ef7",
   "metadata": {
    "ExecuteTime": {
     "end_time": "2022-02-21T11:31:59.100114Z",
     "start_time": "2022-02-21T11:31:59.077168Z"
    },
    "id": "05d27ef7",
    "solution2": "shown"
   },
   "outputs": [
    {
     "data": {
      "text/html": [
       "<div>\n",
       "<style scoped>\n",
       "    .dataframe tbody tr th:only-of-type {\n",
       "        vertical-align: middle;\n",
       "    }\n",
       "\n",
       "    .dataframe tbody tr th {\n",
       "        vertical-align: top;\n",
       "    }\n",
       "\n",
       "    .dataframe thead th {\n",
       "        text-align: right;\n",
       "    }\n",
       "</style>\n",
       "<table border=\"1\" class=\"dataframe\">\n",
       "  <thead>\n",
       "    <tr style=\"text-align: right;\">\n",
       "      <th></th>\n",
       "      <th>PassengerId</th>\n",
       "      <th>Survived</th>\n",
       "      <th>Pclass</th>\n",
       "      <th>Name</th>\n",
       "      <th>Sex</th>\n",
       "      <th>Age</th>\n",
       "      <th>SibSp</th>\n",
       "      <th>Parch</th>\n",
       "      <th>Ticket</th>\n",
       "      <th>Fare</th>\n",
       "      <th>Cabin</th>\n",
       "      <th>Embarked</th>\n",
       "    </tr>\n",
       "  </thead>\n",
       "  <tbody>\n",
       "    <tr>\n",
       "      <th>483</th>\n",
       "      <td>484</td>\n",
       "      <td>1</td>\n",
       "      <td>3</td>\n",
       "      <td>Turkula, Mrs. (Hedwig)</td>\n",
       "      <td>female</td>\n",
       "      <td>63.0</td>\n",
       "      <td>0</td>\n",
       "      <td>0</td>\n",
       "      <td>4134</td>\n",
       "      <td>9.5875</td>\n",
       "      <td>NaN</td>\n",
       "      <td>S</td>\n",
       "    </tr>\n",
       "  </tbody>\n",
       "</table>\n",
       "</div>"
      ],
      "text/plain": [
       "     PassengerId  Survived  Pclass                    Name     Sex   Age  \\\n",
       "483          484         1       3  Turkula, Mrs. (Hedwig)  female  63.0   \n",
       "\n",
       "     SibSp  Parch Ticket    Fare Cabin Embarked  \n",
       "483      0      0   4134  9.5875   NaN        S  "
      ]
     },
     "execution_count": 12,
     "metadata": {},
     "output_type": "execute_result"
    }
   ],
   "source": [
    "data_train.loc[(data_train['Age'] > 60) & (data_train['Pclass'] == 3) & (data_train['Survived'] == 1)]"
   ]
  },
  {
   "cell_type": "markdown",
   "id": "82a9ada0",
   "metadata": {
    "id": "82a9ada0",
    "solution2": "shown"
   },
   "source": [
    "**2)**  Ejemplo de manipular columnas y filas de dataframes. Generar un vector con las etiquetas a partir del nombre."
   ]
  },
  {
   "cell_type": "code",
   "execution_count": 52,
   "id": "c6c28f26",
   "metadata": {
    "ExecuteTime": {
     "end_time": "2022-02-21T11:32:00.227091Z",
     "start_time": "2022-02-21T11:32:00.213130Z"
    },
    "id": "c6c28f26",
    "solution2": "shown"
   },
   "outputs": [
    {
     "data": {
      "text/plain": [
       "0      0\n",
       "1      1\n",
       "2      1\n",
       "3      1\n",
       "4      0\n",
       "      ..\n",
       "886    0\n",
       "887    1\n",
       "888    0\n",
       "889    1\n",
       "890    0\n",
       "Name: Survived, Length: 891, dtype: int64"
      ]
     },
     "execution_count": 52,
     "metadata": {},
     "output_type": "execute_result"
    }
   ],
   "source": [
    "y_target = data_train['Survived']\n",
    "y_target"
   ]
  },
  {
   "cell_type": "code",
   "execution_count": 14,
   "id": "c73da135",
   "metadata": {
    "ExecuteTime": {
     "end_time": "2022-02-21T11:32:00.748080Z",
     "start_time": "2022-02-21T11:32:00.738107Z"
    },
    "id": "c73da135",
    "solution2": "shown"
   },
   "outputs": [
    {
     "data": {
      "text/plain": [
       "0      0\n",
       "1      1\n",
       "2      1\n",
       "3      1\n",
       "4      0\n",
       "      ..\n",
       "886    0\n",
       "887    1\n",
       "888    0\n",
       "889    1\n",
       "890    0\n",
       "Name: Survived, Length: 891, dtype: int64"
      ]
     },
     "execution_count": 14,
     "metadata": {},
     "output_type": "execute_result"
    }
   ],
   "source": [
    "y_target = data_train.loc[:, 'Survived']\n",
    "y_target"
   ]
  },
  {
   "cell_type": "markdown",
   "id": "2c2262fc-66ba-4a4e-b223-9a9a54140913",
   "metadata": {
    "id": "2c2262fc-66ba-4a4e-b223-9a9a54140913"
   },
   "source": [
    "**3)** Generar el vector de etiquetas a partir del número de la columna.  "
   ]
  },
  {
   "cell_type": "code",
   "execution_count": 15,
   "id": "b49dbb48",
   "metadata": {
    "ExecuteTime": {
     "end_time": "2022-02-21T11:32:01.299941Z",
     "start_time": "2022-02-21T11:32:01.278002Z"
    },
    "id": "b49dbb48",
    "solution2": "shown"
   },
   "outputs": [
    {
     "name": "stdout",
     "output_type": "stream",
     "text": [
      "['PassengerId', 'Survived', 'Pclass', 'Name', 'Sex', 'Age', 'SibSp', 'Parch', 'Ticket', 'Fare', 'Cabin', 'Embarked']\n",
      "1\n"
     ]
    },
    {
     "data": {
      "text/plain": [
       "0      0\n",
       "1      1\n",
       "2      1\n",
       "3      1\n",
       "4      0\n",
       "      ..\n",
       "886    0\n",
       "887    1\n",
       "888    0\n",
       "889    1\n",
       "890    0\n",
       "Name: Survived, Length: 891, dtype: int64"
      ]
     },
     "execution_count": 15,
     "metadata": {},
     "output_type": "execute_result"
    }
   ],
   "source": [
    "column_names = data_train.columns.to_list()\n",
    "print(column_names)\n",
    "\n",
    "index_survived = column_names.index('Survived')\n",
    "print(index_survived)\n",
    "\n",
    "y_target = data_train.iloc[:,index_survived]\n",
    "y_target"
   ]
  },
  {
   "cell_type": "code",
   "execution_count": 16,
   "id": "_ta3KIHek8JU",
   "metadata": {
    "id": "_ta3KIHek8JU"
   },
   "outputs": [
    {
     "data": {
      "text/html": [
       "<div>\n",
       "<style scoped>\n",
       "    .dataframe tbody tr th:only-of-type {\n",
       "        vertical-align: middle;\n",
       "    }\n",
       "\n",
       "    .dataframe tbody tr th {\n",
       "        vertical-align: top;\n",
       "    }\n",
       "\n",
       "    .dataframe thead th {\n",
       "        text-align: right;\n",
       "    }\n",
       "</style>\n",
       "<table border=\"1\" class=\"dataframe\">\n",
       "  <thead>\n",
       "    <tr style=\"text-align: right;\">\n",
       "      <th></th>\n",
       "      <th>PassengerId</th>\n",
       "      <th>Survived</th>\n",
       "      <th>Pclass</th>\n",
       "      <th>Name</th>\n",
       "      <th>Sex</th>\n",
       "      <th>Age</th>\n",
       "      <th>SibSp</th>\n",
       "      <th>Parch</th>\n",
       "      <th>Ticket</th>\n",
       "      <th>Fare</th>\n",
       "      <th>Cabin</th>\n",
       "      <th>Embarked</th>\n",
       "    </tr>\n",
       "  </thead>\n",
       "  <tbody>\n",
       "    <tr>\n",
       "      <th>0</th>\n",
       "      <td>1</td>\n",
       "      <td>0</td>\n",
       "      <td>3</td>\n",
       "      <td>Braund, Mr. Owen Harris</td>\n",
       "      <td>male</td>\n",
       "      <td>22.0</td>\n",
       "      <td>1</td>\n",
       "      <td>0</td>\n",
       "      <td>A/5 21171</td>\n",
       "      <td>7.2500</td>\n",
       "      <td>NaN</td>\n",
       "      <td>S</td>\n",
       "    </tr>\n",
       "    <tr>\n",
       "      <th>1</th>\n",
       "      <td>2</td>\n",
       "      <td>1</td>\n",
       "      <td>1</td>\n",
       "      <td>Cumings, Mrs. John Bradley (Florence Briggs Th...</td>\n",
       "      <td>female</td>\n",
       "      <td>38.0</td>\n",
       "      <td>1</td>\n",
       "      <td>0</td>\n",
       "      <td>PC 17599</td>\n",
       "      <td>71.2833</td>\n",
       "      <td>C85</td>\n",
       "      <td>C</td>\n",
       "    </tr>\n",
       "    <tr>\n",
       "      <th>2</th>\n",
       "      <td>3</td>\n",
       "      <td>1</td>\n",
       "      <td>3</td>\n",
       "      <td>Heikkinen, Miss. Laina</td>\n",
       "      <td>female</td>\n",
       "      <td>26.0</td>\n",
       "      <td>0</td>\n",
       "      <td>0</td>\n",
       "      <td>STON/O2. 3101282</td>\n",
       "      <td>7.9250</td>\n",
       "      <td>NaN</td>\n",
       "      <td>S</td>\n",
       "    </tr>\n",
       "    <tr>\n",
       "      <th>3</th>\n",
       "      <td>4</td>\n",
       "      <td>1</td>\n",
       "      <td>1</td>\n",
       "      <td>Futrelle, Mrs. Jacques Heath (Lily May Peel)</td>\n",
       "      <td>female</td>\n",
       "      <td>35.0</td>\n",
       "      <td>1</td>\n",
       "      <td>0</td>\n",
       "      <td>113803</td>\n",
       "      <td>53.1000</td>\n",
       "      <td>C123</td>\n",
       "      <td>S</td>\n",
       "    </tr>\n",
       "    <tr>\n",
       "      <th>4</th>\n",
       "      <td>5</td>\n",
       "      <td>0</td>\n",
       "      <td>3</td>\n",
       "      <td>Allen, Mr. William Henry</td>\n",
       "      <td>male</td>\n",
       "      <td>35.0</td>\n",
       "      <td>0</td>\n",
       "      <td>0</td>\n",
       "      <td>373450</td>\n",
       "      <td>8.0500</td>\n",
       "      <td>NaN</td>\n",
       "      <td>S</td>\n",
       "    </tr>\n",
       "    <tr>\n",
       "      <th>...</th>\n",
       "      <td>...</td>\n",
       "      <td>...</td>\n",
       "      <td>...</td>\n",
       "      <td>...</td>\n",
       "      <td>...</td>\n",
       "      <td>...</td>\n",
       "      <td>...</td>\n",
       "      <td>...</td>\n",
       "      <td>...</td>\n",
       "      <td>...</td>\n",
       "      <td>...</td>\n",
       "      <td>...</td>\n",
       "    </tr>\n",
       "    <tr>\n",
       "      <th>886</th>\n",
       "      <td>887</td>\n",
       "      <td>0</td>\n",
       "      <td>2</td>\n",
       "      <td>Montvila, Rev. Juozas</td>\n",
       "      <td>male</td>\n",
       "      <td>27.0</td>\n",
       "      <td>0</td>\n",
       "      <td>0</td>\n",
       "      <td>211536</td>\n",
       "      <td>13.0000</td>\n",
       "      <td>NaN</td>\n",
       "      <td>S</td>\n",
       "    </tr>\n",
       "    <tr>\n",
       "      <th>887</th>\n",
       "      <td>888</td>\n",
       "      <td>1</td>\n",
       "      <td>1</td>\n",
       "      <td>Graham, Miss. Margaret Edith</td>\n",
       "      <td>female</td>\n",
       "      <td>19.0</td>\n",
       "      <td>0</td>\n",
       "      <td>0</td>\n",
       "      <td>112053</td>\n",
       "      <td>30.0000</td>\n",
       "      <td>B42</td>\n",
       "      <td>S</td>\n",
       "    </tr>\n",
       "    <tr>\n",
       "      <th>888</th>\n",
       "      <td>889</td>\n",
       "      <td>0</td>\n",
       "      <td>3</td>\n",
       "      <td>Johnston, Miss. Catherine Helen \"Carrie\"</td>\n",
       "      <td>female</td>\n",
       "      <td>NaN</td>\n",
       "      <td>1</td>\n",
       "      <td>2</td>\n",
       "      <td>W./C. 6607</td>\n",
       "      <td>23.4500</td>\n",
       "      <td>NaN</td>\n",
       "      <td>S</td>\n",
       "    </tr>\n",
       "    <tr>\n",
       "      <th>889</th>\n",
       "      <td>890</td>\n",
       "      <td>1</td>\n",
       "      <td>1</td>\n",
       "      <td>Behr, Mr. Karl Howell</td>\n",
       "      <td>male</td>\n",
       "      <td>26.0</td>\n",
       "      <td>0</td>\n",
       "      <td>0</td>\n",
       "      <td>111369</td>\n",
       "      <td>30.0000</td>\n",
       "      <td>C148</td>\n",
       "      <td>C</td>\n",
       "    </tr>\n",
       "    <tr>\n",
       "      <th>890</th>\n",
       "      <td>891</td>\n",
       "      <td>0</td>\n",
       "      <td>3</td>\n",
       "      <td>Dooley, Mr. Patrick</td>\n",
       "      <td>male</td>\n",
       "      <td>32.0</td>\n",
       "      <td>0</td>\n",
       "      <td>0</td>\n",
       "      <td>370376</td>\n",
       "      <td>7.7500</td>\n",
       "      <td>NaN</td>\n",
       "      <td>Q</td>\n",
       "    </tr>\n",
       "  </tbody>\n",
       "</table>\n",
       "<p>891 rows × 12 columns</p>\n",
       "</div>"
      ],
      "text/plain": [
       "     PassengerId  Survived  Pclass  \\\n",
       "0              1         0       3   \n",
       "1              2         1       1   \n",
       "2              3         1       3   \n",
       "3              4         1       1   \n",
       "4              5         0       3   \n",
       "..           ...       ...     ...   \n",
       "886          887         0       2   \n",
       "887          888         1       1   \n",
       "888          889         0       3   \n",
       "889          890         1       1   \n",
       "890          891         0       3   \n",
       "\n",
       "                                                  Name     Sex   Age  SibSp  \\\n",
       "0                              Braund, Mr. Owen Harris    male  22.0      1   \n",
       "1    Cumings, Mrs. John Bradley (Florence Briggs Th...  female  38.0      1   \n",
       "2                               Heikkinen, Miss. Laina  female  26.0      0   \n",
       "3         Futrelle, Mrs. Jacques Heath (Lily May Peel)  female  35.0      1   \n",
       "4                             Allen, Mr. William Henry    male  35.0      0   \n",
       "..                                                 ...     ...   ...    ...   \n",
       "886                              Montvila, Rev. Juozas    male  27.0      0   \n",
       "887                       Graham, Miss. Margaret Edith  female  19.0      0   \n",
       "888           Johnston, Miss. Catherine Helen \"Carrie\"  female   NaN      1   \n",
       "889                              Behr, Mr. Karl Howell    male  26.0      0   \n",
       "890                                Dooley, Mr. Patrick    male  32.0      0   \n",
       "\n",
       "     Parch            Ticket     Fare Cabin Embarked  \n",
       "0        0         A/5 21171   7.2500   NaN        S  \n",
       "1        0          PC 17599  71.2833   C85        C  \n",
       "2        0  STON/O2. 3101282   7.9250   NaN        S  \n",
       "3        0            113803  53.1000  C123        S  \n",
       "4        0            373450   8.0500   NaN        S  \n",
       "..     ...               ...      ...   ...      ...  \n",
       "886      0            211536  13.0000   NaN        S  \n",
       "887      0            112053  30.0000   B42        S  \n",
       "888      2        W./C. 6607  23.4500   NaN        S  \n",
       "889      0            111369  30.0000  C148        C  \n",
       "890      0            370376   7.7500   NaN        Q  \n",
       "\n",
       "[891 rows x 12 columns]"
      ]
     },
     "execution_count": 16,
     "metadata": {},
     "output_type": "execute_result"
    }
   ],
   "source": [
    "data_train"
   ]
  },
  {
   "cell_type": "markdown",
   "id": "c3c447ee",
   "metadata": {
    "id": "c3c447ee"
   },
   "source": [
    "#### Ejercicios:\n",
    " - Identificar el atributo a predecir\n",
    " - Obtener el porcentaje de pasajeros del conjunto de entrenamiento que sobrevivió. ¿Es un problema de clases desbalanceadas?\n",
    " - Identificar los atributos numéricos y categóricos.\n",
    " - En caso de contar con datos categóricos identifique las categorías.\n",
    " - Obtener el porcentaje de pasajeros dentro de cada categoría que sobrevivió. Asegúrese de poder responder preguntas del tipo: ¿Qué porcentaje de mujeres sobrevivieron? ¿Cuál fue el porcentaje de paraseros de primera clase (PClass 1) que sobrevivió?)\n",
    " - Identificar y cuantificar datos faltantes.\n"
   ]
  },
  {
   "cell_type": "code",
   "execution_count": 17,
   "id": "d56c7c3a-f76f-472f-a0b9-26a4eb35717c",
   "metadata": {
    "id": "d56c7c3a-f76f-472f-a0b9-26a4eb35717c"
   },
   "outputs": [
    {
     "name": "stdout",
     "output_type": "stream",
     "text": [
      "Total pasajeros 891\n",
      "Cant Hombres 577\n",
      "Cant Mujeres 314\n",
      "Hombres Salvados 109\n",
      "Mujeres Salvadas 233\n"
     ]
    }
   ],
   "source": [
    "Total_Pasajeros = len(data_train)\n",
    "Mujeres = len(data_train.loc[(data_train['Sex'] == 'female')])\n",
    "Mujeres_S = len(data_train.loc[(data_train['Sex'] == 'female') & (data_train['Survived'] == 1)])\n",
    "Hombres = len(data_train.loc[(data_train['Sex']== 'male')])\n",
    "Hombres_S = len(data_train.loc[(data_train['Sex'] == 'male') & (data_train['Survived'] == 1)])\n",
    "print('Total pasajeros',Total_Pasajeros)\n",
    "print('Cant Hombres', Hombres)\n",
    "print('Cant Mujeres', Mujeres)\n",
    "print('Hombres Salvados', Hombres_S)\n",
    "print('Mujeres Salvadas', Mujeres_S)"
   ]
  },
  {
   "cell_type": "markdown",
   "id": "9113b5af",
   "metadata": {
    "id": "9113b5af"
   },
   "source": [
    "## Parte 3 - Descubrir y visualizar los datos para obtener información relevante.  \n"
   ]
  },
  {
   "cell_type": "markdown",
   "id": "5a7429d5",
   "metadata": {
    "id": "5a7429d5"
   },
   "source": [
    " - Explore [métodos de visualización](https://pandas.pydata.org/pandas-docs/stable/reference/api/pandas.DataFrame.plot.html) con **pandas**. Para graficar con *pandas* es necesario importar *matplotlib*. Puede ser útil comparar los histogramas de cada clase contra los histogramas de supervivencia en cada clase.\n",
    " - Estudie la correlación de las características con la etiqueta a predecir. Se sugiere utilizar el método `corr()`.\n",
    " - Concluya que factores tuvieron mayor incidencia en la supervivencia o no de un pasajero."
   ]
  },
  {
   "cell_type": "code",
   "execution_count": 18,
   "id": "a362e944",
   "metadata": {
    "id": "a362e944"
   },
   "outputs": [
    {
     "name": "stdout",
     "output_type": "stream",
     "text": [
      "PassengerId   -0.005007\n",
      "Survived       1.000000\n",
      "Pclass        -0.338481\n",
      "Age           -0.077221\n",
      "SibSp         -0.035322\n",
      "Parch          0.081629\n",
      "Fare           0.257307\n",
      "Name: Survived, dtype: float64\n"
     ]
    }
   ],
   "source": [
    "import matplotlib.pyplot as plt\n",
    "\n",
    "dato = data_train.corr(numeric_only=True)['Survived']\n",
    "print(dato)\n"
   ]
  },
  {
   "cell_type": "markdown",
   "id": "76032391",
   "metadata": {
    "ExecuteTime": {
     "end_time": "2022-02-14T13:43:12.322654Z",
     "start_time": "2022-02-14T13:43:12.318666Z"
    },
    "id": "76032391"
   },
   "source": [
    "## Parte 4 - Un Primer Pipeline"
   ]
  },
  {
   "cell_type": "markdown",
   "id": "3321b311",
   "metadata": {
    "id": "3321b311"
   },
   "source": [
    "- Construir un **pipeline** que realice el preprocesamiento de los datos necesario para que éstos puedan ser utilizados por un clasificador de *sklearn*. Dicho preprocesamiento deberá en primera instancia realizar las siguientes tareas:\n",
    "\n",
    "    1. Descartar los atributos *Cabin*, *Name* y *Ticket*.\n",
    "    2. Rellenar datos faltantes con algún criterio elegido"
   ]
  },
  {
   "cell_type": "code",
   "execution_count": 38,
   "id": "de5282b0",
   "metadata": {
    "id": "de5282b0"
   },
   "outputs": [
    {
     "name": "stdout",
     "output_type": "stream",
     "text": [
      "    Age     Fare  SibSp  Parch  Embarked_C  Embarked_Q  Embarked_S  \\\n",
      "0  22.0   7.2500    1.0    0.0         0.0         0.0         1.0   \n",
      "1  38.0  71.2833    1.0    0.0         1.0         0.0         0.0   \n",
      "2  26.0   7.9250    0.0    0.0         0.0         0.0         1.0   \n",
      "3  35.0  53.1000    1.0    0.0         0.0         0.0         1.0   \n",
      "4  35.0   8.0500    0.0    0.0         0.0         0.0         1.0   \n",
      "\n",
      "   Sex_female  Sex_male  Pclass_1  Pclass_2  Pclass_3  \n",
      "0         0.0       1.0       0.0       0.0       1.0  \n",
      "1         1.0       0.0       1.0       0.0       0.0  \n",
      "2         1.0       0.0       0.0       0.0       1.0  \n",
      "3         1.0       0.0       1.0       0.0       0.0  \n",
      "4         0.0       1.0       0.0       0.0       1.0  \n"
     ]
    }
   ],
   "source": [
    "from sklearn.pipeline import Pipeline\n",
    "from sklearn.compose import ColumnTransformer\n",
    "from sklearn.preprocessing import FunctionTransformer\n",
    "from sklearn.impute import SimpleImputer\n",
    "from sklearn.preprocessing import OneHotEncoder\n",
    "\n",
    "columnas_a_eliminar = ['Cabin', 'Name', 'Ticket']\n",
    "\n",
    "# Función para eliminar columnas\n",
    "def eliminar_columnas(X):\n",
    "    return X.drop(columns=columnas_a_eliminar, errors='ignore')\n",
    "\n",
    "# Transformador para eliminar columnas\n",
    "dropper = FunctionTransformer(eliminar_columnas)\n",
    "\n",
    "# Columnas numéricas y categóricas\n",
    "columnas_numericas = ['Age', 'Fare', \"SibSp\", \"Parch\"]\n",
    "columnas_categoricas = ['Embarked', 'Sex', 'Pclass']\n",
    "\n",
    "cat_imputer = SimpleImputer(strategy=\"most_frequent\")  \n",
    "num_imputer = SimpleImputer(strategy='constant', fill_value=-1)\n",
    "\n",
    "procesamiento_categorico = Pipeline([\n",
    "        (\"imputacion\", cat_imputer),\n",
    "        (\"one_hot\", OneHotEncoder(handle_unknown=\"ignore\")) ])\n",
    "\n",
    "\n",
    "\n",
    "\n",
    "\n",
    "\n",
    "\n",
    "\n",
    "\n",
    "# Preprocesador de columnas\n",
    "preprocesador = ColumnTransformer([\n",
    "    ('num_imputer', num_imputer, columnas_numericas),\n",
    "    ('cat_imputer', procesamiento_categorico, columnas_categoricas)\n",
    "], remainder='drop')  # Ahora eliminamos columnas que no están en la transformación\n",
    "\n",
    "# Construcción del pipeline\n",
    "preprocessing_pipeline_default = Pipeline([\n",
    "    ('dropper', dropper),\n",
    "    ('preprocesamiento', preprocesador)\n",
    "])\n",
    "\n",
    "# Aplicar el pipeline a los datos\n",
    "df_preprocesado = preprocessing_pipeline_default.fit_transform(data_train)\n",
    "\n",
    "ohe_feature_names = preprocessing_pipeline_default.named_steps['preprocesamiento'].named_transformers_['cat_imputer'].named_steps['one_hot'].get_feature_names_out(columnas_categoricas)\n",
    "\n",
    "# Convertimos a DataFrame con las columnas correctas\n",
    "df_preprocesado = pd.DataFrame(df_preprocesado, columns=columnas_numericas + list(ohe_feature_names))\n",
    "\n",
    "\n",
    "print(df_preprocesado.head())\n"
   ]
  },
  {
   "cell_type": "markdown",
   "id": "8b794507",
   "metadata": {
    "id": "8b794507",
    "solution2": "hidden",
    "solution2_first": true
   },
   "source": [
    "- Acceda a los elementos del pipeline. Para acceder a las distintas transformaciones se usa `named_transformers_` y para acceder a los steps de cada transformación `named_steps`  "
   ]
  },
  {
   "cell_type": "code",
   "execution_count": 41,
   "id": "cac06e15",
   "metadata": {
    "ExecuteTime": {
     "end_time": "2022-02-21T11:32:41.314068Z",
     "start_time": "2022-02-21T11:32:41.291125Z"
    },
    "id": "cac06e15",
    "solution2": "hidden"
   },
   "outputs": [
    {
     "data": {
      "text/plain": [
       "array(['num_imputer__Age', 'num_imputer__Fare', 'num_imputer__SibSp',\n",
       "       'num_imputer__Parch', 'cat_imputer__Embarked_C',\n",
       "       'cat_imputer__Embarked_Q', 'cat_imputer__Embarked_S',\n",
       "       'cat_imputer__Sex_female', 'cat_imputer__Sex_male',\n",
       "       'cat_imputer__Pclass_1', 'cat_imputer__Pclass_2',\n",
       "       'cat_imputer__Pclass_3'], dtype=object)"
      ]
     },
     "execution_count": 41,
     "metadata": {},
     "output_type": "execute_result"
    }
   ],
   "source": [
    "preprocessing_pipeline_default.named_steps['preprocesamiento'].get_feature_names_out()"
   ]
  },
  {
   "cell_type": "code",
   "execution_count": 42,
   "id": "9249a1d2",
   "metadata": {
    "ExecuteTime": {
     "end_time": "2022-02-21T11:32:41.977263Z",
     "start_time": "2022-02-21T11:32:41.963303Z"
    },
    "id": "9249a1d2",
    "scrolled": true,
    "solution2": "hidden"
   },
   "outputs": [
    {
     "data": {
      "text/plain": [
       "{'num_imputer': SimpleImputer(fill_value=-1, strategy='constant'),\n",
       " 'cat_imputer': Pipeline(steps=[('imputacion', SimpleImputer(strategy='most_frequent')),\n",
       "                 ('one_hot', OneHotEncoder(handle_unknown='ignore'))]),\n",
       " 'remainder': 'drop'}"
      ]
     },
     "execution_count": 42,
     "metadata": {},
     "output_type": "execute_result"
    }
   ],
   "source": [
    "preprocessing_pipeline_default.named_steps['preprocesamiento'].named_transformers_"
   ]
  },
  {
   "cell_type": "code",
   "execution_count": 43,
   "id": "0f22c30c",
   "metadata": {
    "ExecuteTime": {
     "end_time": "2022-02-21T11:32:42.722270Z",
     "start_time": "2022-02-21T11:32:42.714294Z"
    },
    "id": "0f22c30c",
    "solution2": "hidden"
   },
   "outputs": [
    {
     "data": {
      "text/html": [
       "<style>#sk-container-id-2 {\n",
       "  /* Definition of color scheme common for light and dark mode */\n",
       "  --sklearn-color-text: #000;\n",
       "  --sklearn-color-text-muted: #666;\n",
       "  --sklearn-color-line: gray;\n",
       "  /* Definition of color scheme for unfitted estimators */\n",
       "  --sklearn-color-unfitted-level-0: #fff5e6;\n",
       "  --sklearn-color-unfitted-level-1: #f6e4d2;\n",
       "  --sklearn-color-unfitted-level-2: #ffe0b3;\n",
       "  --sklearn-color-unfitted-level-3: chocolate;\n",
       "  /* Definition of color scheme for fitted estimators */\n",
       "  --sklearn-color-fitted-level-0: #f0f8ff;\n",
       "  --sklearn-color-fitted-level-1: #d4ebff;\n",
       "  --sklearn-color-fitted-level-2: #b3dbfd;\n",
       "  --sklearn-color-fitted-level-3: cornflowerblue;\n",
       "\n",
       "  /* Specific color for light theme */\n",
       "  --sklearn-color-text-on-default-background: var(--sg-text-color, var(--theme-code-foreground, var(--jp-content-font-color1, black)));\n",
       "  --sklearn-color-background: var(--sg-background-color, var(--theme-background, var(--jp-layout-color0, white)));\n",
       "  --sklearn-color-border-box: var(--sg-text-color, var(--theme-code-foreground, var(--jp-content-font-color1, black)));\n",
       "  --sklearn-color-icon: #696969;\n",
       "\n",
       "  @media (prefers-color-scheme: dark) {\n",
       "    /* Redefinition of color scheme for dark theme */\n",
       "    --sklearn-color-text-on-default-background: var(--sg-text-color, var(--theme-code-foreground, var(--jp-content-font-color1, white)));\n",
       "    --sklearn-color-background: var(--sg-background-color, var(--theme-background, var(--jp-layout-color0, #111)));\n",
       "    --sklearn-color-border-box: var(--sg-text-color, var(--theme-code-foreground, var(--jp-content-font-color1, white)));\n",
       "    --sklearn-color-icon: #878787;\n",
       "  }\n",
       "}\n",
       "\n",
       "#sk-container-id-2 {\n",
       "  color: var(--sklearn-color-text);\n",
       "}\n",
       "\n",
       "#sk-container-id-2 pre {\n",
       "  padding: 0;\n",
       "}\n",
       "\n",
       "#sk-container-id-2 input.sk-hidden--visually {\n",
       "  border: 0;\n",
       "  clip: rect(1px 1px 1px 1px);\n",
       "  clip: rect(1px, 1px, 1px, 1px);\n",
       "  height: 1px;\n",
       "  margin: -1px;\n",
       "  overflow: hidden;\n",
       "  padding: 0;\n",
       "  position: absolute;\n",
       "  width: 1px;\n",
       "}\n",
       "\n",
       "#sk-container-id-2 div.sk-dashed-wrapped {\n",
       "  border: 1px dashed var(--sklearn-color-line);\n",
       "  margin: 0 0.4em 0.5em 0.4em;\n",
       "  box-sizing: border-box;\n",
       "  padding-bottom: 0.4em;\n",
       "  background-color: var(--sklearn-color-background);\n",
       "}\n",
       "\n",
       "#sk-container-id-2 div.sk-container {\n",
       "  /* jupyter's `normalize.less` sets `[hidden] { display: none; }`\n",
       "     but bootstrap.min.css set `[hidden] { display: none !important; }`\n",
       "     so we also need the `!important` here to be able to override the\n",
       "     default hidden behavior on the sphinx rendered scikit-learn.org.\n",
       "     See: https://github.com/scikit-learn/scikit-learn/issues/21755 */\n",
       "  display: inline-block !important;\n",
       "  position: relative;\n",
       "}\n",
       "\n",
       "#sk-container-id-2 div.sk-text-repr-fallback {\n",
       "  display: none;\n",
       "}\n",
       "\n",
       "div.sk-parallel-item,\n",
       "div.sk-serial,\n",
       "div.sk-item {\n",
       "  /* draw centered vertical line to link estimators */\n",
       "  background-image: linear-gradient(var(--sklearn-color-text-on-default-background), var(--sklearn-color-text-on-default-background));\n",
       "  background-size: 2px 100%;\n",
       "  background-repeat: no-repeat;\n",
       "  background-position: center center;\n",
       "}\n",
       "\n",
       "/* Parallel-specific style estimator block */\n",
       "\n",
       "#sk-container-id-2 div.sk-parallel-item::after {\n",
       "  content: \"\";\n",
       "  width: 100%;\n",
       "  border-bottom: 2px solid var(--sklearn-color-text-on-default-background);\n",
       "  flex-grow: 1;\n",
       "}\n",
       "\n",
       "#sk-container-id-2 div.sk-parallel {\n",
       "  display: flex;\n",
       "  align-items: stretch;\n",
       "  justify-content: center;\n",
       "  background-color: var(--sklearn-color-background);\n",
       "  position: relative;\n",
       "}\n",
       "\n",
       "#sk-container-id-2 div.sk-parallel-item {\n",
       "  display: flex;\n",
       "  flex-direction: column;\n",
       "}\n",
       "\n",
       "#sk-container-id-2 div.sk-parallel-item:first-child::after {\n",
       "  align-self: flex-end;\n",
       "  width: 50%;\n",
       "}\n",
       "\n",
       "#sk-container-id-2 div.sk-parallel-item:last-child::after {\n",
       "  align-self: flex-start;\n",
       "  width: 50%;\n",
       "}\n",
       "\n",
       "#sk-container-id-2 div.sk-parallel-item:only-child::after {\n",
       "  width: 0;\n",
       "}\n",
       "\n",
       "/* Serial-specific style estimator block */\n",
       "\n",
       "#sk-container-id-2 div.sk-serial {\n",
       "  display: flex;\n",
       "  flex-direction: column;\n",
       "  align-items: center;\n",
       "  background-color: var(--sklearn-color-background);\n",
       "  padding-right: 1em;\n",
       "  padding-left: 1em;\n",
       "}\n",
       "\n",
       "\n",
       "/* Toggleable style: style used for estimator/Pipeline/ColumnTransformer box that is\n",
       "clickable and can be expanded/collapsed.\n",
       "- Pipeline and ColumnTransformer use this feature and define the default style\n",
       "- Estimators will overwrite some part of the style using the `sk-estimator` class\n",
       "*/\n",
       "\n",
       "/* Pipeline and ColumnTransformer style (default) */\n",
       "\n",
       "#sk-container-id-2 div.sk-toggleable {\n",
       "  /* Default theme specific background. It is overwritten whether we have a\n",
       "  specific estimator or a Pipeline/ColumnTransformer */\n",
       "  background-color: var(--sklearn-color-background);\n",
       "}\n",
       "\n",
       "/* Toggleable label */\n",
       "#sk-container-id-2 label.sk-toggleable__label {\n",
       "  cursor: pointer;\n",
       "  display: flex;\n",
       "  width: 100%;\n",
       "  margin-bottom: 0;\n",
       "  padding: 0.5em;\n",
       "  box-sizing: border-box;\n",
       "  text-align: center;\n",
       "  align-items: start;\n",
       "  justify-content: space-between;\n",
       "  gap: 0.5em;\n",
       "}\n",
       "\n",
       "#sk-container-id-2 label.sk-toggleable__label .caption {\n",
       "  font-size: 0.6rem;\n",
       "  font-weight: lighter;\n",
       "  color: var(--sklearn-color-text-muted);\n",
       "}\n",
       "\n",
       "#sk-container-id-2 label.sk-toggleable__label-arrow:before {\n",
       "  /* Arrow on the left of the label */\n",
       "  content: \"▸\";\n",
       "  float: left;\n",
       "  margin-right: 0.25em;\n",
       "  color: var(--sklearn-color-icon);\n",
       "}\n",
       "\n",
       "#sk-container-id-2 label.sk-toggleable__label-arrow:hover:before {\n",
       "  color: var(--sklearn-color-text);\n",
       "}\n",
       "\n",
       "/* Toggleable content - dropdown */\n",
       "\n",
       "#sk-container-id-2 div.sk-toggleable__content {\n",
       "  max-height: 0;\n",
       "  max-width: 0;\n",
       "  overflow: hidden;\n",
       "  text-align: left;\n",
       "  /* unfitted */\n",
       "  background-color: var(--sklearn-color-unfitted-level-0);\n",
       "}\n",
       "\n",
       "#sk-container-id-2 div.sk-toggleable__content.fitted {\n",
       "  /* fitted */\n",
       "  background-color: var(--sklearn-color-fitted-level-0);\n",
       "}\n",
       "\n",
       "#sk-container-id-2 div.sk-toggleable__content pre {\n",
       "  margin: 0.2em;\n",
       "  border-radius: 0.25em;\n",
       "  color: var(--sklearn-color-text);\n",
       "  /* unfitted */\n",
       "  background-color: var(--sklearn-color-unfitted-level-0);\n",
       "}\n",
       "\n",
       "#sk-container-id-2 div.sk-toggleable__content.fitted pre {\n",
       "  /* unfitted */\n",
       "  background-color: var(--sklearn-color-fitted-level-0);\n",
       "}\n",
       "\n",
       "#sk-container-id-2 input.sk-toggleable__control:checked~div.sk-toggleable__content {\n",
       "  /* Expand drop-down */\n",
       "  max-height: 200px;\n",
       "  max-width: 100%;\n",
       "  overflow: auto;\n",
       "}\n",
       "\n",
       "#sk-container-id-2 input.sk-toggleable__control:checked~label.sk-toggleable__label-arrow:before {\n",
       "  content: \"▾\";\n",
       "}\n",
       "\n",
       "/* Pipeline/ColumnTransformer-specific style */\n",
       "\n",
       "#sk-container-id-2 div.sk-label input.sk-toggleable__control:checked~label.sk-toggleable__label {\n",
       "  color: var(--sklearn-color-text);\n",
       "  background-color: var(--sklearn-color-unfitted-level-2);\n",
       "}\n",
       "\n",
       "#sk-container-id-2 div.sk-label.fitted input.sk-toggleable__control:checked~label.sk-toggleable__label {\n",
       "  background-color: var(--sklearn-color-fitted-level-2);\n",
       "}\n",
       "\n",
       "/* Estimator-specific style */\n",
       "\n",
       "/* Colorize estimator box */\n",
       "#sk-container-id-2 div.sk-estimator input.sk-toggleable__control:checked~label.sk-toggleable__label {\n",
       "  /* unfitted */\n",
       "  background-color: var(--sklearn-color-unfitted-level-2);\n",
       "}\n",
       "\n",
       "#sk-container-id-2 div.sk-estimator.fitted input.sk-toggleable__control:checked~label.sk-toggleable__label {\n",
       "  /* fitted */\n",
       "  background-color: var(--sklearn-color-fitted-level-2);\n",
       "}\n",
       "\n",
       "#sk-container-id-2 div.sk-label label.sk-toggleable__label,\n",
       "#sk-container-id-2 div.sk-label label {\n",
       "  /* The background is the default theme color */\n",
       "  color: var(--sklearn-color-text-on-default-background);\n",
       "}\n",
       "\n",
       "/* On hover, darken the color of the background */\n",
       "#sk-container-id-2 div.sk-label:hover label.sk-toggleable__label {\n",
       "  color: var(--sklearn-color-text);\n",
       "  background-color: var(--sklearn-color-unfitted-level-2);\n",
       "}\n",
       "\n",
       "/* Label box, darken color on hover, fitted */\n",
       "#sk-container-id-2 div.sk-label.fitted:hover label.sk-toggleable__label.fitted {\n",
       "  color: var(--sklearn-color-text);\n",
       "  background-color: var(--sklearn-color-fitted-level-2);\n",
       "}\n",
       "\n",
       "/* Estimator label */\n",
       "\n",
       "#sk-container-id-2 div.sk-label label {\n",
       "  font-family: monospace;\n",
       "  font-weight: bold;\n",
       "  display: inline-block;\n",
       "  line-height: 1.2em;\n",
       "}\n",
       "\n",
       "#sk-container-id-2 div.sk-label-container {\n",
       "  text-align: center;\n",
       "}\n",
       "\n",
       "/* Estimator-specific */\n",
       "#sk-container-id-2 div.sk-estimator {\n",
       "  font-family: monospace;\n",
       "  border: 1px dotted var(--sklearn-color-border-box);\n",
       "  border-radius: 0.25em;\n",
       "  box-sizing: border-box;\n",
       "  margin-bottom: 0.5em;\n",
       "  /* unfitted */\n",
       "  background-color: var(--sklearn-color-unfitted-level-0);\n",
       "}\n",
       "\n",
       "#sk-container-id-2 div.sk-estimator.fitted {\n",
       "  /* fitted */\n",
       "  background-color: var(--sklearn-color-fitted-level-0);\n",
       "}\n",
       "\n",
       "/* on hover */\n",
       "#sk-container-id-2 div.sk-estimator:hover {\n",
       "  /* unfitted */\n",
       "  background-color: var(--sklearn-color-unfitted-level-2);\n",
       "}\n",
       "\n",
       "#sk-container-id-2 div.sk-estimator.fitted:hover {\n",
       "  /* fitted */\n",
       "  background-color: var(--sklearn-color-fitted-level-2);\n",
       "}\n",
       "\n",
       "/* Specification for estimator info (e.g. \"i\" and \"?\") */\n",
       "\n",
       "/* Common style for \"i\" and \"?\" */\n",
       "\n",
       ".sk-estimator-doc-link,\n",
       "a:link.sk-estimator-doc-link,\n",
       "a:visited.sk-estimator-doc-link {\n",
       "  float: right;\n",
       "  font-size: smaller;\n",
       "  line-height: 1em;\n",
       "  font-family: monospace;\n",
       "  background-color: var(--sklearn-color-background);\n",
       "  border-radius: 1em;\n",
       "  height: 1em;\n",
       "  width: 1em;\n",
       "  text-decoration: none !important;\n",
       "  margin-left: 0.5em;\n",
       "  text-align: center;\n",
       "  /* unfitted */\n",
       "  border: var(--sklearn-color-unfitted-level-1) 1pt solid;\n",
       "  color: var(--sklearn-color-unfitted-level-1);\n",
       "}\n",
       "\n",
       ".sk-estimator-doc-link.fitted,\n",
       "a:link.sk-estimator-doc-link.fitted,\n",
       "a:visited.sk-estimator-doc-link.fitted {\n",
       "  /* fitted */\n",
       "  border: var(--sklearn-color-fitted-level-1) 1pt solid;\n",
       "  color: var(--sklearn-color-fitted-level-1);\n",
       "}\n",
       "\n",
       "/* On hover */\n",
       "div.sk-estimator:hover .sk-estimator-doc-link:hover,\n",
       ".sk-estimator-doc-link:hover,\n",
       "div.sk-label-container:hover .sk-estimator-doc-link:hover,\n",
       ".sk-estimator-doc-link:hover {\n",
       "  /* unfitted */\n",
       "  background-color: var(--sklearn-color-unfitted-level-3);\n",
       "  color: var(--sklearn-color-background);\n",
       "  text-decoration: none;\n",
       "}\n",
       "\n",
       "div.sk-estimator.fitted:hover .sk-estimator-doc-link.fitted:hover,\n",
       ".sk-estimator-doc-link.fitted:hover,\n",
       "div.sk-label-container:hover .sk-estimator-doc-link.fitted:hover,\n",
       ".sk-estimator-doc-link.fitted:hover {\n",
       "  /* fitted */\n",
       "  background-color: var(--sklearn-color-fitted-level-3);\n",
       "  color: var(--sklearn-color-background);\n",
       "  text-decoration: none;\n",
       "}\n",
       "\n",
       "/* Span, style for the box shown on hovering the info icon */\n",
       ".sk-estimator-doc-link span {\n",
       "  display: none;\n",
       "  z-index: 9999;\n",
       "  position: relative;\n",
       "  font-weight: normal;\n",
       "  right: .2ex;\n",
       "  padding: .5ex;\n",
       "  margin: .5ex;\n",
       "  width: min-content;\n",
       "  min-width: 20ex;\n",
       "  max-width: 50ex;\n",
       "  color: var(--sklearn-color-text);\n",
       "  box-shadow: 2pt 2pt 4pt #999;\n",
       "  /* unfitted */\n",
       "  background: var(--sklearn-color-unfitted-level-0);\n",
       "  border: .5pt solid var(--sklearn-color-unfitted-level-3);\n",
       "}\n",
       "\n",
       ".sk-estimator-doc-link.fitted span {\n",
       "  /* fitted */\n",
       "  background: var(--sklearn-color-fitted-level-0);\n",
       "  border: var(--sklearn-color-fitted-level-3);\n",
       "}\n",
       "\n",
       ".sk-estimator-doc-link:hover span {\n",
       "  display: block;\n",
       "}\n",
       "\n",
       "/* \"?\"-specific style due to the `<a>` HTML tag */\n",
       "\n",
       "#sk-container-id-2 a.estimator_doc_link {\n",
       "  float: right;\n",
       "  font-size: 1rem;\n",
       "  line-height: 1em;\n",
       "  font-family: monospace;\n",
       "  background-color: var(--sklearn-color-background);\n",
       "  border-radius: 1rem;\n",
       "  height: 1rem;\n",
       "  width: 1rem;\n",
       "  text-decoration: none;\n",
       "  /* unfitted */\n",
       "  color: var(--sklearn-color-unfitted-level-1);\n",
       "  border: var(--sklearn-color-unfitted-level-1) 1pt solid;\n",
       "}\n",
       "\n",
       "#sk-container-id-2 a.estimator_doc_link.fitted {\n",
       "  /* fitted */\n",
       "  border: var(--sklearn-color-fitted-level-1) 1pt solid;\n",
       "  color: var(--sklearn-color-fitted-level-1);\n",
       "}\n",
       "\n",
       "/* On hover */\n",
       "#sk-container-id-2 a.estimator_doc_link:hover {\n",
       "  /* unfitted */\n",
       "  background-color: var(--sklearn-color-unfitted-level-3);\n",
       "  color: var(--sklearn-color-background);\n",
       "  text-decoration: none;\n",
       "}\n",
       "\n",
       "#sk-container-id-2 a.estimator_doc_link.fitted:hover {\n",
       "  /* fitted */\n",
       "  background-color: var(--sklearn-color-fitted-level-3);\n",
       "}\n",
       "</style><div id=\"sk-container-id-2\" class=\"sk-top-container\"><div class=\"sk-text-repr-fallback\"><pre>Pipeline(steps=[(&#x27;imputacion&#x27;, SimpleImputer(strategy=&#x27;most_frequent&#x27;)),\n",
       "                (&#x27;one_hot&#x27;, OneHotEncoder(handle_unknown=&#x27;ignore&#x27;))])</pre><b>In a Jupyter environment, please rerun this cell to show the HTML representation or trust the notebook. <br />On GitHub, the HTML representation is unable to render, please try loading this page with nbviewer.org.</b></div><div class=\"sk-container\" hidden><div class=\"sk-item sk-dashed-wrapped\"><div class=\"sk-label-container\"><div class=\"sk-label fitted sk-toggleable\"><input class=\"sk-toggleable__control sk-hidden--visually\" id=\"sk-estimator-id-2\" type=\"checkbox\" ><label for=\"sk-estimator-id-2\" class=\"sk-toggleable__label fitted sk-toggleable__label-arrow\"><div><div>Pipeline</div></div><div><a class=\"sk-estimator-doc-link fitted\" rel=\"noreferrer\" target=\"_blank\" href=\"https://scikit-learn.org/1.6/modules/generated/sklearn.pipeline.Pipeline.html\">?<span>Documentation for Pipeline</span></a><span class=\"sk-estimator-doc-link fitted\">i<span>Fitted</span></span></div></label><div class=\"sk-toggleable__content fitted\"><pre>Pipeline(steps=[(&#x27;imputacion&#x27;, SimpleImputer(strategy=&#x27;most_frequent&#x27;)),\n",
       "                (&#x27;one_hot&#x27;, OneHotEncoder(handle_unknown=&#x27;ignore&#x27;))])</pre></div> </div></div><div class=\"sk-serial\"><div class=\"sk-item\"><div class=\"sk-estimator fitted sk-toggleable\"><input class=\"sk-toggleable__control sk-hidden--visually\" id=\"sk-estimator-id-3\" type=\"checkbox\" ><label for=\"sk-estimator-id-3\" class=\"sk-toggleable__label fitted sk-toggleable__label-arrow\"><div><div>SimpleImputer</div></div><div><a class=\"sk-estimator-doc-link fitted\" rel=\"noreferrer\" target=\"_blank\" href=\"https://scikit-learn.org/1.6/modules/generated/sklearn.impute.SimpleImputer.html\">?<span>Documentation for SimpleImputer</span></a></div></label><div class=\"sk-toggleable__content fitted\"><pre>SimpleImputer(strategy=&#x27;most_frequent&#x27;)</pre></div> </div></div><div class=\"sk-item\"><div class=\"sk-estimator fitted sk-toggleable\"><input class=\"sk-toggleable__control sk-hidden--visually\" id=\"sk-estimator-id-4\" type=\"checkbox\" ><label for=\"sk-estimator-id-4\" class=\"sk-toggleable__label fitted sk-toggleable__label-arrow\"><div><div>OneHotEncoder</div></div><div><a class=\"sk-estimator-doc-link fitted\" rel=\"noreferrer\" target=\"_blank\" href=\"https://scikit-learn.org/1.6/modules/generated/sklearn.preprocessing.OneHotEncoder.html\">?<span>Documentation for OneHotEncoder</span></a></div></label><div class=\"sk-toggleable__content fitted\"><pre>OneHotEncoder(handle_unknown=&#x27;ignore&#x27;)</pre></div> </div></div></div></div></div></div>"
      ],
      "text/plain": [
       "Pipeline(steps=[('imputacion', SimpleImputer(strategy='most_frequent')),\n",
       "                ('one_hot', OneHotEncoder(handle_unknown='ignore'))])"
      ]
     },
     "execution_count": 43,
     "metadata": {},
     "output_type": "execute_result"
    }
   ],
   "source": [
    "preprocessing_pipeline_default.named_steps['preprocesamiento'].named_transformers_['cat_imputer']"
   ]
  },
  {
   "cell_type": "markdown",
   "id": "0272bb0d",
   "metadata": {
    "id": "0272bb0d"
   },
   "source": [
    "## Parte 5 - Un Segundo Pipeline"
   ]
  },
  {
   "cell_type": "markdown",
   "id": "a16e2a2e",
   "metadata": {
    "id": "a16e2a2e"
   },
   "source": [
    "- Realizar un **pipeline** que utilice como único atributo el género del pasajero."
   ]
  },
  {
   "cell_type": "code",
   "execution_count": 44,
   "id": "024f90a7",
   "metadata": {
    "id": "024f90a7"
   },
   "outputs": [
    {
     "name": "stdout",
     "output_type": "stream",
     "text": [
      "[[0. 1.]\n",
      " [1. 0.]\n",
      " [1. 0.]\n",
      " ...\n",
      " [1. 0.]\n",
      " [0. 1.]\n",
      " [0. 1.]]\n"
     ]
    }
   ],
   "source": [
    "from sklearn.preprocessing import OneHotEncoder\n",
    "\n",
    "columnas_categoricas = ['Sex']\n",
    "\n",
    "# Definir el preprocesador solo para 'Sex'\n",
    "preprocesador_genero = ColumnTransformer([\n",
    "    ('ohe', OneHotEncoder(handle_unknown='ignore'), columnas_categoricas)\n",
    "])\n",
    "\n",
    "# Construcción del pipeline\n",
    "pipeline_genero = Pipeline([\n",
    "    ('preprocesador', preprocesador_genero)\n",
    "])\n",
    "\n",
    "# Aplicar el pipeline a los datos de entrenamiento\n",
    "df_genero_preprocesado = pipeline_genero.fit_transform(data_train)\n",
    "\n",
    "# Mostrar la matriz resultante\n",
    "print(df_genero_preprocesado)"
   ]
  },
  {
   "cell_type": "markdown",
   "id": "66340f80",
   "metadata": {
    "id": "66340f80"
   },
   "source": [
    "## Parte 6 - Clasificación con Regresión Logística"
   ]
  },
  {
   "cell_type": "markdown",
   "id": "5ad84773",
   "metadata": {
    "id": "5ad84773"
   },
   "source": [
    "- Con los datos procesados por los pipelines de la Parte 4 y Parte 5 entrenar un modelo de *Regresión Logística* con parámetros por defecto y estimar el desempeño mediante validación cruzada 5-folds.\n",
    "- Observe los desempeños obtenidos. ¿Qué puede decir sobre los datos? ¿Y sobre el modelo?"
   ]
  },
  {
   "cell_type": "code",
   "execution_count": 60,
   "id": "6df7145e",
   "metadata": {
    "id": "6df7145e"
   },
   "outputs": [
    {
     "name": "stdout",
     "output_type": "stream",
     "text": [
      "Pipeline completo: 0.7946 ± 0.0155\n",
      "Solo género: 0.7867 ± 0.0187\n"
     ]
    }
   ],
   "source": [
    "from sklearn.linear_model import LogisticRegression\n",
    "from sklearn.model_selection import cross_val_score\n",
    "import numpy as np\n",
    "\n",
    "modelo = LogisticRegression(max_iter=1000,C=0.1, random_state=42)\n",
    "\n",
    "\n",
    "y = data_train['Survived']\n",
    "\n",
    "scores_completo = cross_val_score(modelo, df_preprocesado, y, cv=5, scoring='accuracy')\n",
    "scores_genero = cross_val_score(modelo, df_genero_preprocesado, y, cv=5, scoring='accuracy')\n",
    "\n",
    "print(f\"Pipeline completo: {scores_completo.mean():.4f} ± {scores_completo.std():.4f}\")\n",
    "print(f\"Solo género: {scores_genero.mean():.4f} ± {scores_genero.std():.4f}\")"
   ]
  },
  {
   "cell_type": "markdown",
   "id": "2fdb958d",
   "metadata": {
    "ExecuteTime": {
     "end_time": "2022-02-14T14:27:14.408426Z",
     "start_time": "2022-02-14T14:27:14.398454Z"
    },
    "heading_collapsed": true,
    "id": "2fdb958d"
   },
   "source": [
    "## Parte 7 - Busqueda de Hiperparámetros"
   ]
  },
  {
   "cell_type": "markdown",
   "id": "85fa9ade",
   "metadata": {
    "hidden": true,
    "id": "85fa9ade"
   },
   "source": [
    "- Utilizar *Grid Search* para encontrar el valor óptimo del parámetro *C* del mejor clasificador de *Regresión Logística* obtenido de la parte anterior."
   ]
  },
  {
   "cell_type": "code",
   "execution_count": 58,
   "id": "3035cc1b",
   "metadata": {
    "hidden": true,
    "id": "3035cc1b"
   },
   "outputs": [
    {
     "name": "stdout",
     "output_type": "stream",
     "text": [
      "Mejor valor de C: 0.1\n",
      "Mejor precisión obtenida: 0.7946\n"
     ]
    }
   ],
   "source": [
    "from sklearn.model_selection import GridSearchCV\n",
    "\n",
    "param_grid = {\n",
    "    'C': [0.001, 0.01, 0.1, 1, 10, 100]  # Valores de C a probar\n",
    "}\n",
    "\n",
    "grid_search = GridSearchCV(modelo.fit(df_preprocesado, y_target), param_grid, cv=5, scoring='accuracy', n_jobs=-1)\n",
    "grid_search.fit(df_preprocesado, y_target)\n",
    "\n",
    "best_model = grid_search.best_estimator_\n",
    "best_C = grid_search.best_params_['C']\n",
    "\n",
    "print(f\"Mejor valor de C: {best_C}\")\n",
    "print(f\"Mejor precisión obtenida: {grid_search.best_score_:.4f}\")"
   ]
  },
  {
   "cell_type": "markdown",
   "id": "5fe5e557",
   "metadata": {
    "id": "5fe5e557"
   },
   "source": [
    "## Parte 8 - Guardar Modelo"
   ]
  },
  {
   "cell_type": "markdown",
   "id": "062acf1b",
   "metadata": {
    "id": "062acf1b"
   },
   "source": [
    "- Guarde el modelo obtenido de la parte anterior.\n",
    "\n",
    "*Observación: Es usual que entrenar modelos tome un tiempo considerable por lo que el guardado del modelo resulta de vital importancia.*"
   ]
  },
  {
   "cell_type": "code",
   "execution_count": 67,
   "id": "0e64efe9",
   "metadata": {
    "id": "0e64efe9"
   },
   "outputs": [
    {
     "data": {
      "text/plain": [
       "['Modelo_preprocesado_Titanic']"
      ]
     },
     "execution_count": 67,
     "metadata": {},
     "output_type": "execute_result"
    }
   ],
   "source": [
    "import joblib\n",
    "modelo_final = LogisticRegression(max_iter=1000,C=0.1, random_state=42)\n",
    "modelo_final.fit(df_preprocesado,y_target)\n",
    "\n",
    "joblib.dump(modelo_final, \"Modelo_preprocesado_Titanic\")"
   ]
  },
  {
   "cell_type": "markdown",
   "id": "0a8595f3",
   "metadata": {
    "id": "0a8595f3"
   },
   "source": [
    "## Parte 9 - Generar predicciones en conjunto de test"
   ]
  },
  {
   "cell_type": "markdown",
   "id": "979a7d96",
   "metadata": {
    "id": "979a7d96"
   },
   "source": [
    "- Levante el modelo guardado en la parte anterior.\n",
    "- Genere las predicciones con el conjunto de test."
   ]
  },
  {
   "cell_type": "code",
   "execution_count": 75,
   "id": "c928ca95",
   "metadata": {
    "id": "c928ca95"
   },
   "outputs": [
    {
     "name": "stderr",
     "output_type": "stream",
     "text": [
      "C:\\Users\\ureca\\miniconda3\\envs\\TAA-py311\\Lib\\site-packages\\sklearn\\utils\\validation.py:2739: UserWarning: X does not have valid feature names, but LogisticRegression was fitted with feature names\n",
      "  warnings.warn(\n"
     ]
    }
   ],
   "source": [
    "modelo_final = joblib.load(\"Modelo_preprocesado_Titanic\")\n",
    "\n",
    "data_test = pd.read_csv('test.csv')\n",
    "X_test = preprocessing_pipeline_default.transform(data_test)\n",
    "\n",
    "pred = modelo_final.predict(X_test)\n"
   ]
  },
  {
   "cell_type": "markdown",
   "id": "15114419",
   "metadata": {
    "id": "15114419"
   },
   "source": [
    "## Parte 10 - Generar una Kaggle Submission"
   ]
  },
  {
   "cell_type": "markdown",
   "id": "2d2cf97f",
   "metadata": {
    "id": "2d2cf97f"
   },
   "source": [
    "- Generar una Kaggle Submission utilizando las prediciones obtenidas en el conjunto de Test. Puede ver un ejemplo de como hacerlo [aquí](https://www.kaggle.com/jlawman/complete-beginner-your-first-titanic-submission?scriptVersionId=1700267&cellId=17)."
   ]
  },
  {
   "cell_type": "code",
   "execution_count": null,
   "id": "58fda0e6",
   "metadata": {
    "id": "58fda0e6"
   },
   "outputs": [],
   "source": []
  },
  {
   "cell_type": "markdown",
   "id": "93fa6c11",
   "metadata": {
    "id": "93fa6c11"
   },
   "source": [
    "Una vez generado el archivo *.csv*, la submission se puede realizar subiendo directamente el archivo a la página de Kaggle o desde la línea de comandos como:\n",
    "\n",
    "`!kaggle competitions submit -c [COMPETITION] -f [FILE] -m [MESSAGE]`  "
   ]
  },
  {
   "cell_type": "code",
   "execution_count": null,
   "id": "78dd9be5",
   "metadata": {
    "id": "78dd9be5"
   },
   "outputs": [],
   "source": [
    "!kaggle competitions submit -c titanic -f my_first_titanic_predictions.csv -m primer_submission"
   ]
  },
  {
   "cell_type": "markdown",
   "id": "ddd83801",
   "metadata": {
    "ExecuteTime": {
     "end_time": "2022-02-14T15:13:41.567355Z",
     "start_time": "2022-02-14T15:13:41.549405Z"
    },
    "id": "ddd83801"
   },
   "source": [
    "## Parte 11 - En busca de un mejor modelo"
   ]
  },
  {
   "cell_type": "markdown",
   "id": "1037f7d6",
   "metadata": {
    "id": "1037f7d6"
   },
   "source": [
    "- Generar un nuevo **pipeline** y evaluar si éste genera un mejor clasificador. Algunas de las opciones que se pueden explorar son las siguientes:\n",
    "    * Evaluar la característica Pclass como dato numérico, ordinal o categórico.    \n",
    "    * Estudiar qué escalado sirve en los atributos numéricos   \n",
    "    * Agregar nuevas características y/o sustituir las existentes. Por ejemplo:   \n",
    "        - Reemplazar *SibSp* y *Parch* por la suma     \n",
    "        - Discretizar algún atributo numérico, por ejemplo la edad.\n",
    "    * Estudiar algún modelo alternativo (*Se sugiere experimentar con SVM o RandomForestClassifier*)\n",
    "    * Construir un **pipeline** que permita determinar automáticamente qué grupo de características utilizar y qué estrategia seguir para lidiar con datos faltantes."
   ]
  },
  {
   "cell_type": "code",
   "execution_count": null,
   "id": "0ff34288",
   "metadata": {
    "id": "0ff34288"
   },
   "outputs": [],
   "source": []
  }
 ],
 "metadata": {
  "colab": {
   "provenance": []
  },
  "kernelspec": {
   "display_name": "Python 3 (ipykernel)",
   "language": "python",
   "name": "python3"
  },
  "language_info": {
   "codemirror_mode": {
    "name": "ipython",
    "version": 3
   },
   "file_extension": ".py",
   "mimetype": "text/x-python",
   "name": "python",
   "nbconvert_exporter": "python",
   "pygments_lexer": "ipython3",
   "version": "3.11.11"
  },
  "toc": {
   "base_numbering": 1,
   "nav_menu": {},
   "number_sections": true,
   "sideBar": true,
   "skip_h1_title": false,
   "title_cell": "Table of Contents",
   "title_sidebar": "Contents",
   "toc_cell": false,
   "toc_position": {},
   "toc_section_display": true,
   "toc_window_display": false
  },
  "varInspector": {
   "cols": {
    "lenName": 16,
    "lenType": 16,
    "lenVar": 40
   },
   "kernels_config": {
    "python": {
     "delete_cmd_postfix": "",
     "delete_cmd_prefix": "del ",
     "library": "var_list.py",
     "varRefreshCmd": "print(var_dic_list())"
    },
    "r": {
     "delete_cmd_postfix": ") ",
     "delete_cmd_prefix": "rm(",
     "library": "var_list.r",
     "varRefreshCmd": "cat(var_dic_list()) "
    }
   },
   "position": {
    "height": "484.844px",
    "left": "725px",
    "right": "20px",
    "top": "118px",
    "width": "514px"
   },
   "types_to_exclude": [
    "module",
    "function",
    "builtin_function_or_method",
    "instance",
    "_Feature"
   ],
   "window_display": false
  }
 },
 "nbformat": 4,
 "nbformat_minor": 5
}
