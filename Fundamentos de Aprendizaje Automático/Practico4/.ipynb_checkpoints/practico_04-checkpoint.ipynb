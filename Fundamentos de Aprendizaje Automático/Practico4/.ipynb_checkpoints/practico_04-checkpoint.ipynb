{
 "cells": [
  {
   "cell_type": "markdown",
   "metadata": {},
   "source": [
    "# Fundamentos de Aprendizaje Automático y Reconocimiento de Patrones\n",
    "***\n",
    "# Práctico 4"
   ]
  },
  {
   "cell_type": "code",
   "execution_count": null,
   "metadata": {},
   "outputs": [],
   "source": [
    "import numpy as np\n",
    "from matplotlib import pyplot as plt\n",
    "\n",
    "%matplotlib inline\n",
    "# %matplotlib notebook\n",
    "\n",
    "from utils.fuaa_utils import validar_resultado\n",
    "from utils.fuaa_utils import mostrar_curva_aprendizaje\n",
    "\n",
    "# Tamaño de las figuras por defecto\n",
    "plt.rcParams['figure.figsize'] = (7.0, 7.0)\n",
    "\n",
    "%reload_ext autoreload\n",
    "%autoreload 2"
   ]
  },
  {
   "cell_type": "markdown",
   "metadata": {},
   "source": [
    "## Objetivos\n",
    "\n",
    "Al completar este práctico el estudiante será capaz de:\n",
    "\n",
    "- Implementar el mecanismo de regularización conocido como **weight decay** en un problema de clasificación\n",
    "- Implementar e interpretar las **curvas de aprendizaje** como una herramienta útil para entender el grado de ajuste de un modelo a los datos \n",
    "- Implementar y aplicar diversos mecanismos de **regularización** en un problema de **regresión polinómica**. Se aplicará: \n",
    "    - regularización de **Ridge** mediante su **solución cerrada** y mediante **descenso por gradiente**\n",
    "    - regularización de **Lasso** \n",
    "- Generar un modelo para **predecir** el **valor promedio de las casas** en una determinada región y evaluar su bondad mediante un adecuado uso de conjuntos de **entrenamiento**, **validación** y **test**. \n",
    "\n",
    "*** \n",
    "\n",
    "## Lista de ejercicios\n",
    "\n",
    "[Ejercicio 1](#Ejercicio1): regularización con *weight decay*       \n",
    "[Ejercicio 2](#Ejercicio2): curvas de aprendizaje    \n",
    "[Ejercicio 3](#Ejercicio3): regularización en el caso de regresión polinómica    \n",
    "[Ejercicio 4](#Ejercicio4): predecir el valor medio de las casas en una región determinada\n"
   ]
  },
  {
   "cell_type": "markdown",
   "metadata": {},
   "source": [
    "# Ejercicio 1: Regularización con Weight Decay  - Clasificación utilizando dos características\n",
    "<a id=\"Ejercicio1\"></a>"
   ]
  },
  {
   "cell_type": "markdown",
   "metadata": {},
   "source": [
    "En este ejercicio se verá una de las formas más comunes de regularización: *weight decay*. A continuación se generan los datos y etiquetas para entrenamiento y test."
   ]
  },
  {
   "cell_type": "code",
   "execution_count": null,
   "metadata": {},
   "outputs": [],
   "source": [
    "# Funcion para generar los datos\n",
    "def generar_puntos_ej1 (num_points, seed = 86):\n",
    "    # Fijo la semilla\n",
    "    np.random.seed(seed)\n",
    "\n",
    "    # Genero Datos\n",
    "    data = np.random.uniform(-1, 1, size=(num_points, 2))\n",
    "    y = np.ones(num_points)\n",
    "\n",
    "    # Definir las funciones de las rectas diagonales\n",
    "    def diagonal_superior(x):\n",
    "        return x[1] > x[0] - 0.45\n",
    "    \n",
    "    def diagonal_inferior(x):\n",
    "        return x[1] < x[0] + 0.45\n",
    "    \n",
    "    # Etiquetar los puntos que están dentro de la franja\n",
    "    for i in range(num_points):\n",
    "        if diagonal_superior(data[i]) and diagonal_inferior(data[i]):\n",
    "            y[i] = -1\n",
    "\n",
    "    # Convierto a homogeneas\n",
    "    X = np.ones((data.shape[0], 3))\n",
    "    X[:, 1:] = data[:, :2]\n",
    "\n",
    "    return X, y\n",
    "\n",
    "# Genero los datos\n",
    "seed = 86\n",
    "X_train, y_train = generar_puntos_ej1 (num_points = 35, seed = seed)\n",
    "X_test, y_test = generar_puntos_ej1 (num_points = 350, seed = seed)\n",
    "\n",
    "# Graficar los puntos\n",
    "plt.scatter(X_train[y_train == 1, 1],\n",
    "            X_train[y_train == 1, 2],\n",
    "            c='r',\n",
    "            label='positivos')\n",
    "plt.scatter(X_train[y_train == -1, 1],\n",
    "            X_train[y_train == -1, 2],\n",
    "            c='b',\n",
    "            label='negativos')\n",
    "plt.xlabel(\"$x_1$\", fontsize=14)\n",
    "plt.ylabel(\"$x_2$\", rotation=0, fontsize=14)\n",
    "plt.title('Puntos generados con etiquetas.', fontsize=14)\n",
    "plt.legend()\n",
    "plt.tight_layout()\n",
    "plt.show()"
   ]
  },
  {
   "cell_type": "markdown",
   "metadata": {},
   "source": [
    "Como las clases no son linealmente separables se aplicará una transformación no lineal a las características. La expectativa es que dicha transformación lleve los datos a un nuevo espacio en que sí puedan separarse utilizando un clasificador lineal."
   ]
  },
  {
   "cell_type": "markdown",
   "metadata": {},
   "source": [
    "**Ej1 a)** Implementar el método `transformada_no_lineal()`."
   ]
  },
  {
   "cell_type": "code",
   "execution_count": null,
   "metadata": {},
   "outputs": [],
   "source": [
    "def transformada_no_lineal(X):\n",
    "    '''\n",
    "    Entrada: \n",
    "        X: matriz de dimensión (N,3) donde cada fila contiene una muestra.\n",
    "    Salida: \n",
    "        Xt: matriz de dimensión (N,8) donde cada fila contiene una muestra en \n",
    "            el espacio trasformado. \n",
    "        \n",
    "    Dado un vector de entrada [x1, x2] el vector transformado a devolver es:\n",
    "    [1, x1, x2, x1^2, x2^2, x1*x2, |x1-x2|,|x1+x2|]\n",
    "    '''\n",
    "\n",
    "    #####################################################\n",
    "    ####### EMPIEZA ESPACIO PARA COMPLETAR CÓDIGO #######\n",
    "    #####################################################\n",
    "\n",
    "    # Xt =\n",
    "\n",
    "    #####################################################\n",
    "    ####### TERMINA ESPACIO PARA COMPLETAR CÓDIGO #######\n",
    "    #####################################################\n",
    "\n",
    "    return Xt"
   ]
  },
  {
   "cell_type": "code",
   "execution_count": null,
   "metadata": {},
   "outputs": [],
   "source": [
    "# Validar implementación de transformación no lineal.\n",
    "validar_resultado(\"transformada_no_lineal\", funcion=transformada_no_lineal)"
   ]
  },
  {
   "cell_type": "markdown",
   "metadata": {},
   "source": [
    "## Regresión lineal sin regularización "
   ]
  },
  {
   "cell_type": "markdown",
   "metadata": {},
   "source": [
    "**Ej1 b)** Como clasificador base se utilizará a la regresión lineal para clasificación. Completar el código del método `regresion_lineal()`. En principio no se utilizará ningún tipo de regularización. "
   ]
  },
  {
   "cell_type": "code",
   "execution_count": null,
   "metadata": {},
   "outputs": [],
   "source": [
    "def regresion_lineal(X, y):\n",
    "    '''\n",
    "    Entrada:\n",
    "        X: matriz de dimensión (N,d+1)\n",
    "        y: arreglo de dimensión (N,)\n",
    "    Salida:\n",
    "        w_ls: vector de pesos con dimensión (d+1,) encontrado por la regresión lineal \n",
    "    '''\n",
    "    #####################################################\n",
    "    ####### EMPIEZA ESPACIO PARA COMPLETAR CÓDIGO #######\n",
    "    #####################################################\n",
    "\n",
    "    # w_ls =\n",
    "\n",
    "    #####################################################\n",
    "    ####### TERMINA ESPACIO PARA COMPLETAR CÓDIGO #######\n",
    "    #####################################################\n",
    "\n",
    "    return w_ls"
   ]
  },
  {
   "cell_type": "code",
   "execution_count": null,
   "metadata": {},
   "outputs": [],
   "source": [
    "validar_resultado(\"regresion_lineal\", funcion=regresion_lineal)"
   ]
  },
  {
   "cell_type": "markdown",
   "metadata": {},
   "source": [
    "**Ej1 c)** Clasificar las muestras mediante regresión lineal en el espacio transformado  y calcular el error de entrenamiento."
   ]
  },
  {
   "cell_type": "code",
   "execution_count": null,
   "metadata": {},
   "outputs": [],
   "source": [
    "#####################################################\n",
    "####### EMPIEZA ESPACIO PARA COMPLETAR CÓDIGO #######\n",
    "#####################################################\n",
    "\n",
    "# Transformar los datos.\n",
    "# Xt_train =\n",
    "\n",
    "# Hallar los coeficientes de la regresión lineal en el espacio transformado.\n",
    "# w_ls =\n",
    "\n",
    "# Calcular E_in (error de clasificación con el conjunto de entrenamiento).\n",
    "# E_in =\n",
    "\n",
    "#####################################################\n",
    "####### TERMINA ESPACIO PARA COMPLETAR CÓDIGO #######\n",
    "#####################################################"
   ]
  },
  {
   "cell_type": "markdown",
   "metadata": {},
   "source": [
    "**Ej1 d)** ¿Cuál es el error con el conjunto de test?"
   ]
  },
  {
   "cell_type": "code",
   "execution_count": null,
   "metadata": {},
   "outputs": [],
   "source": [
    "#####################################################\n",
    "####### EMPIEZA ESPACIO PARA COMPLETAR CÓDIGO #######\n",
    "#####################################################\n",
    "\n",
    "# E_out =\n",
    "\n",
    "#####################################################\n",
    "####### EMPIEZA ESPACIO PARA COMPLETAR CÓDIGO #######\n",
    "#####################################################\n",
    "\n",
    "print('E_in = %f, E_out = %f' % (E_in, E_out))\n",
    "print('| E_in - E_out | = %f' %\n",
    "      (np.abs(E_in - E_out)))  # Esta diferencia debe ser del orden de ~5%"
   ]
  },
  {
   "cell_type": "markdown",
   "metadata": {},
   "source": [
    "## Regresión lineal con regularización "
   ]
  },
  {
   "cell_type": "markdown",
   "metadata": {},
   "source": [
    "A continuación se encontrarán los parámetros del modelo lineal tomando en cuenta, además del ajuste a los datos, un término de regularización. \n",
    "\n",
    "$$\n",
    "E_{aug}(\\mathbf{w})=E_{in}(\\mathbf{w}) + \\lambda \\mathbf{w^T}\\mathbf{w} \n",
    "$$"
   ]
  },
  {
   "cell_type": "markdown",
   "metadata": {},
   "source": [
    "**Ej1 e)** Implementar el método `regresion_Ridge()`. Para ello utilizar la solución cerrada vista en el curso.   "
   ]
  },
  {
   "cell_type": "code",
   "execution_count": null,
   "metadata": {},
   "outputs": [],
   "source": [
    "def regresion_Ridge(X, y, reg, regularizar_bias=False):\n",
    "    '''\n",
    "    Implementa la solución cerrada de la regresión de Ridge. En esta variante se\n",
    "    permite elegir si se desea regularizar el bias (coeficiente w_0) o no.\n",
    "    \n",
    "    Entrada:\n",
    "        X: matriz de dimensión (N,d+1) \n",
    "        y: arreglo de dimensión (N,) con los valores objetivo\n",
    "        reg: coeficiente que multiplica al término de regularización\n",
    "        regularizar_bias: variable booleana que indica si se regulariza el \n",
    "                          término de bias o no.\n",
    "    Salida:\n",
    "        w_reg: vector de pesos con dimensión (d+1,) con los parámetros encontrados \n",
    "                mediante la regularización de Ridge.\n",
    "    '''\n",
    "\n",
    "    # Si no se regulariza el coeficiente w_0 se pone el elemento [0,0]\n",
    "    # de la matriz identidad a cero\n",
    "    reg_matrix = np.identity(X.shape[1])\n",
    "    if not regularizar_bias:\n",
    "        reg_matrix[0, 0] = 0\n",
    "\n",
    "    #####################################################\n",
    "    ####### EMPIEZA ESPACIO PARA COMPLETAR CÓDIGO #######\n",
    "    #####################################################\n",
    "\n",
    "    # w_reg =\n",
    "\n",
    "    #####################################################\n",
    "    ####### TERMINA ESPACIO PARA COMPLETAR CÓDIGO #######\n",
    "    #####################################################\n",
    "\n",
    "    return w_reg"
   ]
  },
  {
   "cell_type": "code",
   "execution_count": null,
   "metadata": {},
   "outputs": [],
   "source": [
    "validar_resultado('regresion_Ridge', funcion=regresion_Ridge)"
   ]
  },
  {
   "cell_type": "markdown",
   "metadata": {},
   "source": [
    "**Ej1 f)** Evaluar los errores de clasificación $E_{in}$  y $E_{out}$ para factores de regularización de la forma $10^k$ con $k$ entero en el rango $[-6, 6]$.  ¿Cómo valoraría el ajuste del modelo a los datos en $k=-6$?. ¿Y en $k=6$?. De los factores de regularización evaluados, ¿cuál considera que es el óptimo?"
   ]
  },
  {
   "cell_type": "code",
   "execution_count": null,
   "metadata": {},
   "outputs": [],
   "source": [
    "lambdas = 10**np.arange(-6.0, 7.0, 1.0)\n",
    "\n",
    "# Listas que almacenan los valores de E_in y E_out para los valores de lambda evaluados\n",
    "E_ins = []\n",
    "E_outs = []\n",
    "\n",
    "#####################################################\n",
    "####### EMPIEZA ESPACIO PARA COMPLETAR CÓDIGO #######\n",
    "#####################################################\n",
    "\n",
    "\n",
    "\n",
    "#####################################################\n",
    "####### TERMINA ESPACIO PARA COMPLETAR CÓDIGO #######\n",
    "#####################################################\n",
    "\n",
    "plt.figure()\n",
    "plt.plot(np.log10(lambdas), E_ins, label='E_in')\n",
    "plt.plot(np.log10(lambdas), E_outs, label='E_out')\n",
    "plt.legend()\n",
    "plt.title('Errores de entrenamiento y test', fontsize=14)\n",
    "plt.xlabel('log10 $\\lambda$')\n",
    "plt.grid()"
   ]
  },
  {
   "cell_type": "markdown",
   "metadata": {},
   "source": [
    "**Respuesta:** ..."
   ]
  },
  {
   "cell_type": "markdown",
   "metadata": {},
   "source": [
    "**Ej1 g)** Si la implementación de las partes anteriores fue correcta seguramente haya podido encontrar un valor del factor de regularización que genere un $E_{out}$ menor que el obtenido sin utilizar regularización. Esta es la utilidad práctica de *weight decay*. Sin embargo, el procedimiento utilizado para encontrar el valor óptimo de $\\lambda$ impide considerar a $E_{out}$ como un buen estimador de lo que pasará cuando el algoritmo se ponga en producción. Explique la razón y proponga un mecanismo alternativo para determinar el valor óptimo de $\\lambda$ que no invalide a $E_{out}$ como estimador de la capacidad de generalización del modelo."
   ]
  },
  {
   "cell_type": "markdown",
   "metadata": {},
   "source": [
    "**Respuesta:**  ..."
   ]
  },
  {
   "cell_type": "markdown",
   "metadata": {},
   "source": [
    "**Ej1 h)** En esta parte se verá por qué a esta forma de regularización se la conoce con el nombre *weight decay*. Mostrar que la regla de actualización de pesos\n",
    "\n",
    "$$\n",
    "\\mathbf{w}^{new}=\\mathbf{w}^{old}(1-\\epsilon) - \\eta \\nabla E_{in}(\\mathbf{w})\n",
    "$$\n",
    "\n",
    "minimiza la función de costo $E_{aug} = E_{in}(\\mathbf{w})+ \\lambda \\mathbf{w^t}\\mathbf{w}$. Exprese $\\lambda$ en términos de la constante de caída $\\epsilon$ y la velocidad de aprendizaje $\\eta$ (*learning rate*)."
   ]
  },
  {
   "cell_type": "markdown",
   "metadata": {},
   "source": [
    "**Respuesta:**  ..."
   ]
  },
  {
   "cell_type": "markdown",
   "metadata": {},
   "source": [
    "# Ejercicio 2: Regresión polinómica \n",
    "<a id=\"Ejercicio2\"></a>\n"
   ]
  },
  {
   "cell_type": "markdown",
   "metadata": {},
   "source": [
    "La transformación polinómica de las características y posterior utilización de un modelo lineal puede utilizarse también en problemas de regresión. Este procedimiento es útil cuando la relación entre las características y la variable dependiente de las mismas es no lineal. \n",
    "\n",
    "La siguiente celda genera una variable $y$ que depende no linealmente de las características $X$. En este caso se trabajará con una sola característica para facilitar la visualización de resultados."
   ]
  },
  {
   "cell_type": "code",
   "execution_count": null,
   "metadata": {},
   "outputs": [],
   "source": [
    "# Se genera una relación no lineal ruidosa entre X e y\n",
    "np.random.seed(42)\n",
    "Npuntos = 100 \n",
    "X = 6 * np.random.rand(Npuntos, 1) - 3\n",
    "a = 0.5\n",
    "b = 1.\n",
    "c = 2.\n",
    "y = a * X**2 + b * X + c + np.random.randn(Npuntos, 1)\n",
    "y = np.squeeze(y)"
   ]
  },
  {
   "cell_type": "code",
   "execution_count": null,
   "metadata": {},
   "outputs": [],
   "source": [
    "# plt.figure(figsize=(7, 7))\n",
    "plt.plot(X, y, \"b.\")\n",
    "plt.xlabel(\"$x_1$\", fontsize=18)\n",
    "plt.ylabel(\"$y$\", rotation=0, fontsize=18)\n",
    "plt.title('Puntos generados para aprender los parámetros', fontsize=14)\n",
    "plt.axis([-3, 3, 0, 10])\n",
    "plt.axis('equal')\n",
    "plt.show()"
   ]
  },
  {
   "cell_type": "markdown",
   "metadata": {},
   "source": [
    "De la gráfica resulta evidente que no es posible encontrar una recta que se ajuste bien a los datos. Por lo tanto se propone realizar una transformación polinómica de las características.  "
   ]
  },
  {
   "cell_type": "markdown",
   "metadata": {},
   "source": [
    "**Ej2 a)** Implementar el método `transformacion_polinomica()` y utilizarlo para realizar una transformación polinómica de grado 2 de la única característica presente originalmente. Encontrar los coeficientes del modelo lineal y verificar que con una cantidad suficiente de datos la estimación es razonable."
   ]
  },
  {
   "cell_type": "code",
   "execution_count": null,
   "metadata": {},
   "outputs": [],
   "source": [
    "def transformacion_polinomica(X, grado=2):\n",
    "    '''\n",
    "    Entrada:\n",
    "        X: matriz de dimensión (N,1) que contiene las características de N muestras\n",
    "        grado: escalar que indica el grado de la transformación polinómica a realizar\n",
    "                a las características originales\n",
    "    Salida:\n",
    "        Xpoly: matriz de dimensión (N,grado+1) que contiene las características en el \n",
    "               espacio transformado (expresado en coordenadas homogéneas) \n",
    "    '''\n",
    "\n",
    "    #####################################################\n",
    "    ####### EMPIEZA ESPACIO PARA COMPLETAR CÓDIGO #######\n",
    "    #####################################################\n",
    "    \n",
    "    # Xpoly =\n",
    "\n",
    "    #####################################################\n",
    "    ####### TERMINA ESPACIO PARA COMPLETAR CÓDIGO #######\n",
    "    #####################################################\n",
    "    return Xpoly"
   ]
  },
  {
   "cell_type": "code",
   "execution_count": null,
   "metadata": {},
   "outputs": [],
   "source": [
    "# Validar implementación de transformación polinómica.\n",
    "validar_resultado(\"transformacion_polinomica\", funcion=transformacion_polinomica)"
   ]
  },
  {
   "cell_type": "code",
   "execution_count": null,
   "metadata": {},
   "outputs": [],
   "source": [
    "#####################################################\n",
    "####### EMPIEZA ESPACIO PARA COMPLETAR CÓDIGO #######\n",
    "#####################################################\n",
    "\n",
    "# Se realiza una transformación polinómica de grado 2\n",
    "# y se encuentran los coeficientes del modelo lineal\n",
    "\n",
    "# Xpoly2 =\n",
    "\n",
    "# w_ls_2 =\n",
    "\n",
    "#####################################################\n",
    "####### TERMINA ESPACIO PARA COMPLETAR CÓDIGO #######\n",
    "#####################################################\n",
    "\n",
    "# Validar implementación de transformación y regresión.\n",
    "validar_resultado(\"Xpoly2\", Xpoly2, w_ls_2)"
   ]
  },
  {
   "cell_type": "markdown",
   "metadata": {},
   "source": [
    "## Visualización del modelo aprendido"
   ]
  },
  {
   "cell_type": "markdown",
   "metadata": {},
   "source": [
    "**Ej2 b)** Completar la celda y mostrar la curva obtenida. "
   ]
  },
  {
   "cell_type": "code",
   "execution_count": null,
   "metadata": {},
   "outputs": [],
   "source": [
    "# Se genera un nuevo conjunto de datos en el rango de X para ver como\n",
    "# se comporta el modelo aprendido en otros puntos del dominio\n",
    "X_new = np.linspace(-3, 3, 100).reshape(100, 1)\n",
    "\n",
    "#####################################################\n",
    "####### EMPIEZA ESPACIO PARA COMPLETAR CÓDIGO #######\n",
    "#####################################################\n",
    "\n",
    "# Utilizando el modelo aprendido, se encuentran los valores de $y$ para\n",
    "# los X_new recientemente generados\n",
    "\n",
    "# y_new =\n",
    "\n",
    "#####################################################\n",
    "####### TERMINA ESPACIO PARA COMPLETAR CÓDIGO #######\n",
    "#####################################################\n",
    "\n",
    "plt.plot(X, y, \"b.\", label='puntos de entrenamiento')\n",
    "plt.plot(X_new,\n",
    "         y_new,\n",
    "         \"r-\",\n",
    "         linewidth=2,\n",
    "         label=\"predicciones en conjunto de validación\")\n",
    "plt.xlabel(\"$x_1$\", fontsize=14)\n",
    "plt.ylabel(\"$y$\", rotation=0, fontsize=14)\n",
    "plt.legend(loc=\"upper left\", fontsize=14)\n",
    "plt.axis([-3, 3, 0, 10])\n",
    "plt.axis('equal')\n",
    "plt.show()"
   ]
  },
  {
   "cell_type": "markdown",
   "metadata": {},
   "source": [
    "## Curvas de aprendizaje"
   ]
  },
  {
   "cell_type": "markdown",
   "metadata": {},
   "source": [
    "Una forma de evaluar la capacidad de generalización de un modelo es mediante la *curva de aprendizaje*. Dicha curva muestra el desempeño en los conjuntos de entrenamiento y validación en función del número de muestras utilizadas para entrenar. "
   ]
  },
  {
   "cell_type": "markdown",
   "metadata": {},
   "source": [
    "**Ej2 c)** Completar la implementación del método `generar_curva_aprendizaje()`. Para estimar el desempeño de los modelos aprendidos, dicho método deberá hacer uso del método `mse()` que también será implementado."
   ]
  },
  {
   "cell_type": "code",
   "execution_count": null,
   "metadata": {},
   "outputs": [],
   "source": [
    "def mse(X, y, w):\n",
    "    '''\n",
    "    Entrada:\n",
    "        X: matriz de dimensión (N,d+1) \n",
    "        y: arreglo de dimensión (N,) con los valores objetivo\n",
    "        w: vector de pesos de tamaño (d+1,)\n",
    "    Salida:\n",
    "        mse: error cuadrático medio entre la salida del modelo\n",
    "             lineal y los valores objetivos\n",
    "    '''\n",
    "\n",
    "    #####################################################\n",
    "    ####### EMPIEZA ESPACIO PARA COMPLETAR CÓDIGO #######\n",
    "    #####################################################\n",
    "\n",
    "    # mse =\n",
    "\n",
    "    #####################################################\n",
    "    ####### TERMINA ESPACIO PARA COMPLETAR CÓDIGO #######\n",
    "    #####################################################\n",
    "\n",
    "    return mse"
   ]
  },
  {
   "cell_type": "code",
   "execution_count": null,
   "metadata": {},
   "outputs": [],
   "source": [
    "def generar_curva_aprendizaje(X, y, valid_size=0.25):\n",
    "    '''\n",
    "    Entrada:\n",
    "        X: matriz de dimensión (N,d+1) que contiene N muestras\n",
    "        y: arreglo de dimensión (N,) con los valores objetivo\n",
    "        valid_size: fracción del conjunto de N muestras disponibles que se reservará\n",
    "                    para test\n",
    "    Salida:\n",
    "        train_errors: lista con los errores en el conjunto de entrenamiento\n",
    "        val_errors: lista con los errores en el conjunto de validación\n",
    "    '''\n",
    "\n",
    "    N = X.shape[0]\n",
    "    d = X.shape[1] - 1\n",
    "    Ntrain = int((1 - valid_size) * N)\n",
    "\n",
    "    #####################################################\n",
    "    ####### EMPIEZA ESPACIO PARA COMPLETAR CÓDIGO #######\n",
    "    #####################################################\n",
    "\n",
    "    # Se divide aleatoriamente el conjunto de datos en entrenamiento y validación\n",
    "\n",
    "    # X_train, X_val =\n",
    "\n",
    "    # y_train, y_val =\n",
    "\n",
    "    #####################################################\n",
    "    ####### TERMINA ESPACIO PARA COMPLETAR CÓDIGO #######\n",
    "    #####################################################\n",
    "\n",
    "    # Variables que se utilizan para almacenar los errores de entrenamiento y\n",
    "    # validación\n",
    "    train_errors, val_errors = [], []\n",
    "    Ntrain = X_train.shape[0]\n",
    "\n",
    "    for n in range(d, Ntrain):\n",
    "\n",
    "        #####################################################\n",
    "        ####### EMPIEZA ESPACIO PARA COMPLETAR CÓDIGO #######\n",
    "        #####################################################\n",
    "\n",
    "        # se encuentran los parámetros del modelo lineal usando n+1 datos\n",
    "        # w_ls =\n",
    "\n",
    "        # se calculan los errores en entrenamiento y test\n",
    "        # mse_train =\n",
    "        # mse_val =\n",
    "\n",
    "        #####################################################\n",
    "        ####### TERMINA ESPACIO PARA COMPLETAR CÓDIGO #######\n",
    "        #####################################################\n",
    "\n",
    "        # se almacena los errores\n",
    "        train_errors.append(mse_train)\n",
    "        val_errors.append(mse_val)\n",
    "\n",
    "    return train_errors, val_errors"
   ]
  },
  {
   "cell_type": "markdown",
   "metadata": {},
   "source": [
    "### Curva de aprendizaje de un modelo lineal"
   ]
  },
  {
   "cell_type": "markdown",
   "metadata": {},
   "source": [
    "**Ej2 d)** Asumir un modelo lineal entre entrada y salida (incluyendo además el término de bias) y mostrar la curva de aprendizaje para dicho caso."
   ]
  },
  {
   "cell_type": "code",
   "execution_count": null,
   "metadata": {},
   "outputs": [],
   "source": [
    "#####################################################\n",
    "####### EMPIEZA ESPACIO PARA COMPLETAR CÓDIGO #######\n",
    "#####################################################\n",
    "\n",
    "# Se asume un modelo lineal entre la entrada X y la salida y cuando\n",
    "# en realidad la relación es de segundo grado\n",
    "\n",
    "# Xpoly1 =\n",
    "\n",
    "# train_errors, val_errors =\n",
    "\n",
    "#####################################################\n",
    "####### TERMINA ESPACIO PARA COMPLETAR CÓDIGO #######\n",
    "#####################################################\n",
    "\n",
    "mostrar_curva_aprendizaje(train_errors, val_errors)"
   ]
  },
  {
   "cell_type": "markdown",
   "metadata": {},
   "source": [
    "### Curva de aprendizaje asumiendo como relación un polinomio de orden alto"
   ]
  },
  {
   "cell_type": "markdown",
   "metadata": {},
   "source": [
    "**Ej2 e)** Aumentar el grado del polinomio (por ejemplo a 10) y comparar las curvas de aprendizaje obtenidas en ambos casos."
   ]
  },
  {
   "cell_type": "markdown",
   "metadata": {},
   "source": [
    "**Respuesta:** ..."
   ]
  },
  {
   "cell_type": "code",
   "execution_count": null,
   "metadata": {},
   "outputs": [],
   "source": [
    "nuevoGrado = 10\n",
    "\n",
    "#####################################################\n",
    "####### EMPIEZA ESPACIO PARA COMPLETAR CÓDIGO #######\n",
    "#####################################################\n",
    "\n",
    "# Se asume una relación polinómica de alto grado entre la entrada X y la salida y\n",
    "# cuando en realidad la relación es de segundo grado\n",
    "\n",
    "# Xpoly10 =\n",
    "\n",
    "# se genera la curva de aprendizaje\n",
    "# train_errors_10, val_errors_10 = \n",
    "\n",
    "#####################################################\n",
    "####### TERMINA ESPACIO PARA COMPLETAR CÓDIGO #######\n",
    "#####################################################\n",
    "\n",
    "mostrar_curva_aprendizaje(train_errors_10, val_errors_10)"
   ]
  },
  {
   "cell_type": "markdown",
   "metadata": {},
   "source": [
    "# Ejercicio 3: Regresión polinómica regularizada\n",
    "<a id=\"Ejercicio3\"></a>\n"
   ]
  },
  {
   "cell_type": "markdown",
   "metadata": {},
   "source": [
    "Se verá el efecto que tiene la regularización en la regresión polinómica. Para ello se generarán puntos pertenecientes a una recta, a los cuales se le agrega ruido gaussiano. Se trabajará con pocos puntos de entrenamiento y muchos de test para que el efecto sea más evidente."
   ]
  },
  {
   "cell_type": "code",
   "execution_count": null,
   "metadata": {},
   "outputs": [],
   "source": [
    "# Setear la semilla para que el experimento sea repetible\n",
    "np.random.seed(42)  \n",
    "Ntrain = 20  \n",
    "Ntest = 100  \n",
    "\n",
    "# Generar puntos aleatorios en el rango [0,3]\n",
    "X = 3 * np.random.rand(Ntrain, 1)\n",
    "\n",
    "# Generar una relación lineal ruidosa entre X e y\n",
    "y = 1 + 0.5 * X + np.random.randn(Ntrain, 1) / 1.5\n",
    "\n",
    "# Generar puntos de test en el mismo rango que X\n",
    "X_test = np.linspace(0, 3, Ntest).reshape(Ntest, 1)\n",
    "\n",
    "# plt.figure(figsize=(5, 5))\n",
    "plt.plot(X, y, \"b.\", linewidth=3)\n",
    "plt.xlabel(\"$x_1$\", fontsize=14)\n",
    "plt.axis([X.min()*.9, X.max()*1.1, 0, 4])\n",
    "# plt.axis([0, 3, 0, 4])\n",
    "plt.title('Puntos originales', fontsize=14);"
   ]
  },
  {
   "cell_type": "markdown",
   "metadata": {},
   "source": [
    "**Ej3 a)** El método  `comparar_regularizaciones()` muestra cómo cambian los modelos aprendidos al variar el factor de regularización cuando se utiliza la regularización de Ridge.  Completar la implementación del método `comparar_regularizaciones()`."
   ]
  },
  {
   "cell_type": "code",
   "execution_count": null,
   "metadata": {},
   "outputs": [],
   "source": [
    "def comparar_regularizaciones(X,\n",
    "                              y,\n",
    "                              X_val,\n",
    "                              grado=1,\n",
    "                              lambdas=1,\n",
    "                              regularizar_bias=False):\n",
    "    '''\n",
    "    Para un modelo polinómico del grado pasado como parámetro se muestra el efecto \n",
    "    que tiene la regularización de Ridge. El método genera internamente los modelos \n",
    "    para los factores de regularización pasados como argumento.\n",
    "    Entrada:\n",
    "        X: matriz de dimensión (N,1) que contiene N muestras.\n",
    "        y: arreglo de dimensión (N,)  que contiene los valores asociados a cada muestra.\n",
    "        X_val: matriz de dimensión (M,1) que contiene M muestras no utlizadas \n",
    "                para ajustar el modelo.\n",
    "        grado: grado de la transformación polinómica\n",
    "        lambdas: lista que contiene los factores de regularización a comparar. \n",
    "    '''\n",
    "\n",
    "    ########################################################\n",
    "    ######### EMPIEZA ESPACIO PARA COMPLETAR CÓDIGO ########\n",
    "    ########################################################\n",
    "\n",
    "    # Se encuentran las características en el espacio transformado utilizando el\n",
    "    # grado de polinomio pasado como parámetro\n",
    "\n",
    "    # Xt_train =\n",
    "   \n",
    "    # Xt_val =\n",
    "\n",
    "    ########################################################\n",
    "    ######### TERMINA ESPACIO PARA COMPLETAR CÓDIGO ########\n",
    "    ########################################################\n",
    "\n",
    "    fig = plt.figure(figsize=(10, 7))\n",
    "    ax = fig.gca()\n",
    "    ax.plot(X, y, 'b.', label='puntos originales')\n",
    "\n",
    "    # para los factores de regularización pasados como argumento se encuentran los\n",
    "    # parámetros del modelo utilizando la regularización de Ridge\n",
    "    for l in lambdas:\n",
    "\n",
    "        ##########################################################\n",
    "        ######### EMPIEZA ESPACIO PARA COMPLETAR CÓDIGO ##########\n",
    "        ##########################################################\n",
    "        # Se encuentra el w_reg mediante el criterio de mínimos cuadrados con\n",
    "        # regularización de Ridge (solución cerrada). No regularizar el bias.\n",
    "        # Utilizar el método ya implementado en el Ejercicio 1\n",
    "\n",
    "        # w_reg =\n",
    "\n",
    "        # y_pred =\n",
    "\n",
    "        ##########################################################\n",
    "        ######### TERMINA ESPACIO PARA COMPLETAR CÓDIGO ##########\n",
    "        ##########################################################\n",
    "\n",
    "        ax.plot(X_val, y_pred, linestyle='--', label='lambda = %.02f' % (l))\n",
    "\n",
    "    ax.set_xlabel(\"$x_1$\", fontsize=14)\n",
    "    ax.set_ylabel(\"$y$\", rotation=0, fontsize=14)\n",
    "    ax.set_title(\"Modelo es un polinomio de grado %d \\n (solución cerrada)\" %\n",
    "                 grado,\n",
    "                 fontsize=14)\n",
    "    ax.axis([X_val.min() - X_val.max() * 0.01, X_val.max() * 1.01, 0, 4])\n",
    "    ax.legend(loc='upper left', bbox_to_anchor=(1., 1., 0, 0), fontsize=14)\n",
    "    plt.tight_layout()"
   ]
  },
  {
   "cell_type": "markdown",
   "metadata": {},
   "source": [
    "Ejecutar la siguiente celda para observar el efecto de la regularización cuando la relación es polinómica de grado 1 y cuando es de grado 10."
   ]
  },
  {
   "cell_type": "code",
   "execution_count": null,
   "metadata": {},
   "outputs": [],
   "source": [
    "# Comparar el efecto de la regularización cuando se utiliza un modelo lineal\n",
    "comparar_regularizaciones(X, y, X_test, lambdas=[0, 10, 100])\n",
    "\n",
    "# Comparar el efecto de la regularización cuando el conjunto de hipótesis son\n",
    "# los polinomios de orden alto.\n",
    "comparar_regularizaciones(X, y, X_test, grado=10, lambdas=[0, 0.1, 1])"
   ]
  },
  {
   "cell_type": "code",
   "execution_count": null,
   "metadata": {},
   "outputs": [],
   "source": [
    "# Comparar el efecto de la regularización cuando se utiliza un modelo lineal.\n",
    "comparar_regularizaciones(X,\n",
    "                          y,\n",
    "                          X_test,\n",
    "                          lambdas=[0, 10, 100],\n",
    "                          regularizar_bias=True)\n",
    "\n",
    "# Comparar el efecto de la regularización cuando el conjunto de hipótesis son\n",
    "# los polinomios de orden alto.\n",
    "comparar_regularizaciones(X,\n",
    "                          y,\n",
    "                          X_test,\n",
    "                          grado=10,\n",
    "                          lambdas=[0, 0.1, 1],\n",
    "                          regularizar_bias=True)"
   ]
  },
  {
   "cell_type": "markdown",
   "metadata": {},
   "source": [
    "**Pregunta:**  ¿Cómo afecta el factor de regularización en la solución obtenida? Ejemplificar utilizando un modelo lineal (polinomio de grado 1) y un modelo polinómico de orden alto, por ejemplo 10.  "
   ]
  },
  {
   "cell_type": "markdown",
   "metadata": {},
   "source": [
    "**Respuesta:**  ... "
   ]
  },
  {
   "cell_type": "markdown",
   "metadata": {},
   "source": [
    "## Regularización mediante descenso por gradiente"
   ]
  },
  {
   "cell_type": "markdown",
   "metadata": {},
   "source": [
    "La regularización de Ridge admite una solución cerrada, sin embargo otras formas de regularización no tienen una solución analítica cerrada. En dichos casos la solución se encuentra utilizando alguno de los métodos de optimización disponibles. A pesar de ser una de las técnicas más sencillas, la de *descenso por gradiente* es por lejos la más utilizada en aprendizaje automático. "
   ]
  },
  {
   "cell_type": "markdown",
   "metadata": {},
   "source": [
    "**Ej3 b)** Implementar la regularización de *Ridge* y de *Lasso* mediante la técnica de *descenso por gradiente estocástico*. Para ello completar la implementación de `regresion_lineal_SGD()`.  \n",
    "\n",
    "**Regularización de Ridge:**\n",
    "\n",
    "\\begin{align}\n",
    "E_{aug} & = E_{in} + E_{Ridge}  \\\\\n",
    "        & = \\frac{1}{2N} \\sum_{n=1}^N \\left( y_n - \\mathbf{w}^T\\mathbf{x_n} \\right)^2  + \\frac{\\lambda}{2} \\sum_{i=1}^d w_i^2\n",
    "\\end{align}\n",
    "\n",
    "**Regularización de Lasso:**\n",
    "\n",
    "\\begin{align}\n",
    "E_{aug} & = E_{in} + E_{Lasso}  \\\\\n",
    "        & = \\frac{1}{2N} \\sum_{n=1}^N \\left( y_n - \\mathbf{w}^T\\mathbf{x_n} \\right)^2  + \\lambda \\sum_{i=1}^d \\vert w_i \\vert\n",
    "\\end{align}\n",
    "\n",
    "Observar que en ambos casos no se regulariza el término $w_0$."
   ]
  },
  {
   "cell_type": "code",
   "execution_count": null,
   "metadata": {},
   "outputs": [],
   "source": [
    "def regresion_lineal_SGD(X,\n",
    "                         y,\n",
    "                         lr=1e-3,\n",
    "                         reg_type='None',\n",
    "                         reg_factor=1.0,\n",
    "                         max_epocas=100,\n",
    "                         delta_w_minimo=1e-12):\n",
    "    '''\n",
    "    Método que implementa regresión lineal mediante el método de descenso por gradiente. Se admiten\n",
    "    dos tipos de regularización: Ridge y Lasso. El valor por defecto reg_type='None' no aplica \n",
    "    regularización. \n",
    "    \n",
    "    Entrada:\n",
    "                 X: matriz de dimensión (N,d+1) donde cada fila representa una muestra\n",
    "                 y: arreglo de dimensión (N,) que contiene las etiquetas\n",
    "                lr: learning rate\n",
    "          reg_type: [None, Ridge, Lasso]\n",
    "        reg_factor: factor de regularización. Se utiliza cuando reg_type es Ridge o Lasso.\n",
    "        max_epocas: número máximo de épocas que dura la optimización. Una época es un pasaje \n",
    "                    completo por todas las muestras de X. \n",
    "    delta_w_minimo: si la norma L2 del vector diferencia entre vectores de pesos de dos \n",
    "                    épocas consecutivos es menor que delta_w_minimo se detiene la optimización\n",
    "    Salida:\n",
    "                 w: vector de pesos encontrado\n",
    "             ws_L2: lista que contiene las normas L2 de todos los vectores de pesos encontrados \n",
    "                    durante el entrenamiento\n",
    "    '''\n",
    "    N = X.shape[0]\n",
    "    d = X.shape[1] - 1\n",
    "\n",
    "    # inicialización del vector de pesos\n",
    "    w = 1e-6 * np.random.randn(X.shape[1])\n",
    "\n",
    "    # inicialización de la lista con las normas L2 de los w\n",
    "    ws_L2 = [np.linalg.norm(w, ord=2)]\n",
    "\n",
    "    delta_w = delta_w_minimo + 1  # de esta forma entra seguro al menos una vez\n",
    "    epoca_actual = 0  # contador de épocas\n",
    "\n",
    "    while (epoca_actual < max_epocas and delta_w > delta_w_minimo):\n",
    "\n",
    "        # guardo el w de la época anterior\n",
    "        w_ = w.copy()\n",
    "\n",
    "        indices = np.random.permutation(N)\n",
    "\n",
    "        for i in indices:\n",
    "\n",
    "            ##########################################################\n",
    "            ######### EMPIEZA ESPACIO PARA COMPLETAR CÓDIGO ########\n",
    "            ##########################################################\n",
    "\n",
    "            # se calcula el gradiente utilizando una sola muestra\n",
    "\n",
    "            # en caso de aplicar regularización, se calcula el gradiente del término\n",
    "            # de regularización. No se regulariza el bias.\n",
    "\n",
    "            # se actualiza el vector de pesos\n",
    "\n",
    "            # se almacena la norma L2 del vector de pesos\n",
    "\n",
    "            ##########################################################\n",
    "            ######### TERMINA ESPACIO PARA COMPLETAR CÓDIGO ########\n",
    "            ##########################################################\n",
    "\n",
    "        delta_w = np.linalg.norm(w_ - w, ord=2)\n",
    "        epoca_actual = epoca_actual + 1\n",
    "\n",
    "    return w, ws_L2"
   ]
  },
  {
   "cell_type": "markdown",
   "metadata": {},
   "source": [
    "El método  `comparar_regularizaciones_SGD()` muestra cómo cambian los modelos aprendidos al variar el factor de regularización cuando se implementa la regularización utilizando *descenso por gradiente estocástico*.  "
   ]
  },
  {
   "cell_type": "code",
   "execution_count": null,
   "metadata": {},
   "outputs": [],
   "source": [
    "def comparar_regularizaciones_SGD(X,\n",
    "                                  y,\n",
    "                                  X_val,\n",
    "                                  lr=0.1,\n",
    "                                  grado=1,\n",
    "                                  reg_type=None,\n",
    "                                  lambdas=[0],\n",
    "                                  estandarizar=False,\n",
    "                                  max_epocas=1000):\n",
    "    '''\n",
    "    Entrada:\n",
    "                   X: matriz de dimensión (N,1) que contiene N muestras.\n",
    "                   y: arreglo de dimensión (N,) que contiene los valores asociados a cada muestra.\n",
    "               X_val: matriz de dimensión (M,1) que contiene M muestras no utlizadas para \n",
    "                      ajustar el modelo.\n",
    "                  lr: tasa de aprendizaje (learning rate)\n",
    "               grado: grado de la transformación polinómica\n",
    "             lambdas: factores de regularización a utilizar en la comparación\n",
    "        estandarizar: valor booleano que indica si se realiza estandarización de los datos\n",
    "          max_epocas: número máximo de épocas que puede durar la oprimización\n",
    "    '''\n",
    "\n",
    "    # Se encuentran los coeficientes del polinomio en el espacio transformado\n",
    "    X_poly = transformacion_polinomica(X, grado)\n",
    "    X_poly_val = transformacion_polinomica(X_val, grado)\n",
    "    print('Se transformó la entrada a un polinomio grado %d, regularización ' %\n",
    "          grado + reg_type)\n",
    "\n",
    "    if estandarizar:\n",
    "        X_poly, _ = estandarizar_caracteristicas(X_poly)\n",
    "        X_poly_val, _ = estandarizar_caracteristicas(X_poly_val)\n",
    "\n",
    "    fig = plt.figure(figsize=(15, 7))\n",
    "    ax1 = plt.subplot(1, 2, 1)\n",
    "    plt.plot(X, y, 'b.', label='puntos originales')\n",
    "    #plt.legend(loc=\"upper left\", fontsize=15)\n",
    "    ax1.set_xlabel(\"$x_1$\", fontsize=14)\n",
    "    ax1.set_ylabel(\"$y$\", rotation=90, fontsize=14)\n",
    "    ax1.set_title(\n",
    "        \"Modelo es un polinomio de grado %d \\n (solución iterativa)\" % grado,\n",
    "        fontsize=14)\n",
    "    ax1.axis([X_val.min()-X_val.max()*.01, X_val.max()*1.01, 0, 4])\n",
    "    ax2 = plt.subplot(1, 2, 2)\n",
    "    ax2.set_xlabel('actualización', fontsize=14)\n",
    "    ax2.set_ylabel('norma L2 de los pesos', fontsize=14)\n",
    "    ax2.set_title('Evolución de la norma de los pesos', fontsize=14)\n",
    "\n",
    "    for l in lambdas:\n",
    "        print(\"Entrenando clasificador con lambda = %f\" % l)\n",
    "        w_reg, normasL2_w = regresion_lineal_SGD(X_poly,\n",
    "                                                 y,\n",
    "                                                 lr=lr,\n",
    "                                                 reg_type=reg_type,\n",
    "                                                 reg_factor=l,\n",
    "                                                 max_epocas=max_epocas)\n",
    "\n",
    "        y_pred = X_poly_val @ w_reg\n",
    "        ax1.plot(X_val, y_pred, linestyle='--', label='lambda=%.04f' % l)\n",
    "        ax2.plot(normasL2_w,\n",
    "                 label='$\\mathbf{w}^*$=%s' %\n",
    "                 (np.array2string(w_reg, precision=3)))\n",
    "\n",
    "    ax1.legend()\n",
    "    ax2.legend(loc='upper left', bbox_to_anchor=(1., 1., 0, 0), fontsize=10)\n",
    "    plt.tight_layout()"
   ]
  },
  {
   "cell_type": "markdown",
   "metadata": {},
   "source": [
    "Ejecutar las siguientes celdas y verificar que con valores de *learning rate* y *factor de regularización* adecuados es posible obtener resultados similares a los obtenidos con la solución cerrada. "
   ]
  },
  {
   "cell_type": "code",
   "execution_count": null,
   "metadata": {},
   "outputs": [],
   "source": [
    "comparar_regularizaciones_SGD(X,\n",
    "                              y,\n",
    "                              X_test,\n",
    "                              lr=1e-3,\n",
    "                              grado=1,\n",
    "                              reg_type='Ridge',\n",
    "                              lambdas=[0, 1, 10])"
   ]
  },
  {
   "cell_type": "markdown",
   "metadata": {},
   "source": [
    "**SUGERENCIA:** Verifique que los resultados obtenidos con polinomios de grado 1 son razonables. La comparación de regularizaciones con polinomios de orden 3  puede demorar unos minutos, tenga paciencia.\n",
    "\n",
    "**Atención: Puede demorar.**"
   ]
  },
  {
   "cell_type": "code",
   "execution_count": null,
   "metadata": {},
   "outputs": [],
   "source": [
    "comparar_regularizaciones_SGD(X,\n",
    "                              y,\n",
    "                              X_test,\n",
    "                              lr=1e-3,\n",
    "                              grado=3,\n",
    "                              reg_type='Ridge',\n",
    "                              lambdas=[0, 0.01, 0.1],\n",
    "                              max_epocas=100000)"
   ]
  },
  {
   "cell_type": "markdown",
   "metadata": {},
   "source": [
    "## Estandarización"
   ]
  },
  {
   "cell_type": "markdown",
   "metadata": {},
   "source": [
    "**Nota:** [why-is-gradient-descent-so-bad-at-optimizing-polynomial-regression](https://stats.stackexchange.com/questions/350130/why-is-gradient-descent-so-bad-at-optimizing-polynomial-regression)\n",
    "\n",
    "La optimización mediante *descenso por gradiente* en el caso de la regresión polinómica puede ser dificultosa debido a que coexisten términos muy grandes junto con otros muy pequeños. Para mitigar este mal condicionamiento, es conveniente aplicar un preprocesamiento de los datos de forma tal que todas las características tomen rangos de valores similares. Las dos técnicas de preprocesamiento más utilizadas en este sentido son: *normalización* y *estandarización*. Mediante la *normalización* se fuerza a que los datos estén en el rango $[0,1]$. Con la *estandarización*, en cambio, se hace que los datos tengan media $0$ y desviación estandar 1."
   ]
  },
  {
   "cell_type": "markdown",
   "metadata": {},
   "source": [
    "**Ej3 c)** Implementar el método `estandarizar_caracteristicas()` y verificar su correcto funcionamiento ejecutando la celda contigua al mismo. Observar que dicho método es utilizado por `comparar_regularizaciones_SGD()`."
   ]
  },
  {
   "cell_type": "code",
   "execution_count": null,
   "metadata": {},
   "outputs": [],
   "source": [
    "def estandarizar_caracteristicas(X, mu_sigma=None):\n",
    "    '''\n",
    "    Entrada:\n",
    "            X: matriz de dimensión (N,d+1) que en cada fila contiene un vector de características \n",
    "               expresado en coordenadas homogéneas\n",
    "     mu_sigma: matriz de dimensión (2,d) que contiene los valores mu y sigma que se utilizan para \n",
    "               hacer la transformación de las características. Cuando es igual a None, \n",
    "               los valores de mu_sigma se calculan utilizando los datos de entrada X. La primera\n",
    "               fila de la matriz contiene el valor medio de cada una de las características y la\n",
    "               segunda la desviación estándar.\n",
    "    Salida:\n",
    "         Xstd: matriz de dimensión (N,d+1) que en cada fila contiene un vector de \n",
    "               características con sus características estandarizadas\n",
    "     mu_sigma: matriz de dimensión (2,d) que contiene los valores mu y sigma que se utilizaron para \n",
    "               hacer la transformación de las características.\n",
    "    '''\n",
    "\n",
    "    #####################################################\n",
    "    ####### EMPIEZA ESPACIO PARA COMPLETAR CÓDIGO #######\n",
    "    #####################################################\n",
    "\n",
    "\n",
    "    \n",
    "    #####################################################\n",
    "    ####### TERMINA ESPACIO PARA COMPLETAR CÓDIGO #######\n",
    "    #####################################################\n",
    "\n",
    "    return Xstd, mu_sigma"
   ]
  },
  {
   "cell_type": "markdown",
   "metadata": {},
   "source": [
    "La siguiente celda hace algunos controles para detectar posibles errores en la implementación del método `estandarizar_caracteristicas()`. Asegúrese que puede ejecutarla sin generar mensajes de error."
   ]
  },
  {
   "cell_type": "code",
   "execution_count": null,
   "metadata": {},
   "outputs": [],
   "source": [
    "# Validación de la estandarización de características. Se utilizan datos\n",
    "# generados durante la validación. Se verifica salida con media nula,\n",
    "# desviación estándar 1, coordenadas homogeneas, retorno de pasaje de mu_sigma\n",
    "# y estandarización calculada.\n",
    "caract_uniformes = np.random.rand(100, 5)\n",
    "caract_uniformes[:, 0] = 1\n",
    "caract_estandarizadas, mu_sigma = estandarizar_caracteristicas(\n",
    "    caract_uniformes)\n",
    "validar_resultado(\"estandarizar_caracteristicas\",\n",
    "                  caract_estandarizadas,\n",
    "                  mu_sigma,\n",
    "                  funcion=estandarizar_caracteristicas)"
   ]
  },
  {
   "cell_type": "markdown",
   "metadata": {},
   "source": [
    "Observar que debido a la *estandarización* de características el rango de valores de *learning rate* y *grado* de polinomio en que el descenso por gradiente puede ejecutarse sin generar problemas numéricos es mayor."
   ]
  },
  {
   "cell_type": "code",
   "execution_count": null,
   "metadata": {},
   "outputs": [],
   "source": [
    "# Ver que para polinomios de orden alto se produce overflow\n",
    "comparar_regularizaciones_SGD(X,\n",
    "                              y,\n",
    "                              X_test,\n",
    "                              lr=1e-3,\n",
    "                              grado=4,\n",
    "                              reg_type='Ridge',\n",
    "                              lambdas=[0],\n",
    "                              max_epocas=1000,\n",
    "                              estandarizar=False)"
   ]
  },
  {
   "cell_type": "code",
   "execution_count": null,
   "metadata": {},
   "outputs": [],
   "source": [
    "# Con estandarización de los datos se puede trabajar con polinomios de mayor orden\n",
    "comparar_regularizaciones_SGD(X,\n",
    "                              y,\n",
    "                              X_test,\n",
    "                              lr=1e-3,\n",
    "                              grado=12,\n",
    "                              reg_type='Ridge',\n",
    "                              lambdas=[0],\n",
    "                              max_epocas=1000,\n",
    "                              estandarizar=True)"
   ]
  },
  {
   "cell_type": "markdown",
   "metadata": {},
   "source": [
    "**Ej3 d)** Comparar los resultados obtenidos mediante la solución cerrada con los obtenidos mediante descenso por gradiente para distintos grados de polinomio. ¿Qué puede decir respecto a la solución obtenida mediante descenso por gradiente estocástico?"
   ]
  },
  {
   "cell_type": "markdown",
   "metadata": {},
   "source": [
    "**Respuesta:**  ..."
   ]
  },
  {
   "cell_type": "code",
   "execution_count": null,
   "metadata": {},
   "outputs": [],
   "source": [
    "# Se compara solución cerrada con iterativa para un polinomio de orden no muy alto\n",
    "comparar_regularizaciones(X, y, X_test, grado=3, lambdas=[0, 0.1])\n",
    "comparar_regularizaciones_SGD(X,\n",
    "                              y,\n",
    "                              X_test,\n",
    "                              lr=1e-2,\n",
    "                              grado=3,\n",
    "                              reg_type='Ridge',\n",
    "                              lambdas=[0, 0.01],\n",
    "                              estandarizar=True,\n",
    "                              max_epocas=10000)"
   ]
  },
  {
   "cell_type": "code",
   "execution_count": null,
   "metadata": {},
   "outputs": [],
   "source": [
    "# Se compara solución cerrada con iterativa para un polinomio de orden alto\n",
    "comparar_regularizaciones(X, y, X_test, grado=10, lambdas=[0, 1e-3])\n",
    "comparar_regularizaciones_SGD(X,\n",
    "                              y,\n",
    "                              X_test,\n",
    "                              lr=1e-2,\n",
    "                              grado=10,\n",
    "                              reg_type='Ridge',\n",
    "                              lambdas=[0],\n",
    "                              estandarizar=True,\n",
    "                              max_epocas=100000)"
   ]
  },
  {
   "cell_type": "markdown",
   "metadata": {},
   "source": [
    "## Comparación Lasso - Ridge"
   ]
  },
  {
   "cell_type": "markdown",
   "metadata": {},
   "source": [
    "La siguiente celda compara las regularizaciones de Lasso y Ridge para el caso de un polinomio de grado alto. \n",
    "\n",
    "**Atención: Puede demorar varios minutos.**"
   ]
  },
  {
   "cell_type": "code",
   "execution_count": null,
   "metadata": {},
   "outputs": [],
   "source": [
    "comparar_regularizaciones_SGD(X,\n",
    "                              y,\n",
    "                              X_test,\n",
    "                              lr=1e-3,\n",
    "                              grado=10,\n",
    "                              reg_type='Ridge',\n",
    "                              lambdas=[1, 10, 100],\n",
    "                              estandarizar=True,\n",
    "                              max_epocas=100000)\n",
    "\n",
    "comparar_regularizaciones_SGD(X,\n",
    "                              y,\n",
    "                              X_test,\n",
    "                              lr=1e-3,\n",
    "                              grado=10,\n",
    "                              reg_type='Lasso',\n",
    "                              lambdas=[0.01, 0.2, 0.3],\n",
    "                              estandarizar=True,\n",
    "                              max_epocas=100000)"
   ]
  },
  {
   "cell_type": "markdown",
   "metadata": {},
   "source": [
    "**Pregunta:** Mirando el valor que toman los vectores de pesos resultantes, ¿puede identificar alguna característica de los mismos que esté relacionada con el método de regularización utilizado?"
   ]
  },
  {
   "cell_type": "markdown",
   "metadata": {},
   "source": [
    "**Respuesta:**  ..."
   ]
  },
  {
   "cell_type": "markdown",
   "metadata": {},
   "source": [
    "<a id=\"Ejercicio4\"></a>\n",
    "# Ejercicio 4: Predicción del valor medio de las casas en California"
   ]
  },
  {
   "cell_type": "markdown",
   "metadata": {},
   "source": [
    "En este ejercicio se trabajará con el conjunto de datos [Californa Housing](http://lib.stat.cmu.edu/datasets/houses.zip) disponible en [StatLib](http://lib.stat.cmu.edu/datasets/). Los datos fueron recabados durante el censo realizado en 1990 en California. Las características utilizadas y la descripción de las mismas se encuentran en el archivo `cadata.txt` adjunto a este notebook. Los valores de cada una de las filas corresponden a los de un grupo muestral. Estos grupos son regiones geográficamente compactas conformadas por entre 600 y 3000 personas. Por simplicidad, llamaremos a estos grupos distritos. La variable a predecir es el valor medio de las casas para cada uno de los distritos de California censados. "
   ]
  },
  {
   "cell_type": "code",
   "execution_count": null,
   "metadata": {},
   "outputs": [],
   "source": [
    "data = np.loadtxt('./data/cadata.txt', skiprows=27)\n",
    "# nombres de las características\n",
    "names = [\n",
    "    'median house value', 'median income', 'housing median age', 'total rooms',\n",
    "    'total bedrooms', 'population', 'households', 'latitude', 'longitude'\n",
    "]\n",
    "X = data[:, 1:]\n",
    "# la variable independiente es una transformación no lineal del median house value\n",
    "y = np.log(data[:, 0] / 1000)\n",
    "N = X.shape[0]  # número de muestras\n",
    "Nf = X.shape[1]  # número de características\n",
    "X = np.hstack([np.ones((N, 1)), X])  # Se transforma a coordenadas homogéneas"
   ]
  },
  {
   "cell_type": "markdown",
   "metadata": {},
   "source": [
    "## Familiarización con los datos"
   ]
  },
  {
   "cell_type": "markdown",
   "metadata": {},
   "source": [
    "La siguiente celda grafica la variable objetivo (log (median house value)/1000)) junto con cada una de las otras variables. Observar las gráficas y reflexionar sobre:\n",
    "    * ¿Qué características considera de mayor utilidad ?\n",
    "    * ¿Qué pre-procesamiento de los datos podría ayudar en este caso ?"
   ]
  },
  {
   "cell_type": "code",
   "execution_count": null,
   "metadata": {},
   "outputs": [],
   "source": [
    "plt.figure(figsize=(15,15))\n",
    "for n in range(Nf):\n",
    "    plt.subplot(3,3,n+1)\n",
    "    plt.scatter(X[:,1+n], y, s=2)\n",
    "    plt.xlabel(names[1 + n])\n",
    "    plt.ylabel('log (median house value / 1000)')\n",
    "    plt.title('%s vs %s '% (names[1 + n],names[0] ) )"
   ]
  },
  {
   "cell_type": "markdown",
   "metadata": {},
   "source": [
    "Al ser dos de los atributos la latitud y longitud de los \"distritos\" sensados, es posible ubicar las muestras geográficamente."
   ]
  },
  {
   "cell_type": "code",
   "execution_count": null,
   "metadata": {},
   "outputs": [],
   "source": [
    "def mostrar_valores_casas_geograficamente(latitudes, longitudes, valores,\n",
    "                                          titulo):\n",
    "    plt.figure()\n",
    "    plt.scatter(latitudes, longitudes, c=valores, s=5)\n",
    "    plt.colorbar()\n",
    "    plt.title(titulo)\n",
    "\n",
    "\n",
    "mostrar_valores_casas_geograficamente(\n",
    "    X[:, 7], X[:, 8], y, 'Distribución geográfica de los valores de las casas')"
   ]
  },
  {
   "cell_type": "markdown",
   "metadata": {},
   "source": [
    "## Preparación de los datos"
   ]
  },
  {
   "cell_type": "markdown",
   "metadata": {},
   "source": [
    "Se dividirá el conjunto de datos disponible en tres conjuntos: entrenamiento, validación y test. El conjunto de entrenamiento será utilizado para encontrar los parámetros del modelo. El conjunto de validación servirá para evaluar la capacidad de generalización del modelo encontrado con el conjunto de entrenamiento. El conjunto de test simulará ser un nuevo conjunto de datos que verá el modelo una vez que ya haya sido definido. Este conjunto deberá ser utilizado una **única** vez.    \n",
    "El siguiente bloque de código divide el conjunto de datos en las siguientes proporciones:\n",
    "* 60% entrenamiento\n",
    "* 20% validacion\n",
    "* 20% test"
   ]
  },
  {
   "cell_type": "code",
   "execution_count": null,
   "metadata": {},
   "outputs": [],
   "source": [
    "np.random.seed(42)  # 4242 da razonable\n",
    "# se obtienen los puntos de corte entrenamiento/validación/test\n",
    "inicioConjuntoEntrenamiento = 0\n",
    "inicioConjuntoValidacion = int(0.60 * N)\n",
    "inicioConjuntoTest = int(0.80 * N)\n",
    "\n",
    "# todos los indices\n",
    "# indices = np.arange(0,N)\n",
    "indices = np.random.permutation(N)\n",
    "\n",
    "# indices de conjunto de entrenamiento\n",
    "indicesTrain = indices[inicioConjuntoEntrenamiento:inicioConjuntoValidacion]\n",
    "# indices de conjunto de validación\n",
    "indicesVal = indices[inicioConjuntoValidacion:inicioConjuntoTest]\n",
    "# indices de conjunto de test\n",
    "indicesTest = indices[inicioConjuntoTest:N]\n",
    "\n",
    "# conjunto de entrenamiento\n",
    "Xtrain = X[indicesTrain, :]\n",
    "ytrain = y[indicesTrain]\n",
    "\n",
    "# conjunto de validación\n",
    "Xval = X[indicesVal, :]\n",
    "yval = y[indicesVal]\n",
    "\n",
    "# conjunto de test\n",
    "Xtest = X[indicesTest, :]\n",
    "ytest = y[indicesTest]"
   ]
  },
  {
   "cell_type": "markdown",
   "metadata": {},
   "source": [
    "La siguiente celda muestra la distribución geográfica de los distritos utilizados para entrenamiento/validación/test"
   ]
  },
  {
   "cell_type": "code",
   "execution_count": null,
   "metadata": {},
   "outputs": [],
   "source": [
    "mostrar_valores_casas_geograficamente(\n",
    "    Xtrain[:, 7], Xtrain[:, 8], ytrain,\n",
    "    'Distribución geográfica de los valores de las casas (Train)')\n",
    "mostrar_valores_casas_geograficamente(\n",
    "    Xval[:, 7], Xval[:, 8], yval,\n",
    "    'Distribución geográfica de los valores de las casas (Val)')\n",
    "mostrar_valores_casas_geograficamente(\n",
    "    Xtest[:, 7], Xtest[:, 8], ytest,\n",
    "    'Distribución geográfica de los valores de las casas (Test)')"
   ]
  },
  {
   "cell_type": "markdown",
   "metadata": {},
   "source": [
    "## Pregunta 1"
   ]
  },
  {
   "cell_type": "markdown",
   "metadata": {},
   "source": [
    "La separación de los conjuntos realizada anteriormente no parece adecuada. Explicar por qué. "
   ]
  },
  {
   "cell_type": "markdown",
   "metadata": {},
   "source": [
    "**Respuesta:**  ...  "
   ]
  },
  {
   "cell_type": "markdown",
   "metadata": {},
   "source": [
    "## Pregunta 2"
   ]
  },
  {
   "cell_type": "markdown",
   "metadata": {},
   "source": [
    "Cambiar una línea del bloque que genera los conjuntos de entrenamiento/validación/test de forma que la separación sea más razonable."
   ]
  },
  {
   "cell_type": "markdown",
   "metadata": {},
   "source": [
    "**Respuesta:**  ...  "
   ]
  },
  {
   "cell_type": "markdown",
   "metadata": {},
   "source": [
    "## Pregunta 3"
   ]
  },
  {
   "cell_type": "markdown",
   "metadata": {},
   "source": [
    "Ajustar el modelo de regresión lineal a los datos de entrenamiento."
   ]
  },
  {
   "cell_type": "code",
   "execution_count": null,
   "metadata": {},
   "outputs": [],
   "source": [
    "#####################################################\n",
    "####### EMPIEZA ESPACIO PARA COMPLETAR CÓDIGO #######\n",
    "#####################################################\n",
    "\n",
    "# w_ls_houses =\n",
    "\n",
    "#####################################################\n",
    "####### TERMINA ESPACIO PARA COMPLETAR CÓDIGO #######\n",
    "#####################################################"
   ]
  },
  {
   "cell_type": "markdown",
   "metadata": {},
   "source": [
    "Evaluar el funcionamiento con el conjunto de validación utilizando el método `mostrar_ajuste()`. Para ello se debe implementar primero el método `predecir()` que devuelve el valor estimado por el modelo. "
   ]
  },
  {
   "cell_type": "code",
   "execution_count": null,
   "metadata": {},
   "outputs": [],
   "source": [
    "def predecir(X, w):\n",
    "    '''\n",
    "    Devuelve la predicción realizada por el modelo lineal. En este caso se decide además poner a cero\n",
    "    aquellas estimaciones que sean negativas por considerarlas equivocadas.\n",
    "    Entrada:\n",
    "        X: matriz de dimensión (N,d+1) que contiene las características a utilizar\n",
    "        w: vector de pesos de dimensión (d+1,)\n",
    "    Salida:\n",
    "        y: Vector de tamaño N que contiene las predicciones realizadas por el modelo. \n",
    "           Cuando la predicción es un valor negativo se devuelve cero en dicha componente del vector y.\n",
    "    '''\n",
    "\n",
    "    #####################################################\n",
    "    ####### EMPIEZA ESPACIO PARA COMPLETAR CÓDIGO #######\n",
    "    #####################################################\n",
    "\n",
    "    # y = \n",
    "\n",
    "    #####################################################\n",
    "    ####### TERMINA ESPACIO PARA COMPLETAR CÓDIGO #######\n",
    "    #####################################################\n",
    "\n",
    "    return y"
   ]
  },
  {
   "cell_type": "code",
   "execution_count": null,
   "metadata": {},
   "outputs": [],
   "source": [
    "def mostrar_ajuste(y, y_pred):\n",
    "    '''\n",
    "    Entrada:\n",
    "        y: vector que contiene los valores objetivo\n",
    "        y_pred: vector que contiene los valores estimados\n",
    "    '''\n",
    "    plt.figure()\n",
    "    plt.scatter(y, y_pred, s=2, label='predicciones')\n",
    "    plt.xlabel(\"Valores reales\", fontsize=18)\n",
    "    plt.ylabel(\"Valores estimados\", fontsize=18)\n",
    "    plt.plot(np.linspace(y.min(), y.max()),\n",
    "             np.linspace(y.min(), y.max()),\n",
    "             c='r',\n",
    "             label='estimaciones ideales')\n",
    "    plt.title(\"Valores reales vs estimaciones\", fontsize=18)\n",
    "    plt.legend()\n",
    "    plt.tight_layout()"
   ]
  },
  {
   "cell_type": "code",
   "execution_count": null,
   "metadata": {},
   "outputs": [],
   "source": [
    "mostrar_ajuste(ytrain, predecir(Xtrain, w_ls_houses))"
   ]
  },
  {
   "cell_type": "markdown",
   "metadata": {},
   "source": [
    "## Pregunta 4\n",
    "\n",
    "¿Qué características contribuyen más a explicar el precio promedio de las casas? ¿Coincide con su intuición?"
   ]
  },
  {
   "cell_type": "code",
   "execution_count": null,
   "metadata": {},
   "outputs": [],
   "source": [
    "plt.figure(figsize=(15, 5))\n",
    "plt.bar(range(8), w_ls_houses[1:], tick_label=names[1:])"
   ]
  },
  {
   "cell_type": "markdown",
   "metadata": {},
   "source": [
    "**Respuesta:**  ...  "
   ]
  },
  {
   "cell_type": "markdown",
   "metadata": {},
   "source": [
    "## Pregunta 5"
   ]
  },
  {
   "cell_type": "markdown",
   "metadata": {},
   "source": [
    "Una buena práctica habitual es trabajar con características que estén en el mismo rango de valores. En este ejercicio se utilizará la técnica de escalado conocida como *estandarización*.  Utilizar el método `estandarizar_caracteristicas()` implementado en el ejercicio 3 para estandarizar los datos de entrenamiento. Luego utilizar las medias y desviaciones estándar calculadas para estandarizar los conjuntos de validación y test."
   ]
  },
  {
   "cell_type": "code",
   "execution_count": null,
   "metadata": {},
   "outputs": [],
   "source": [
    "#####################################################\n",
    "####### EMPIEZA ESPACIO PARA COMPLETAR CÓDIGO #######\n",
    "#####################################################\n",
    "\n",
    "# Características de entrenamiento estandarizadas (expresadas en coordenadas homogéneas)\n",
    "# Xtrain_std =\n",
    "\n",
    "# Características de validación estandarizadas (expresadas en coordenadas homogéneas)\n",
    "# Xval_std =\n",
    "\n",
    "# Características de test estandarizadas (expresadas en coordenadas homogéneas)\n",
    "# Xtest_std =\n",
    "\n",
    "#####################################################\n",
    "####### TERMINA ESPACIO PARA COMPLETAR CÓDIGO #######\n",
    "#####################################################"
   ]
  },
  {
   "cell_type": "markdown",
   "metadata": {},
   "source": [
    "**Pregunta:** En vez de utilizar las estadísticas del conjunto de entrenamiento para estandarizar los conjuntos de validación y test, ¿podría haberse realizado la estandarización de los conjuntos de entrenamiento, validación y test por separado? ¿o una sola estandarización utilizando las muestras de todos los conjuntos? "
   ]
  },
  {
   "cell_type": "markdown",
   "metadata": {},
   "source": [
    "**Respuesta:**  ..."
   ]
  },
  {
   "cell_type": "markdown",
   "metadata": {},
   "source": [
    "La siguiente celda muestra la distribución de las características estandarizadas."
   ]
  },
  {
   "cell_type": "code",
   "execution_count": null,
   "metadata": {},
   "outputs": [],
   "source": [
    "plt.figure(figsize=(15, 15))\n",
    "for n in range(Nf):\n",
    "    plt.subplot(3, 3, n + 1)\n",
    "    plt.scatter(Xtrain_std[:, 1 + n], ytrain, s=2)\n",
    "    plt.title('%s vs %s ' % (names[1 + n], names[0]))"
   ]
  },
  {
   "cell_type": "markdown",
   "metadata": {},
   "source": [
    "## Pregunta 6"
   ]
  },
  {
   "cell_type": "markdown",
   "metadata": {},
   "source": [
    "Ajustar el modelo de regresión lineal a los datos de entrenamiento con las características estandarizadas. Comente cómo cambia el modelo y la interpretación de los pesos. "
   ]
  },
  {
   "cell_type": "markdown",
   "metadata": {},
   "source": [
    "**Respuesta:**  ... "
   ]
  },
  {
   "cell_type": "code",
   "execution_count": null,
   "metadata": {},
   "outputs": [],
   "source": [
    "#####################################################\n",
    "####### EMPIEZA ESPACIO PARA COMPLETAR CÓDIGO #######\n",
    "#####################################################\n",
    "\n",
    "# w_ls_houses_std =\n",
    "\n",
    "#####################################################\n",
    "####### TERMINA ESPACIO PARA COMPLETAR CÓDIGO #######\n",
    "#####################################################\n",
    "\n",
    "mostrar_ajuste(ytrain, predecir(Xtrain_std, w_ls_houses_std))\n",
    "plt.figure(figsize=(15, 5))\n",
    "plt.bar(range(8), w_ls_houses_std[1:], tick_label=names[1:]);"
   ]
  },
  {
   "cell_type": "markdown",
   "metadata": {},
   "source": [
    "## Pregunta 7"
   ]
  },
  {
   "cell_type": "markdown",
   "metadata": {},
   "source": [
    "Implemente la función `rmse()` y utilícela para estimar el error cometido en la predicción. "
   ]
  },
  {
   "cell_type": "code",
   "execution_count": null,
   "metadata": {},
   "outputs": [],
   "source": [
    "def rmse(y, y_pred):\n",
    "    '''\n",
    "    Método que implementa el rmse (root mean square error) \n",
    "    entre los valores objetivos y los valores estimados.\n",
    "    Entrada:\n",
    "        y: vector con los valores objetivos\n",
    "        y_pred: vector con los valores estimados\n",
    "    '''\n",
    "    #####################################################\n",
    "    ####### EMPIEZA ESPACIO PARA COMPLETAR CÓDIGO #######\n",
    "    #####################################################\n",
    "\n",
    "    # rmse =\n",
    "    \n",
    "    #####################################################\n",
    "    ####### TERMINA ESPACIO PARA COMPLETAR CÓDIGO #######\n",
    "    #####################################################\n",
    "\n",
    "    return rmse"
   ]
  },
  {
   "cell_type": "code",
   "execution_count": null,
   "metadata": {},
   "outputs": [],
   "source": [
    "#####################################################\n",
    "####### EMPIEZA ESPACIO PARA COMPLETAR CÓDIGO #######\n",
    "#####################################################\n",
    "\n",
    "# Se calcula el error de entrenamiento y validación  utilizando características sin estandarizar\n",
    "# rmse_train =\n",
    "# rmse_val =\n",
    "\n",
    "# Se calcula el error de entrenamiento y validación  utilizando características estandarizadas\n",
    "#rmse_train_std =\n",
    "#rmse_val_std =\n",
    "\n",
    "#####################################################\n",
    "####### TERMINA ESPACIO PARA COMPLETAR CÓDIGO #######\n",
    "#####################################################"
   ]
  },
  {
   "cell_type": "markdown",
   "metadata": {},
   "source": [
    "## Pregunta 8"
   ]
  },
  {
   "cell_type": "markdown",
   "metadata": {},
   "source": [
    "¿Cuál es el error *rmse* cometido en las estimaciones expresado en dólares?  "
   ]
  },
  {
   "cell_type": "code",
   "execution_count": null,
   "metadata": {},
   "outputs": [],
   "source": [
    "#####################################################\n",
    "####### EMPIEZA ESPACIO PARA COMPLETAR CÓDIGO #######\n",
    "#####################################################\n",
    "\n",
    "\n",
    "\n",
    "#####################################################\n",
    "####### TERMINA ESPACIO PARA COMPLETAR CÓDIGO #######\n",
    "#####################################################"
   ]
  },
  {
   "cell_type": "markdown",
   "metadata": {},
   "source": [
    "**Nota:** El error en dinero se calcula como: 1000 * np.exp(rmse)"
   ]
  },
  {
   "cell_type": "markdown",
   "metadata": {},
   "source": [
    "##  Pregunta 9"
   ]
  },
  {
   "cell_type": "markdown",
   "metadata": {},
   "source": [
    "La función `transformacion_polinomica_para_predecir_valores_casas()` realiza una transformación polinómica a un espacio de mayor dimensión.  Utilizarla con $n=3$ para transformar las características a un espacio de mayor dimensión y encontrar los parámetros de un modelo lineal en dicho espacio. Calcular el error de entrenamiento y validación en términos de *rmse* cuando se utilizan características polinomiales. "
   ]
  },
  {
   "cell_type": "code",
   "execution_count": null,
   "metadata": {},
   "outputs": [],
   "source": [
    "def transformacion_polinomica_para_predecir_valores_casas(X, n=2):\n",
    "    '''\n",
    "    Se realiza una transformación de los datos de entrada utilizando\n",
    "    para cada característica monomios de hasta grado  n\n",
    "    Ej con n=3 : [1, x1, x2] --> [1, x1, x2, x1^2, x2^2, x1^3, x2^3]\n",
    "    Entrada:\n",
    "            X: matriz de tamaño (N,d+1) que en cada fila contiene un vector\n",
    "               de características expresado en coordenadas homogéneas\n",
    "        grado: grado de la transformación polinómica\n",
    "    '''\n",
    "    \n",
    "    N = X.shape[0]\n",
    "    d = X.shape[1] - 1\n",
    "    X_poly = np.ones((N, 1 + n * d))\n",
    "    for g in range(n):\n",
    "        for f in range(d):\n",
    "            X_poly[:, 1 + d * g + f] = X[:, 1 + f]**(g + 1)\n",
    "    return X_poly"
   ]
  },
  {
   "cell_type": "code",
   "execution_count": null,
   "metadata": {},
   "outputs": [],
   "source": [
    "#####################################################\n",
    "####### EMPIEZA ESPACIO PARA COMPLETAR CÓDIGO #######\n",
    "#####################################################\n",
    "\n",
    "# Xtrain_poly3 =\n",
    "\n",
    "# Xval_poly3 =\n",
    "\n",
    "# w_ls_houses_poly =\n",
    "\n",
    "# ytrain_pred_poly\n",
    "\n",
    "# yval_pred_poly =\n",
    "\n",
    "# rmse_train_poly =\n",
    "\n",
    "# rmse_val_poly =\n",
    "\n",
    "#####################################################\n",
    "####### TERMINA ESPACIO PARA COMPLETAR CÓDIGO #######\n",
    "#####################################################\n",
    "\n",
    "mostrar_ajuste(ytrain, ytrain_pred_poly)\n",
    "mostrar_ajuste(yval, yval_pred_poly)\n",
    "\n",
    "# print('w= ', w_ls_houses_poly)\n",
    "print('w =%s' % (np.array2string(w_ls_houses_poly, precision=2)))\n",
    "print('El error de entrenamiento es %.4f y de validación es %.4f' %\n",
    "      (rmse_train_poly, rmse_val_poly))"
   ]
  },
  {
   "cell_type": "markdown",
   "metadata": {},
   "source": [
    "## Pregunta 10"
   ]
  },
  {
   "cell_type": "markdown",
   "metadata": {},
   "source": [
    "¿Considera que vale la pena aplicar regularización. En caso afirmativo implemente algunas de las formas vistas en el práctico y encuentre un factor de regularización adecuado. En caso contrario, justifique su decisión."
   ]
  },
  {
   "cell_type": "markdown",
   "metadata": {},
   "source": [
    "**Respuesta**  ... "
   ]
  },
  {
   "cell_type": "markdown",
   "metadata": {},
   "source": [
    "## Pregunta 11"
   ]
  },
  {
   "cell_type": "markdown",
   "metadata": {},
   "source": [
    "En función de los resultados obtenidos elija uno de los modelos considerados y evalúelo con el conjunto de test. "
   ]
  },
  {
   "cell_type": "markdown",
   "metadata": {},
   "source": [
    "#### Conjunto de test"
   ]
  },
  {
   "cell_type": "code",
   "execution_count": null,
   "metadata": {},
   "outputs": [],
   "source": [
    "#####################################################\n",
    "####### EMPIEZA ESPACIO PARA COMPLETAR CÓDIGO #######\n",
    "#####################################################\n",
    "\n",
    "# Regresión lineal\n",
    "# ytest_pred =\n",
    "# rmse_test =\n",
    "\n",
    "# Regresión lineal con datos estandarizados\n",
    "# ytest_pred =\n",
    "# rmse_test =\n",
    "\n",
    "# Regresión lineal con ajuste polinomial\n",
    "# ytest_pred =\n",
    "# rmse_test =\n",
    "\n",
    "#####################################################\n",
    "####### TERMINA ESPACIO PARA COMPLETAR CÓDIGO #######\n",
    "#####################################################"
   ]
  },
  {
   "cell_type": "code",
   "execution_count": null,
   "metadata": {},
   "outputs": [],
   "source": []
  }
 ],
 "metadata": {
  "kernelspec": {
   "display_name": "Python 3 (ipykernel)",
   "language": "python",
   "name": "python3"
  },
  "language_info": {
   "codemirror_mode": {
    "name": "ipython",
    "version": 3
   },
   "file_extension": ".py",
   "mimetype": "text/x-python",
   "name": "python",
   "nbconvert_exporter": "python",
   "pygments_lexer": "ipython3",
   "version": "3.11.4"
  },
  "toc": {
   "base_numbering": 1,
   "nav_menu": {},
   "number_sections": false,
   "sideBar": true,
   "skip_h1_title": false,
   "title_cell": "Table of Contents",
   "title_sidebar": "Contents",
   "toc_cell": false,
   "toc_position": {},
   "toc_section_display": true,
   "toc_window_display": true
  },
  "varInspector": {
   "cols": {
    "lenName": 16,
    "lenType": 16,
    "lenVar": 40
   },
   "kernels_config": {
    "python": {
     "delete_cmd_postfix": "",
     "delete_cmd_prefix": "del ",
     "library": "var_list.py",
     "varRefreshCmd": "print(var_dic_list())"
    },
    "r": {
     "delete_cmd_postfix": ") ",
     "delete_cmd_prefix": "rm(",
     "library": "var_list.r",
     "varRefreshCmd": "cat(var_dic_list()) "
    }
   },
   "position": {
    "height": "589.85px",
    "left": "1283px",
    "right": "20px",
    "top": "137px",
    "width": "432px"
   },
   "types_to_exclude": [
    "module",
    "function",
    "builtin_function_or_method",
    "instance",
    "_Feature"
   ],
   "window_display": false
  }
 },
 "nbformat": 4,
 "nbformat_minor": 4
}
