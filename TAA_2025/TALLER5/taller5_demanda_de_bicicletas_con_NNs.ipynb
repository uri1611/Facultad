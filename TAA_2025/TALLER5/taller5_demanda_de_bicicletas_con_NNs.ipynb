{
 "cells": [
  {
   "cell_type": "markdown",
   "metadata": {
    "id": "BK9dmG7MSOya"
   },
   "source": [
    "#  <center> Taller  de Aprendizaje Automático </center>\n",
    "##  <center> Taller 5: Estimación de la demanda de bicicletas compartidas utilizando *Neural Networks*.  </center>"
   ]
  },
  {
   "cell_type": "markdown",
   "metadata": {
    "id": "8PjU4ItOTaGr"
   },
   "source": [
    "# Introducción\n",
    "\n",
    "En esta actividad se retomará el problema de la competencia [*Bike Sharing Demand*](https://www.kaggle.com/c/bike-sharing-demand) visto en el Taller 3.\n",
    "Esta vez las estimaciónes deben obtenerse utilizando la herramienta: *Multilayer Perceptron* (MLP). Es importante mantener la función *Root Mean Squared Logarithmic Error* (RMSLE) como medida de desempeño de manera de poder comparar los resultados con los obtenidos en el Taller 3.\n",
    "\n",
    "Tanto las preguntas teóricas como la parte práctica de esta actividad están ligadas al contenido del capítulo 10 (*Introduction to\n",
    "Artificial Neural Networks with\n",
    "Keras*) del libro del curso.\n"
   ]
  },
  {
   "cell_type": "markdown",
   "metadata": {
    "id": "hnXnqw5KS3zd"
   },
   "source": [
    "## Objetivos\n",
    "\n",
    "\n",
    "*   Trabajar con modelos MLP utilizando la librería [*Keras*](https://keras.io/api/).\n",
    "*   Probar algunas de las herramientas disponibles para la busqueda de hiperparámetros."
   ]
  },
  {
   "cell_type": "markdown",
   "metadata": {
    "id": "graphic-longitude"
   },
   "source": [
    "## Formas de trabajo"
   ]
  },
  {
   "cell_type": "markdown",
   "metadata": {
    "id": "similar-surgery"
   },
   "source": [
    "#### Opción 1: Trabajar localmente"
   ]
  },
  {
   "cell_type": "markdown",
   "metadata": {
    "id": "616868da"
   },
   "source": [
    "##### Descarga de datos disponibles en Kaggle"
   ]
  },
  {
   "cell_type": "markdown",
   "metadata": {
    "id": "9a76c306"
   },
   "source": [
    "Luego, para descargar el dataset de Demanda de Bicicletas:"
   ]
  },
  {
   "cell_type": "code",
   "execution_count": 5,
   "metadata": {
    "ExecuteTime": {
     "end_time": "2022-04-06T08:45:00.703408Z",
     "start_time": "2022-04-06T08:44:59.289873Z"
    },
    "id": "a25f6679",
    "outputId": "d70c8c1e-530a-45ef-e259-f3addee20c02",
    "scrolled": true
   },
   "outputs": [
    {
     "name": "stderr",
     "output_type": "stream",
     "text": [
      "Traceback (most recent call last):\n",
      "  File \"<frozen runpy>\", line 198, in _run_module_as_main\n",
      "  File \"<frozen runpy>\", line 88, in _run_code\n",
      "  File \"C:\\Users\\uriel\\miniconda3\\envs\\TAA-py311\\Scripts\\kaggle.exe\\__main__.py\", line 4, in <module>\n",
      "  File \"C:\\Users\\uriel\\miniconda3\\envs\\TAA-py311\\Lib\\site-packages\\kaggle\\__init__.py\", line 6, in <module>\n",
      "    api.authenticate()\n",
      "  File \"C:\\Users\\uriel\\miniconda3\\envs\\TAA-py311\\Lib\\site-packages\\kaggle\\api\\kaggle_api_extended.py\", line 433, in authenticate\n",
      "    raise IOError('Could not find {}. Make sure it\\'s located in'\n",
      "OSError: Could not find kaggle.json. Make sure it's located in C:\\Users\\uriel\\.kaggle. Or use the environment method. See setup instructions at https://github.com/Kaggle/kaggle-api/\n"
     ]
    }
   ],
   "source": [
    "!kaggle competitions download -c bike-sharing-demand"
   ]
  },
  {
   "cell_type": "markdown",
   "metadata": {
    "id": "e60a6af5"
   },
   "source": [
    "Descomprima el archivo descargado:"
   ]
  },
  {
   "cell_type": "code",
   "execution_count": 1,
   "metadata": {
    "ExecuteTime": {
     "end_time": "2022-04-06T08:45:00.781065Z",
     "start_time": "2022-04-06T08:45:00.769278Z"
    }
   },
   "outputs": [],
   "source": [
    "import shutil\n",
    "shutil.unpack_archive('./bike-sharing-demand.zip', './')"
   ]
  },
  {
   "cell_type": "markdown",
   "metadata": {
    "id": "efficient-thailand"
   },
   "source": [
    "#### Opción 2:  Trabajar en *Colab*. "
   ]
  },
  {
   "cell_type": "markdown",
   "metadata": {},
   "source": [
    "<table align=\"left\">\n",
    "  <td>\n",
    "    <a target=\"_blank\" href=\"https://colab.research.google.com/github/TAA-fing/TAA-2025/blob/main/talleres/taller5_demanda_de_bicicletas_con_NNs.ipynb\"><img src=\"https://www.tensorflow.org/images/colab_logo_32px.png\" />Ejecutar en Google Colab</a>\n",
    "  </td>\n",
    "</table>"
   ]
  },
  {
   "cell_type": "markdown",
   "metadata": {
    "id": "compound-criminal"
   },
   "source": [
    "Se puede trabajar en Google Colab. Para ello es necesario contar con una cuenta de **google drive** y ejecutar un notebook almacenado en dicha cuenta. De lo contrario, no se conservarán los cambios realizados en la sesión. En caso de ya contar con una cuenta, se puede abrir el notebook y luego ir a `Archivo-->Guardar una copia en drive`. "
   ]
  },
  {
   "cell_type": "markdown",
   "metadata": {
    "id": "e_rith_Skga5"
   },
   "source": [
    "La siguiente celda monta el disco personal del drive:"
   ]
  },
  {
   "cell_type": "code",
   "execution_count": null,
   "metadata": {
    "colab": {
     "base_uri": "https://localhost:8080/"
    },
    "executionInfo": {
     "elapsed": 21875,
     "status": "ok",
     "timestamp": 1645451536176,
     "user": {
      "displayName": "Emiliano Acevedo",
      "photoUrl": "https://lh3.googleusercontent.com/a/default-user=s64",
      "userId": "09255842080725499836"
     },
     "user_tz": 180
    },
    "id": "timely-power",
    "outputId": "9b878f94-05b8-4598-baa4-08a3e132868d"
   },
   "outputs": [],
   "source": [
    "from google.colab import drive\n",
    "drive.mount('/content/drive')"
   ]
  },
  {
   "cell_type": "markdown",
   "metadata": {
    "id": "9WC47WBdkeqj"
   },
   "source": [
    "A continuación, vaya a su cuenta de [Kaggle](https://www.kaggle.com/) (o cree una si aún no lo ha hecho), haga clic en el icono de perfil en la esquina superior derecha de la pantalla y seleccione \"Your Account\" en la lista desplegable. Luego, seleccione la viñeta \"Account\" y haga clic en \"Create new API token\". Entonces un archivo llamado kaggle.json se descargará automáticamente a su carpeta de descargas. Este archivo contiene sus credenciales de inicio de sesión para permitirle acceder a la API."
   ]
  },
  {
   "cell_type": "markdown",
   "metadata": {
    "id": "changing-enhancement"
   },
   "source": [
    "La siguiente celda realiza la configuración necesaria para obtener datos desde la plataforma Kaggle. Le solicitará que suba el archivo kaggle.json descargado anteriormente."
   ]
  },
  {
   "cell_type": "code",
   "execution_count": null,
   "metadata": {
    "colab": {
     "base_uri": "https://localhost:8080/",
     "height": 90,
     "resources": {
      "http://localhost:8080/nbextensions/google.colab/files.js": {
       "data": "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",
       "headers": [
        [
         "content-type",
         "application/javascript"
        ]
       ],
       "ok": true,
       "status": 200,
       "status_text": ""
      }
     }
    },
    "executionInfo": {
     "elapsed": 31400,
     "status": "ok",
     "timestamp": 1645451632279,
     "user": {
      "displayName": "Emiliano Acevedo",
      "photoUrl": "https://lh3.googleusercontent.com/a/default-user=s64",
      "userId": "09255842080725499836"
     },
     "user_tz": 180
    },
    "id": "convinced-person",
    "outputId": "59951021-dcb6-4622-e24e-062806a6ce7f"
   },
   "outputs": [],
   "source": [
    "import warnings\n",
    "warnings.filterwarnings('ignore')\n",
    "from google.colab import files\n",
    "\n",
    "# El siguiente archivo solicitado es para habilitar la API de Kaggle en el entorno que está trabajando.\n",
    "# Este archivo se descarga entrando a su perfíl de Kaggle, en la sección API, presionando donde dice: Create New API Token\n",
    "\n",
    "uploaded = files.upload()\n",
    "\n",
    "for fn in uploaded.keys():\n",
    "    print('User uploaded file \"{name}\" with length {length} bytes'.format(\n",
    "      name=fn, length=len(uploaded[fn])))\n",
    "\n",
    "#Then move kaggle.json into the folder where the API expects to find it.\n",
    "!mkdir -p ~/.kaggle/ && mv kaggle.json ~/.kaggle/ && chmod 600 ~/.kaggle/kaggle.json"
   ]
  },
  {
   "cell_type": "markdown",
   "metadata": {
    "id": "fossil-australian"
   },
   "source": [
    "Una vez guardado el *token* se pueden descargar los datos, en este caso se bajarán los datos del dataset de Demanda de Bicicletas:"
   ]
  },
  {
   "cell_type": "code",
   "execution_count": null,
   "metadata": {
    "ExecuteTime": {
     "end_time": "2022-04-06T08:18:39.849067Z",
     "start_time": "2022-04-06T08:18:38.482792Z"
    },
    "colab": {
     "base_uri": "https://localhost:8080/"
    },
    "executionInfo": {
     "elapsed": 2104,
     "status": "ok",
     "timestamp": 1645451663400,
     "user": {
      "displayName": "Emiliano Acevedo",
      "photoUrl": "https://lh3.googleusercontent.com/a/default-user=s64",
      "userId": "09255842080725499836"
     },
     "user_tz": 180
    },
    "id": "independent-eagle",
    "outputId": "bfe00bd3-81a5-487f-e60f-8b6e2ce1a189"
   },
   "outputs": [],
   "source": [
    "!kaggle competitions download -c bike-sharing-demand"
   ]
  },
  {
   "cell_type": "code",
   "execution_count": null,
   "metadata": {
    "ExecuteTime": {
     "end_time": "2022-04-06T08:19:07.842906Z",
     "start_time": "2022-04-06T08:18:41.405686Z"
    }
   },
   "outputs": [],
   "source": [
    "!unzip bike-sharing-demand.zip"
   ]
  },
  {
   "cell_type": "markdown",
   "metadata": {},
   "source": [
    "## Paquetes a utilizar"
   ]
  },
  {
   "cell_type": "markdown",
   "metadata": {},
   "source": [
    "En esta actividad se utilizarán algunas bibliotecas auxiliares que deberán ser instaladas. Ejecutar la siguiente celda hasta que se ejecute sin errores. En caso de error, se puede instalar el paquete faltante desde el notebook con el comando:\n",
    "\n",
    "`!pip install paquete_faltante`"
   ]
  },
  {
   "cell_type": "code",
   "execution_count": 123,
   "metadata": {
    "ExecuteTime": {
     "end_time": "2022-04-06T08:45:12.980879Z",
     "start_time": "2022-04-06T08:45:10.992955Z"
    }
   },
   "outputs": [],
   "source": [
    "#import comet_ml in the top of your file\n",
    "from comet_ml import Experiment\n",
    "import matplotlib.pyplot as plt\n",
    "import numpy as np\n",
    "import pandas as pd\n",
    "import seaborn as sns\n",
    "sns.set_theme(style=\"whitegrid\")\n",
    "\n",
    "df_train = pd.read_csv('train.csv')\n",
    "df_test = pd.read_csv('test.csv')\n",
    "df_submission = pd.read_csv('sampleSubmission.csv')"
   ]
  },
  {
   "cell_type": "markdown",
   "metadata": {
    "id": "HQi0j-avej0Q"
   },
   "source": [
    "## Parte 1 - Procesamiento de los datos\n",
    "\n",
    "Dado que ya se ha familiarizado con los datos, se implementa el mismo preprocesamiento que utilizó en el Taller 3."
   ]
  },
  {
   "cell_type": "code",
   "execution_count": 3,
   "metadata": {},
   "outputs": [
    {
     "name": "stdout",
     "output_type": "stream",
     "text": [
      "Collecting keras\n",
      "  Downloading keras-3.9.2-py3-none-any.whl.metadata (6.1 kB)\n",
      "Collecting absl-py (from keras)\n",
      "  Downloading absl_py-2.2.2-py3-none-any.whl.metadata (2.6 kB)\n",
      "Requirement already satisfied: numpy in c:\\users\\ureca\\miniconda3\\envs\\taa-py311\\lib\\site-packages (from keras) (2.2.3)\n",
      "Requirement already satisfied: rich in c:\\users\\ureca\\miniconda3\\envs\\taa-py311\\lib\\site-packages (from keras) (13.9.4)\n",
      "Collecting namex (from keras)\n",
      "  Downloading namex-0.0.8-py3-none-any.whl.metadata (246 bytes)\n",
      "Collecting h5py (from keras)\n",
      "  Downloading h5py-3.13.0-cp311-cp311-win_amd64.whl.metadata (2.5 kB)\n",
      "Collecting optree (from keras)\n",
      "  Downloading optree-0.15.0-cp311-cp311-win_amd64.whl.metadata (49 kB)\n",
      "Collecting ml-dtypes (from keras)\n",
      "  Downloading ml_dtypes-0.5.1-cp311-cp311-win_amd64.whl.metadata (22 kB)\n",
      "Requirement already satisfied: packaging in c:\\users\\ureca\\miniconda3\\envs\\taa-py311\\lib\\site-packages (from keras) (24.2)\n",
      "Requirement already satisfied: typing-extensions>=4.5.0 in c:\\users\\ureca\\miniconda3\\envs\\taa-py311\\lib\\site-packages (from optree->keras) (4.12.2)\n",
      "Requirement already satisfied: markdown-it-py>=2.2.0 in c:\\users\\ureca\\miniconda3\\envs\\taa-py311\\lib\\site-packages (from rich->keras) (3.0.0)\n",
      "Requirement already satisfied: pygments<3.0.0,>=2.13.0 in c:\\users\\ureca\\miniconda3\\envs\\taa-py311\\lib\\site-packages (from rich->keras) (2.19.1)\n",
      "Requirement already satisfied: mdurl~=0.1 in c:\\users\\ureca\\miniconda3\\envs\\taa-py311\\lib\\site-packages (from markdown-it-py>=2.2.0->rich->keras) (0.1.2)\n",
      "Downloading keras-3.9.2-py3-none-any.whl (1.3 MB)\n",
      "   ---------------------------------------- 0.0/1.3 MB ? eta -:--:--\n",
      "   ---------------------------------------- 1.3/1.3 MB 13.8 MB/s eta 0:00:00\n",
      "Downloading absl_py-2.2.2-py3-none-any.whl (135 kB)\n",
      "Downloading h5py-3.13.0-cp311-cp311-win_amd64.whl (3.0 MB)\n",
      "   ---------------------------------------- 0.0/3.0 MB ? eta -:--:--\n",
      "   ---------------------------------------- 3.0/3.0 MB 15.7 MB/s eta 0:00:00\n",
      "Downloading ml_dtypes-0.5.1-cp311-cp311-win_amd64.whl (209 kB)\n",
      "Downloading namex-0.0.8-py3-none-any.whl (5.8 kB)\n",
      "Downloading optree-0.15.0-cp311-cp311-win_amd64.whl (306 kB)\n",
      "Installing collected packages: namex, optree, ml-dtypes, h5py, absl-py, keras\n",
      "Successfully installed absl-py-2.2.2 h5py-3.13.0 keras-3.9.2 ml-dtypes-0.5.1 namex-0.0.8 optree-0.15.0\n"
     ]
    }
   ],
   "source": [
    "!pip install keras --upgrade"
   ]
  },
  {
   "cell_type": "code",
   "execution_count": 4,
   "metadata": {},
   "outputs": [
    {
     "name": "stdout",
     "output_type": "stream",
     "text": [
      "Collecting keras-tuner\n",
      "  Downloading keras_tuner-1.4.7-py3-none-any.whl.metadata (5.4 kB)\n",
      "Requirement already satisfied: keras in c:\\users\\ureca\\miniconda3\\envs\\taa-py311\\lib\\site-packages (from keras-tuner) (3.9.2)\n",
      "Requirement already satisfied: packaging in c:\\users\\ureca\\miniconda3\\envs\\taa-py311\\lib\\site-packages (from keras-tuner) (24.2)\n",
      "Requirement already satisfied: requests in c:\\users\\ureca\\miniconda3\\envs\\taa-py311\\lib\\site-packages (from keras-tuner) (2.32.3)\n",
      "Collecting kt-legacy (from keras-tuner)\n",
      "  Downloading kt_legacy-1.0.5-py3-none-any.whl.metadata (221 bytes)\n",
      "Requirement already satisfied: absl-py in c:\\users\\ureca\\miniconda3\\envs\\taa-py311\\lib\\site-packages (from keras->keras-tuner) (2.2.2)\n",
      "Requirement already satisfied: numpy in c:\\users\\ureca\\miniconda3\\envs\\taa-py311\\lib\\site-packages (from keras->keras-tuner) (2.2.3)\n",
      "Requirement already satisfied: rich in c:\\users\\ureca\\miniconda3\\envs\\taa-py311\\lib\\site-packages (from keras->keras-tuner) (13.9.4)\n",
      "Requirement already satisfied: namex in c:\\users\\ureca\\miniconda3\\envs\\taa-py311\\lib\\site-packages (from keras->keras-tuner) (0.0.8)\n",
      "Requirement already satisfied: h5py in c:\\users\\ureca\\miniconda3\\envs\\taa-py311\\lib\\site-packages (from keras->keras-tuner) (3.13.0)\n",
      "Requirement already satisfied: optree in c:\\users\\ureca\\miniconda3\\envs\\taa-py311\\lib\\site-packages (from keras->keras-tuner) (0.15.0)\n",
      "Requirement already satisfied: ml-dtypes in c:\\users\\ureca\\miniconda3\\envs\\taa-py311\\lib\\site-packages (from keras->keras-tuner) (0.5.1)\n",
      "Requirement already satisfied: charset-normalizer<4,>=2 in c:\\users\\ureca\\miniconda3\\envs\\taa-py311\\lib\\site-packages (from requests->keras-tuner) (3.4.1)\n",
      "Requirement already satisfied: idna<4,>=2.5 in c:\\users\\ureca\\miniconda3\\envs\\taa-py311\\lib\\site-packages (from requests->keras-tuner) (3.10)\n",
      "Requirement already satisfied: urllib3<3,>=1.21.1 in c:\\users\\ureca\\miniconda3\\envs\\taa-py311\\lib\\site-packages (from requests->keras-tuner) (2.3.0)\n",
      "Requirement already satisfied: certifi>=2017.4.17 in c:\\users\\ureca\\miniconda3\\envs\\taa-py311\\lib\\site-packages (from requests->keras-tuner) (2025.1.31)\n",
      "Requirement already satisfied: typing-extensions>=4.5.0 in c:\\users\\ureca\\miniconda3\\envs\\taa-py311\\lib\\site-packages (from optree->keras->keras-tuner) (4.12.2)\n",
      "Requirement already satisfied: markdown-it-py>=2.2.0 in c:\\users\\ureca\\miniconda3\\envs\\taa-py311\\lib\\site-packages (from rich->keras->keras-tuner) (3.0.0)\n",
      "Requirement already satisfied: pygments<3.0.0,>=2.13.0 in c:\\users\\ureca\\miniconda3\\envs\\taa-py311\\lib\\site-packages (from rich->keras->keras-tuner) (2.19.1)\n",
      "Requirement already satisfied: mdurl~=0.1 in c:\\users\\ureca\\miniconda3\\envs\\taa-py311\\lib\\site-packages (from markdown-it-py>=2.2.0->rich->keras->keras-tuner) (0.1.2)\n",
      "Downloading keras_tuner-1.4.7-py3-none-any.whl (129 kB)\n",
      "Downloading kt_legacy-1.0.5-py3-none-any.whl (9.6 kB)\n",
      "Installing collected packages: kt-legacy, keras-tuner\n",
      "Successfully installed keras-tuner-1.4.7 kt-legacy-1.0.5\n",
      "Note: you may need to restart the kernel to use updated packages.\n"
     ]
    }
   ],
   "source": [
    "pip install keras-tuner --upgrade"
   ]
  },
  {
   "cell_type": "code",
   "execution_count": 124,
   "metadata": {
    "ExecuteTime": {
     "end_time": "2022-04-06T08:45:17.367597Z",
     "start_time": "2022-04-06T08:45:17.333795Z"
    },
    "id": "WAJk7qqqphJa"
   },
   "outputs": [],
   "source": [
    "df_train['datetime'] = pd.to_datetime(df_train['datetime'])\n",
    "\n",
    "df_train['hour'] = df_train['datetime'].dt.hour\n",
    "df_train['weekday'] = df_train['datetime'].dt.weekday\n",
    "df_train['month'] = df_train['datetime'].dt.month \n",
    "df_train['year'] = df_train['datetime'].dt.year\n",
    "\n",
    "y_train_full = df_train['count']\n",
    "df_train = df_train.drop(['datetime', 'casual', 'registered', 'count'], axis=1) # hay que eliminarlas ya que tiene relación directa con la columna objetivo y no aparecen en el conjunto de *test*."
   ]
  },
  {
   "cell_type": "markdown",
   "metadata": {},
   "source": [
    "- Dado que se trabajará con redes neuronales, ¿Cree conveniente realizar alguna modificación en el preprocesamiento?"
   ]
  },
  {
   "cell_type": "code",
   "execution_count": null,
   "metadata": {
    "ExecuteTime": {
     "end_time": "2022-04-06T08:45:19.115054Z",
     "start_time": "2022-04-06T08:45:19.108573Z"
    },
    "id": "3RotPZI9O67F"
   },
   "outputs": [],
   "source": [
    "Si"
   ]
  },
  {
   "cell_type": "markdown",
   "metadata": {
    "id": "nyhdy7JagA0k"
   },
   "source": [
    "## Parte 2 - Multilayer Perceptron (MLP)\n",
    "\n",
    "Siguiendo el ejemplo de la sección *Building a Regression MLP Using the Sequential API*:\n",
    "\n",
    "\n",
    "*   Implementar un estimador manteniendo los hiperparámetros del ejemplo.\n",
    "*   ¿Cuál es la cantidad total de parámetros entrenables de la red?\n",
    "*   Seleccionar aleatoriamente un *10%* de los datos para validación, y graficar la función de *loss* (*Mean Squared Logarithmic Error*) de entrenamiento y validación.\n",
    "\n",
    "*Nota: Observe que en el ejemplo se agrega una capa de normalización*"
   ]
  },
  {
   "cell_type": "code",
   "execution_count": 8,
   "metadata": {},
   "outputs": [],
   "source": [
    "import tensorflow as tf\n",
    "from sklearn.model_selection import train_test_split\n",
    "from sklearn.preprocessing import StandardScaler\n",
    "\n",
    "\n",
    "scaler = StandardScaler()\n",
    "X_train_scaled = scaler.fit_transform(df_train)\n",
    "\n",
    "scaler_y = StandardScaler()\n",
    "y_train_full_scaled = scaler_y.fit_transform(y_train_full.to_numpy().reshape(-1, 1))\n",
    "\n",
    "\n",
    "X_train_full, X_test, y_train_full2, y_test = train_test_split(\n",
    "    X_train_scaled, y_train_full_scaled, train_size=0.9\n",
    ")\n",
    "X_train, X_valid, y_train, y_valid = train_test_split(\n",
    "    X_train_full, y_train_full2, train_size=0.9\n",
    ")"
   ]
  },
  {
   "cell_type": "code",
   "execution_count": 9,
   "metadata": {},
   "outputs": [
    {
     "name": "stdout",
     "output_type": "stream",
     "text": [
      "Epoch 1/20\n",
      "\u001b[1m276/276\u001b[0m \u001b[32m━━━━━━━━━━━━━━━━━━━━\u001b[0m\u001b[37m\u001b[0m \u001b[1m3s\u001b[0m 3ms/step - loss: 0.1211 - msle: 0.1211 - val_loss: 0.0854 - val_msle: 0.0854\n",
      "Epoch 2/20\n",
      "\u001b[1m276/276\u001b[0m \u001b[32m━━━━━━━━━━━━━━━━━━━━\u001b[0m\u001b[37m\u001b[0m \u001b[1m1s\u001b[0m 2ms/step - loss: 0.0823 - msle: 0.0823 - val_loss: 0.0634 - val_msle: 0.0634\n",
      "Epoch 3/20\n",
      "\u001b[1m276/276\u001b[0m \u001b[32m━━━━━━━━━━━━━━━━━━━━\u001b[0m\u001b[37m\u001b[0m \u001b[1m1s\u001b[0m 2ms/step - loss: 0.0664 - msle: 0.0664 - val_loss: 0.0554 - val_msle: 0.0554\n",
      "Epoch 4/20\n",
      "\u001b[1m276/276\u001b[0m \u001b[32m━━━━━━━━━━━━━━━━━━━━\u001b[0m\u001b[37m\u001b[0m \u001b[1m1s\u001b[0m 2ms/step - loss: 0.0574 - msle: 0.0574 - val_loss: 0.0486 - val_msle: 0.0486\n",
      "Epoch 5/20\n",
      "\u001b[1m276/276\u001b[0m \u001b[32m━━━━━━━━━━━━━━━━━━━━\u001b[0m\u001b[37m\u001b[0m \u001b[1m1s\u001b[0m 2ms/step - loss: 0.0495 - msle: 0.0495 - val_loss: 0.0418 - val_msle: 0.0418\n",
      "Epoch 6/20\n",
      "\u001b[1m276/276\u001b[0m \u001b[32m━━━━━━━━━━━━━━━━━━━━\u001b[0m\u001b[37m\u001b[0m \u001b[1m1s\u001b[0m 2ms/step - loss: 0.0420 - msle: 0.0420 - val_loss: 0.0364 - val_msle: 0.0364\n",
      "Epoch 7/20\n",
      "\u001b[1m276/276\u001b[0m \u001b[32m━━━━━━━━━━━━━━━━━━━━\u001b[0m\u001b[37m\u001b[0m \u001b[1m1s\u001b[0m 2ms/step - loss: 0.0339 - msle: 0.0339 - val_loss: 0.0295 - val_msle: 0.0295\n",
      "Epoch 8/20\n",
      "\u001b[1m276/276\u001b[0m \u001b[32m━━━━━━━━━━━━━━━━━━━━\u001b[0m\u001b[37m\u001b[0m \u001b[1m1s\u001b[0m 2ms/step - loss: 0.0273 - msle: 0.0273 - val_loss: 0.0264 - val_msle: 0.0264\n",
      "Epoch 9/20\n",
      "\u001b[1m276/276\u001b[0m \u001b[32m━━━━━━━━━━━━━━━━━━━━\u001b[0m\u001b[37m\u001b[0m \u001b[1m1s\u001b[0m 2ms/step - loss: 0.0234 - msle: 0.0234 - val_loss: 0.0241 - val_msle: 0.0241\n",
      "Epoch 10/20\n",
      "\u001b[1m276/276\u001b[0m \u001b[32m━━━━━━━━━━━━━━━━━━━━\u001b[0m\u001b[37m\u001b[0m \u001b[1m1s\u001b[0m 3ms/step - loss: 0.0207 - msle: 0.0207 - val_loss: 0.0215 - val_msle: 0.0215\n",
      "Epoch 11/20\n",
      "\u001b[1m276/276\u001b[0m \u001b[32m━━━━━━━━━━━━━━━━━━━━\u001b[0m\u001b[37m\u001b[0m \u001b[1m1s\u001b[0m 3ms/step - loss: 0.0184 - msle: 0.0184 - val_loss: 0.0194 - val_msle: 0.0194\n",
      "Epoch 12/20\n",
      "\u001b[1m276/276\u001b[0m \u001b[32m━━━━━━━━━━━━━━━━━━━━\u001b[0m\u001b[37m\u001b[0m \u001b[1m1s\u001b[0m 2ms/step - loss: 0.0160 - msle: 0.0160 - val_loss: 0.0180 - val_msle: 0.0180\n",
      "Epoch 13/20\n",
      "\u001b[1m276/276\u001b[0m \u001b[32m━━━━━━━━━━━━━━━━━━━━\u001b[0m\u001b[37m\u001b[0m \u001b[1m1s\u001b[0m 3ms/step - loss: 0.0148 - msle: 0.0148 - val_loss: 0.0170 - val_msle: 0.0170\n",
      "Epoch 14/20\n",
      "\u001b[1m276/276\u001b[0m \u001b[32m━━━━━━━━━━━━━━━━━━━━\u001b[0m\u001b[37m\u001b[0m \u001b[1m1s\u001b[0m 3ms/step - loss: 0.0137 - msle: 0.0137 - val_loss: 0.0158 - val_msle: 0.0158\n",
      "Epoch 15/20\n",
      "\u001b[1m276/276\u001b[0m \u001b[32m━━━━━━━━━━━━━━━━━━━━\u001b[0m\u001b[37m\u001b[0m \u001b[1m1s\u001b[0m 3ms/step - loss: 0.0128 - msle: 0.0128 - val_loss: 0.0153 - val_msle: 0.0153\n",
      "Epoch 16/20\n",
      "\u001b[1m276/276\u001b[0m \u001b[32m━━━━━━━━━━━━━━━━━━━━\u001b[0m\u001b[37m\u001b[0m \u001b[1m1s\u001b[0m 3ms/step - loss: 0.0122 - msle: 0.0122 - val_loss: 0.0149 - val_msle: 0.0149\n",
      "Epoch 17/20\n",
      "\u001b[1m276/276\u001b[0m \u001b[32m━━━━━━━━━━━━━━━━━━━━\u001b[0m\u001b[37m\u001b[0m \u001b[1m1s\u001b[0m 2ms/step - loss: 0.0117 - msle: 0.0117 - val_loss: 0.0148 - val_msle: 0.0148\n",
      "Epoch 18/20\n",
      "\u001b[1m276/276\u001b[0m \u001b[32m━━━━━━━━━━━━━━━━━━━━\u001b[0m\u001b[37m\u001b[0m \u001b[1m1s\u001b[0m 2ms/step - loss: 0.0112 - msle: 0.0112 - val_loss: 0.0146 - val_msle: 0.0146\n",
      "Epoch 19/20\n",
      "\u001b[1m276/276\u001b[0m \u001b[32m━━━━━━━━━━━━━━━━━━━━\u001b[0m\u001b[37m\u001b[0m \u001b[1m1s\u001b[0m 2ms/step - loss: 0.0107 - msle: 0.0107 - val_loss: 0.0143 - val_msle: 0.0143\n",
      "Epoch 20/20\n",
      "\u001b[1m276/276\u001b[0m \u001b[32m━━━━━━━━━━━━━━━━━━━━\u001b[0m\u001b[37m\u001b[0m \u001b[1m1s\u001b[0m 2ms/step - loss: 0.0104 - msle: 0.0104 - val_loss: 0.0141 - val_msle: 0.0141\n",
      "\u001b[1m35/35\u001b[0m \u001b[32m━━━━━━━━━━━━━━━━━━━━\u001b[0m\u001b[37m\u001b[0m \u001b[1m0s\u001b[0m 3ms/step - loss: 0.0151 - msle: 0.0151\n",
      "\u001b[1m1/1\u001b[0m \u001b[32m━━━━━━━━━━━━━━━━━━━━\u001b[0m\u001b[37m\u001b[0m \u001b[1m0s\u001b[0m 110ms/step\n"
     ]
    }
   ],
   "source": [
    "\n",
    "\n",
    "tf.random.set_seed(42)\n",
    "#norm_layer = tf.keras.layers.Normalization(input_shape=X_train.shape[1:])\n",
    "\n",
    "model = tf.keras.Sequential([\n",
    "#norm_layer,\n",
    "tf.keras.layers.Dense(50, activation=\"relu\"),\n",
    "tf.keras.layers.Dense(50, activation=\"relu\"),\n",
    "tf.keras.layers.Dense(50, activation=\"relu\"),\n",
    "tf.keras.layers.Dense(1)\n",
    "])\n",
    "\n",
    "optimizer = tf.keras.optimizers.Adam(learning_rate=1e-3)\n",
    "model.compile(loss=\"msle\", optimizer=optimizer, metrics=[\"msle\"])\n",
    "#norm_layer.adapt(X_train)\n",
    "history = model.fit(X_train, y_train, epochs=20, validation_data=(X_valid, y_valid))\n",
    "mse_test, rmse_test = model.evaluate(X_test, y_test)\n",
    "X_new = X_test[:3]\n",
    "y_pred = model.predict(X_new)\n",
    "\n"
   ]
  },
  {
   "cell_type": "code",
   "execution_count": 10,
   "metadata": {},
   "outputs": [
    {
     "data": {
      "image/png": "[encoded data removed]",
      "text/plain": [
       "<Figure size 800x500 with 1 Axes>"
      ]
     },
     "metadata": {},
     "output_type": "display_data"
    }
   ],
   "source": [
    "import matplotlib.pyplot as plt\n",
    "import pandas as pd\n",
    "pd.DataFrame(history.history).plot(\n",
    "figsize=(8, 5), xlim=[0, 20], ylim=[0, 1], grid=True, xlabel=\"Epoch\",\n",
    "style=[\"r--\", \"r--.\", \"b-\", \"b-*\"])\n",
    "plt.show()\n"
   ]
  },
  {
   "cell_type": "code",
   "execution_count": 11,
   "metadata": {},
   "outputs": [
    {
     "data": {
      "text/html": [
       "<pre style=\"white-space:pre;overflow-x:auto;line-height:normal;font-family:Menlo,'DejaVu Sans Mono',consolas,'Courier New',monospace\"><span style=\"font-weight: bold\">Model: \"sequential\"</span>\n",
       "</pre>\n"
      ],
      "text/plain": [
       "\u001b[1mModel: \"sequential\"\u001b[0m\n"
      ]
     },
     "metadata": {},
     "output_type": "display_data"
    },
    {
     "data": {
      "text/html": [
       "<pre style=\"white-space:pre;overflow-x:auto;line-height:normal;font-family:Menlo,'DejaVu Sans Mono',consolas,'Courier New',monospace\">┏━━━━━━━━━━━━━━━━━━━━━━━━━━━━━━━━━━━━━━┳━━━━━━━━━━━━━━━━━━━━━━━━━━━━━┳━━━━━━━━━━━━━━━━━┓\n",
       "┃<span style=\"font-weight: bold\"> Layer (type)                         </span>┃<span style=\"font-weight: bold\"> Output Shape                </span>┃<span style=\"font-weight: bold\">         Param # </span>┃\n",
       "┡━━━━━━━━━━━━━━━━━━━━━━━━━━━━━━━━━━━━━━╇━━━━━━━━━━━━━━━━━━━━━━━━━━━━━╇━━━━━━━━━━━━━━━━━┩\n",
       "│ dense (<span style=\"color: #0087ff; text-decoration-color: #0087ff\">Dense</span>)                        │ (<span style=\"color: #00d7ff; text-decoration-color: #00d7ff\">None</span>, <span style=\"color: #00af00; text-decoration-color: #00af00\">50</span>)                  │             <span style=\"color: #00af00; text-decoration-color: #00af00\">650</span> │\n",
       "├──────────────────────────────────────┼─────────────────────────────┼─────────────────┤\n",
       "│ dense_1 (<span style=\"color: #0087ff; text-decoration-color: #0087ff\">Dense</span>)                      │ (<span style=\"color: #00d7ff; text-decoration-color: #00d7ff\">None</span>, <span style=\"color: #00af00; text-decoration-color: #00af00\">50</span>)                  │           <span style=\"color: #00af00; text-decoration-color: #00af00\">2,550</span> │\n",
       "├──────────────────────────────────────┼─────────────────────────────┼─────────────────┤\n",
       "│ dense_2 (<span style=\"color: #0087ff; text-decoration-color: #0087ff\">Dense</span>)                      │ (<span style=\"color: #00d7ff; text-decoration-color: #00d7ff\">None</span>, <span style=\"color: #00af00; text-decoration-color: #00af00\">50</span>)                  │           <span style=\"color: #00af00; text-decoration-color: #00af00\">2,550</span> │\n",
       "├──────────────────────────────────────┼─────────────────────────────┼─────────────────┤\n",
       "│ dense_3 (<span style=\"color: #0087ff; text-decoration-color: #0087ff\">Dense</span>)                      │ (<span style=\"color: #00d7ff; text-decoration-color: #00d7ff\">None</span>, <span style=\"color: #00af00; text-decoration-color: #00af00\">1</span>)                   │              <span style=\"color: #00af00; text-decoration-color: #00af00\">51</span> │\n",
       "└──────────────────────────────────────┴─────────────────────────────┴─────────────────┘\n",
       "</pre>\n"
      ],
      "text/plain": [
       "┏━━━━━━━━━━━━━━━━━━━━━━━━━━━━━━━━━━━━━━┳━━━━━━━━━━━━━━━━━━━━━━━━━━━━━┳━━━━━━━━━━━━━━━━━┓\n",
       "┃\u001b[1m \u001b[0m\u001b[1mLayer (type)                        \u001b[0m\u001b[1m \u001b[0m┃\u001b[1m \u001b[0m\u001b[1mOutput Shape               \u001b[0m\u001b[1m \u001b[0m┃\u001b[1m \u001b[0m\u001b[1m        Param #\u001b[0m\u001b[1m \u001b[0m┃\n",
       "┡━━━━━━━━━━━━━━━━━━━━━━━━━━━━━━━━━━━━━━╇━━━━━━━━━━━━━━━━━━━━━━━━━━━━━╇━━━━━━━━━━━━━━━━━┩\n",
       "│ dense (\u001b[38;5;33mDense\u001b[0m)                        │ (\u001b[38;5;45mNone\u001b[0m, \u001b[38;5;34m50\u001b[0m)                  │             \u001b[38;5;34m650\u001b[0m │\n",
       "├──────────────────────────────────────┼─────────────────────────────┼─────────────────┤\n",
       "│ dense_1 (\u001b[38;5;33mDense\u001b[0m)                      │ (\u001b[38;5;45mNone\u001b[0m, \u001b[38;5;34m50\u001b[0m)                  │           \u001b[38;5;34m2,550\u001b[0m │\n",
       "├──────────────────────────────────────┼─────────────────────────────┼─────────────────┤\n",
       "│ dense_2 (\u001b[38;5;33mDense\u001b[0m)                      │ (\u001b[38;5;45mNone\u001b[0m, \u001b[38;5;34m50\u001b[0m)                  │           \u001b[38;5;34m2,550\u001b[0m │\n",
       "├──────────────────────────────────────┼─────────────────────────────┼─────────────────┤\n",
       "│ dense_3 (\u001b[38;5;33mDense\u001b[0m)                      │ (\u001b[38;5;45mNone\u001b[0m, \u001b[38;5;34m1\u001b[0m)                   │              \u001b[38;5;34m51\u001b[0m │\n",
       "└──────────────────────────────────────┴─────────────────────────────┴─────────────────┘\n"
      ]
     },
     "metadata": {},
     "output_type": "display_data"
    },
    {
     "data": {
      "text/html": [
       "<pre style=\"white-space:pre;overflow-x:auto;line-height:normal;font-family:Menlo,'DejaVu Sans Mono',consolas,'Courier New',monospace\"><span style=\"font-weight: bold\"> Total params: </span><span style=\"color: #00af00; text-decoration-color: #00af00\">17,405</span> (67.99 KB)\n",
       "</pre>\n"
      ],
      "text/plain": [
       "\u001b[1m Total params: \u001b[0m\u001b[38;5;34m17,405\u001b[0m (67.99 KB)\n"
      ]
     },
     "metadata": {},
     "output_type": "display_data"
    },
    {
     "data": {
      "text/html": [
       "<pre style=\"white-space:pre;overflow-x:auto;line-height:normal;font-family:Menlo,'DejaVu Sans Mono',consolas,'Courier New',monospace\"><span style=\"font-weight: bold\"> Trainable params: </span><span style=\"color: #00af00; text-decoration-color: #00af00\">5,801</span> (22.66 KB)\n",
       "</pre>\n"
      ],
      "text/plain": [
       "\u001b[1m Trainable params: \u001b[0m\u001b[38;5;34m5,801\u001b[0m (22.66 KB)\n"
      ]
     },
     "metadata": {},
     "output_type": "display_data"
    },
    {
     "data": {
      "text/html": [
       "<pre style=\"white-space:pre;overflow-x:auto;line-height:normal;font-family:Menlo,'DejaVu Sans Mono',consolas,'Courier New',monospace\"><span style=\"font-weight: bold\"> Non-trainable params: </span><span style=\"color: #00af00; text-decoration-color: #00af00\">0</span> (0.00 B)\n",
       "</pre>\n"
      ],
      "text/plain": [
       "\u001b[1m Non-trainable params: \u001b[0m\u001b[38;5;34m0\u001b[0m (0.00 B)\n"
      ]
     },
     "metadata": {},
     "output_type": "display_data"
    },
    {
     "data": {
      "text/html": [
       "<pre style=\"white-space:pre;overflow-x:auto;line-height:normal;font-family:Menlo,'DejaVu Sans Mono',consolas,'Courier New',monospace\"><span style=\"font-weight: bold\"> Optimizer params: </span><span style=\"color: #00af00; text-decoration-color: #00af00\">11,604</span> (45.33 KB)\n",
       "</pre>\n"
      ],
      "text/plain": [
       "\u001b[1m Optimizer params: \u001b[0m\u001b[38;5;34m11,604\u001b[0m (45.33 KB)\n"
      ]
     },
     "metadata": {},
     "output_type": "display_data"
    },
    {
     "name": "stdout",
     "output_type": "stream",
     "text": [
      "None\n"
     ]
    }
   ],
   "source": [
    "print(model.summary())"
   ]
  },
  {
   "cell_type": "code",
   "execution_count": 12,
   "metadata": {},
   "outputs": [
    {
     "name": "stdout",
     "output_type": "stream",
     "text": [
      "[[-0.95273167]\n",
      " [-0.60492697]\n",
      " [ 2.5805225 ]\n",
      " ...\n",
      " [-0.37305716]\n",
      " [-1.04106303]\n",
      " [ 1.42117347]]\n"
     ]
    }
   ],
   "source": [
    "print(y_train)"
   ]
  },
  {
   "cell_type": "code",
   "execution_count": 13,
   "metadata": {},
   "outputs": [
    {
     "name": "stdout",
     "output_type": "stream",
     "text": [
      "Min label: -1.0521044484722468, Max label: 4.3361081667641255\n"
     ]
    }
   ],
   "source": [
    "print(f\"Min label: {y_train.min()}, Max label: {y_train.max()}\")\n"
   ]
  },
  {
   "cell_type": "markdown",
   "metadata": {
    "id": "jzchTK1jrIxA"
   },
   "source": [
    "## Parte 3 - Ajuste fino\n",
    "\n",
    "Siguiendo el ejemplo de la sección *Fine-Tuning Neural Network Hyperparameters*:\n",
    "\n",
    "\n",
    "*   Utilizar la herramienta *RandomSearch* de *KerasTuner* para la busqueda de hiperparámetros del modelo implementado en *keras*. \n",
    "*   Probar el *tip* que se sugiere en la sección *Number of Neurons per Hidden Layer* y comentar los resultados."
   ]
  },
  {
   "cell_type": "code",
   "execution_count": 14,
   "metadata": {},
   "outputs": [],
   "source": [
    "import keras_tuner as kt\n",
    "from tensorflow import keras\n",
    "from tensorflow.keras import layers\n",
    "from scikeras.wrappers import KerasClassifier, KerasRegressor\n",
    "from sklearn.model_selection import RandomizedSearchCV\n",
    "\n",
    "def build_model(n_hidden=1, n_neurons=30, learning_rate=3e-3, input_shape=[8]):\n",
    "    model = keras.models.Sequential()\n",
    "    options = {\"input_shape\": input_shape}\n",
    "    for layer in range(n_hidden):\n",
    "        model.add(keras.layers.Dense(n_neurons, activation=\"relu\", **options))\n",
    "        options = {}\n",
    "    model.add(keras.layers.Dense(1, **options))\n",
    "    optimizer = keras.optimizers.SGD(learning_rate)\n",
    "    model.compile(loss=\"mse\", optimizer=optimizer)\n",
    "    return model\n"
   ]
  },
  {
   "cell_type": "code",
   "execution_count": 15,
   "metadata": {},
   "outputs": [],
   "source": [
    "keras_reg = KerasRegressor(build_model)"
   ]
  },
  {
   "cell_type": "code",
   "execution_count": 17,
   "metadata": {},
   "outputs": [],
   "source": [
    "def build_model(hp):\n",
    "    n_hidden = hp.Int(\"n_hidden\", min_value=2, max_value=8, default=2)\n",
    "    n_neurons = hp.Int(\"n_neurons\", min_value=16, max_value=256)\n",
    "    learning_rate = hp.Float(\"learning_rate\", min_value=1e-4, max_value=1e-2,\n",
    "    sampling=\"log\")\n",
    "    optimizer = hp.Choice(\"optimizer\", values=[\"sgd\", \"adam\"])\n",
    "    if optimizer == \"sgd\":\n",
    "        optimizer = tf.keras.optimizers.SGD(learning_rate=learning_rate)\n",
    "    else:\n",
    "        optimizer = tf.keras.optimizers.Adam(learning_rate=learning_rate)\n",
    "    model = tf.keras.Sequential()\n",
    "    model.add(tf.keras.layers.Flatten())\n",
    "    for _ in range(n_hidden):\n",
    "        model.add(tf.keras.layers.Dense(n_neurons, activation=\"relu\"))\n",
    "    model.add(layers.Dense(1, activation= \"relu\"))\n",
    "    model.compile(loss=\"msle\", optimizer=optimizer, metrics=[\"msle\"])\n",
    "    return model"
   ]
  },
  {
   "cell_type": "code",
   "execution_count": 18,
   "metadata": {},
   "outputs": [
    {
     "name": "stdout",
     "output_type": "stream",
     "text": [
      "min y_train: -1.0521044484722468\n",
      "min y_valid: -1.0521044484722468\n"
     ]
    }
   ],
   "source": [
    "print(\"min y_train:\", y_train.min())\n",
    "print(\"min y_valid:\", y_valid.min())"
   ]
  },
  {
   "cell_type": "code",
   "execution_count": 20,
   "metadata": {},
   "outputs": [
    {
     "name": "stdout",
     "output_type": "stream",
     "text": [
      "Trial 10 Complete [00h 00m 13s]\n",
      "val_msle: 0.02732277847826481\n",
      "\n",
      "Best val_msle So Far: 0.015859199687838554\n",
      "Total elapsed time: 00h 05m 55s\n"
     ]
    }
   ],
   "source": [
    "import keras_tuner as kt\n",
    "random_search_tuner = kt.RandomSearch(\n",
    "    build_model,\n",
    "    objective=\"val_msle\",  \n",
    "    max_trials=10,\n",
    "    overwrite=False,\n",
    "    directory=\"bike_regression_tuning\",\n",
    "    project_name=\"random_search\",\n",
    "    seed=42\n",
    ")\n",
    "random_search_tuner.search(X_train, y_train, epochs=10,\n",
    "validation_data=(X_valid, y_valid))\n"
   ]
  },
  {
   "cell_type": "code",
   "execution_count": 21,
   "metadata": {},
   "outputs": [
    {
     "name": "stdout",
     "output_type": "stream",
     "text": [
      "Mejores hiperparámetros encontrados:\n",
      "{'n_hidden': 8, 'n_neurons': 124, 'learning_rate': 0.0005509513888645584, 'optimizer': 'adam'}\n"
     ]
    },
    {
     "name": "stderr",
     "output_type": "stream",
     "text": [
      "C:\\Users\\ureca\\miniconda3\\envs\\TAA-py311\\Lib\\site-packages\\keras\\src\\saving\\saving_lib.py:757: UserWarning: Skipping variable loading for optimizer 'adam', because it has 2 variables whereas the saved optimizer has 38 variables. \n",
      "  saveable.load_own_variables(weights_store.get(inner_path))\n"
     ]
    }
   ],
   "source": [
    "# Obtener el mejor modelo y los mejores hiperparámetros\n",
    "best_model = random_search_tuner.get_best_models(num_models=1)[0]\n",
    "best_hparams = random_search_tuner.get_best_hyperparameters(num_trials=1)[0]\n",
    "\n",
    "# Imprimir los mejores hiperparámetros encontrados\n",
    "print(\"Mejores hiperparámetros encontrados:\")\n",
    "print(best_hparams.values)\n",
    "\n",
    "\n",
    "\n"
   ]
  },
  {
   "cell_type": "code",
   "execution_count": 22,
   "metadata": {},
   "outputs": [
    {
     "name": "stdout",
     "output_type": "stream",
     "text": [
      "\u001b[1m35/35\u001b[0m \u001b[32m━━━━━━━━━━━━━━━━━━━━\u001b[0m\u001b[37m\u001b[0m \u001b[1m0s\u001b[0m 5ms/step\n"
     ]
    },
    {
     "data": {
      "image/png": "[encoded data removed]",
      "text/plain": [
       "<Figure size 1000x400 with 1 Axes>"
      ]
     },
     "metadata": {},
     "output_type": "display_data"
    }
   ],
   "source": [
    "# Predicciones\n",
    "y_pred_scaled = best_model.predict(X_test)\n",
    "\n",
    "# Desescalar\n",
    "y_pred = scaler_y.inverse_transform(y_pred_scaled)\n",
    "y_test_real = scaler_y.inverse_transform(y_test)\n",
    "\n",
    "# Comparar primeros valores\n",
    "import matplotlib.pyplot as plt\n",
    "\n",
    "plt.figure(figsize=(10, 4))\n",
    "plt.plot(y_test_real[:100], label=\"Real\")\n",
    "plt.plot(y_pred[:100], label=\"Predicción\")\n",
    "plt.legend()\n",
    "plt.title(\"Comparación real vs predicción\")\n",
    "plt.show()\n"
   ]
  },
  {
   "cell_type": "markdown",
   "metadata": {
    "id": "HmUt2QrywG60"
   },
   "source": [
    "## Parte 4 - Ajuste fino (Optuna)\n",
    "\n",
    "*   Utilizar *Optuna* para la busqueda de hiperparámetros del modelo en *Keras*. Se le sugiere seguir uno de los siguientes ejemplos: [*keras_simple*](https://github.com/optuna/optuna-examples/blob/main/keras/keras_simple.py),  [OptunaSearchCV](https://github.com/optuna/optuna-examples/blob/main/sklearn/sklearn_optuna_search_cv_simple.py).\n",
    "\n",
    "*Nota: Optuna puede utilizarse para optimizar otras técnicas por fuera de las redes neuronales.*\n",
    "\n",
    "*Nota2: Keras Tuner permite realizar Optimización bayesiana.*"
   ]
  },
  {
   "cell_type": "code",
   "execution_count": 27,
   "metadata": {},
   "outputs": [
    {
     "name": "stderr",
     "output_type": "stream",
     "text": [
      "[I 2025-04-21 15:58:48,430] A new study created in memory with name: no-name-b1c5b030-4983-4df2-afc4-7a6782d3b478\n",
      "[I 2025-04-21 15:59:02,456] Trial 0 finished with value: 0.09950663149356842 and parameters: {'n_hidden': 1, 'n_neurons': 235, 'activation': 'tanh', 'optimizer': 'sgd', 'learning_rate': 0.00016979462356411519}. Best is trial 0 with value: 0.09950663149356842.\n",
      "[I 2025-04-21 15:59:16,261] Trial 1 finished with value: 0.02885792963206768 and parameters: {'n_hidden': 1, 'n_neurons': 252, 'activation': 'relu', 'optimizer': 'adam', 'learning_rate': 0.0008034551934351517}. Best is trial 1 with value: 0.02885792963206768.\n",
      "[I 2025-04-21 15:59:29,999] Trial 2 finished with value: 0.09081289917230606 and parameters: {'n_hidden': 4, 'n_neurons': 45, 'activation': 'tanh', 'optimizer': 'sgd', 'learning_rate': 0.003950979165471675}. Best is trial 1 with value: 0.02885792963206768.\n",
      "[I 2025-04-21 15:59:53,826] Trial 3 finished with value: 0.015481044538319111 and parameters: {'n_hidden': 5, 'n_neurons': 230, 'activation': 'relu', 'optimizer': 'adam', 'learning_rate': 0.00040472716910673487}. Best is trial 3 with value: 0.015481044538319111.\n",
      "[I 2025-04-21 16:00:11,332] Trial 4 finished with value: 0.011694906279444695 and parameters: {'n_hidden': 4, 'n_neurons': 112, 'activation': 'relu', 'optimizer': 'adam', 'learning_rate': 0.006425803341335867}. Best is trial 4 with value: 0.011694906279444695.\n",
      "[I 2025-04-21 16:00:24,902] Trial 5 finished with value: 0.020978430286049843 and parameters: {'n_hidden': 1, 'n_neurons': 137, 'activation': 'relu', 'optimizer': 'adam', 'learning_rate': 0.00330323191039574}. Best is trial 4 with value: 0.011694906279444695.\n",
      "[I 2025-04-21 16:00:38,791] Trial 6 finished with value: 0.09765288978815079 and parameters: {'n_hidden': 2, 'n_neurons': 107, 'activation': 'tanh', 'optimizer': 'sgd', 'learning_rate': 0.0023930634975066413}. Best is trial 4 with value: 0.011694906279444695.\n",
      "[I 2025-04-21 16:00:54,044] Trial 7 finished with value: 0.014241001568734646 and parameters: {'n_hidden': 2, 'n_neurons': 168, 'activation': 'relu', 'optimizer': 'adam', 'learning_rate': 0.0010074138412913838}. Best is trial 4 with value: 0.011694906279444695.\n",
      "[I 2025-04-21 16:01:07,768] Trial 8 finished with value: 0.05874668061733246 and parameters: {'n_hidden': 1, 'n_neurons': 156, 'activation': 'tanh', 'optimizer': 'adam', 'learning_rate': 0.0014024871773600973}. Best is trial 4 with value: 0.011694906279444695.\n",
      "[I 2025-04-21 16:01:28,263] Trial 9 finished with value: 0.18002691864967346 and parameters: {'n_hidden': 3, 'n_neurons': 251, 'activation': 'relu', 'optimizer': 'adam', 'learning_rate': 0.00061439705565054}. Best is trial 4 with value: 0.011694906279444695.\n",
      "[I 2025-04-21 16:01:43,013] Trial 10 finished with value: 0.06738727539777756 and parameters: {'n_hidden': 5, 'n_neurons': 63, 'activation': 'relu', 'optimizer': 'sgd', 'learning_rate': 0.00997190790112188}. Best is trial 4 with value: 0.011694906279444695.\n",
      "[I 2025-04-21 16:02:02,217] Trial 11 finished with value: 0.18002691864967346 and parameters: {'n_hidden': 3, 'n_neurons': 179, 'activation': 'relu', 'optimizer': 'adam', 'learning_rate': 0.009523556482626318}. Best is trial 4 with value: 0.011694906279444695.\n",
      "[I 2025-04-21 16:02:18,300] Trial 12 finished with value: 0.041193291544914246 and parameters: {'n_hidden': 3, 'n_neurons': 110, 'activation': 'relu', 'optimizer': 'adam', 'learning_rate': 0.00011318110235007544}. Best is trial 4 with value: 0.011694906279444695.\n",
      "[I 2025-04-21 16:02:37,098] Trial 13 finished with value: 0.014991488307714462 and parameters: {'n_hidden': 4, 'n_neurons': 192, 'activation': 'relu', 'optimizer': 'adam', 'learning_rate': 0.00031490811619063814}. Best is trial 4 with value: 0.011694906279444695.\n",
      "[I 2025-04-21 16:02:52,163] Trial 14 finished with value: 0.02285986766219139 and parameters: {'n_hidden': 2, 'n_neurons': 98, 'activation': 'relu', 'optimizer': 'adam', 'learning_rate': 0.001538966766028681}. Best is trial 4 with value: 0.011694906279444695.\n",
      "[I 2025-04-21 16:03:12,067] Trial 15 finished with value: 0.015324439853429794 and parameters: {'n_hidden': 4, 'n_neurons': 194, 'activation': 'relu', 'optimizer': 'adam', 'learning_rate': 0.004387475606992768}. Best is trial 4 with value: 0.011694906279444695.\n",
      "[I 2025-04-21 16:03:28,518] Trial 16 finished with value: 0.015795990824699402 and parameters: {'n_hidden': 2, 'n_neurons': 144, 'activation': 'relu', 'optimizer': 'adam', 'learning_rate': 0.005406311229404896}. Best is trial 4 with value: 0.011694906279444695.\n",
      "[I 2025-04-21 16:03:44,361] Trial 17 finished with value: 0.014315157197415829 and parameters: {'n_hidden': 3, 'n_neurons': 70, 'activation': 'relu', 'optimizer': 'adam', 'learning_rate': 0.001910911536269777}. Best is trial 4 with value: 0.011694906279444695.\n",
      "[I 2025-04-21 16:04:02,272] Trial 18 finished with value: 0.09819579869508743 and parameters: {'n_hidden': 4, 'n_neurons': 171, 'activation': 'tanh', 'optimizer': 'sgd', 'learning_rate': 0.0009972113298861952}. Best is trial 4 with value: 0.011694906279444695.\n",
      "[I 2025-04-21 16:04:17,641] Trial 19 finished with value: 0.03233485668897629 and parameters: {'n_hidden': 2, 'n_neurons': 125, 'activation': 'relu', 'optimizer': 'adam', 'learning_rate': 0.0002483508476255271}. Best is trial 4 with value: 0.011694906279444695.\n",
      "[I 2025-04-21 16:04:42,081] Trial 20 finished with value: 0.011440730653703213 and parameters: {'n_hidden': 5, 'n_neurons': 207, 'activation': 'relu', 'optimizer': 'adam', 'learning_rate': 0.0005675377088122445}. Best is trial 20 with value: 0.011440730653703213.\n",
      "[I 2025-04-21 16:05:06,185] Trial 21 finished with value: 0.013881193473935127 and parameters: {'n_hidden': 5, 'n_neurons': 213, 'activation': 'relu', 'optimizer': 'adam', 'learning_rate': 0.0005312314764565359}. Best is trial 20 with value: 0.011440730653703213.\n",
      "[I 2025-04-21 16:05:34,130] Trial 22 finished with value: 0.18002691864967346 and parameters: {'n_hidden': 5, 'n_neurons': 221, 'activation': 'relu', 'optimizer': 'adam', 'learning_rate': 0.0004930005277512556}. Best is trial 20 with value: 0.011440730653703213.\n",
      "[I 2025-04-21 16:05:55,701] Trial 23 finished with value: 0.012185483239591122 and parameters: {'n_hidden': 5, 'n_neurons': 208, 'activation': 'relu', 'optimizer': 'adam', 'learning_rate': 0.0006514683293076879}. Best is trial 20 with value: 0.011440730653703213.\n",
      "[I 2025-04-21 16:06:18,896] Trial 24 finished with value: 0.013451941311359406 and parameters: {'n_hidden': 5, 'n_neurons': 201, 'activation': 'relu', 'optimizer': 'adam', 'learning_rate': 0.00026812647136925134}. Best is trial 20 with value: 0.011440730653703213.\n",
      "[I 2025-04-21 16:06:36,592] Trial 25 finished with value: 0.021415945142507553 and parameters: {'n_hidden': 4, 'n_neurons': 87, 'activation': 'relu', 'optimizer': 'adam', 'learning_rate': 0.0007638092444457386}. Best is trial 20 with value: 0.011440730653703213.\n",
      "[I 2025-04-21 16:06:56,647] Trial 26 finished with value: 0.09772037714719772 and parameters: {'n_hidden': 5, 'n_neurons': 129, 'activation': 'tanh', 'optimizer': 'sgd', 'learning_rate': 0.001245882701889931}. Best is trial 20 with value: 0.011440730653703213.\n",
      "[I 2025-04-21 16:07:16,366] Trial 27 finished with value: 0.013211831450462341 and parameters: {'n_hidden': 4, 'n_neurons': 156, 'activation': 'relu', 'optimizer': 'adam', 'learning_rate': 0.00259655690512847}. Best is trial 20 with value: 0.011440730653703213.\n",
      "[I 2025-04-21 16:07:40,875] Trial 28 finished with value: 0.0129669439047575 and parameters: {'n_hidden': 5, 'n_neurons': 211, 'activation': 'relu', 'optimizer': 'adam', 'learning_rate': 0.00021038354040076574}. Best is trial 20 with value: 0.011440730653703213.\n",
      "[I 2025-04-21 16:08:02,765] Trial 29 finished with value: 0.10084901005029678 and parameters: {'n_hidden': 4, 'n_neurons': 236, 'activation': 'tanh', 'optimizer': 'sgd', 'learning_rate': 0.00012673040317228283}. Best is trial 20 with value: 0.011440730653703213.\n"
     ]
    },
    {
     "name": "stdout",
     "output_type": "stream",
     "text": [
      "Número de trials: 30\n",
      "Mejor trial:\n",
      "  MAE: 0.011440730653703213\n",
      "  Hiperparámetros:\n",
      "    n_hidden: 5\n",
      "    n_neurons: 207\n",
      "    activation: relu\n",
      "    optimizer: adam\n",
      "    learning_rate: 0.0005675377088122445\n"
     ]
    }
   ],
   "source": [
    "import optuna\n",
    "from keras.models import Sequential\n",
    "from keras.layers import Dense, Input, Flatten\n",
    "from keras.optimizers import Adam, SGD\n",
    "from keras.backend import clear_session\n",
    "\n",
    "EPOCHS = 20\n",
    "BATCHSIZE = 32\n",
    "\n",
    "def objective(trial):\n",
    "    clear_session()\n",
    "\n",
    "    \n",
    "    n_hidden = trial.suggest_int(\"n_hidden\", 1, 5)\n",
    "    n_neurons = trial.suggest_int(\"n_neurons\", 32, 256)\n",
    "    activation = trial.suggest_categorical(\"activation\", [\"relu\", \"tanh\"])\n",
    "    optimizer_name = trial.suggest_categorical(\"optimizer\", [\"adam\", \"sgd\"])\n",
    "    learning_rate = trial.suggest_float(\"learning_rate\", 1e-4, 1e-2, log=True)\n",
    "\n",
    "    if optimizer_name == \"adam\":\n",
    "        optimizer = Adam(learning_rate=learning_rate)\n",
    "    else:\n",
    "        optimizer = SGD(learning_rate=learning_rate)\n",
    "\n",
    "    # Construcción del modelo\n",
    "    model = Sequential()\n",
    "    model.add(Input(shape=X_train.shape[1:]))\n",
    "    for _ in range(n_hidden):\n",
    "        model.add(Dense(n_neurons, activation=activation))\n",
    "    model.add(Dense(1))  # Salida para regresión\n",
    "\n",
    "    model.compile(loss=\"msle\", optimizer=optimizer, metrics=[\"msle\"])\n",
    "\n",
    "    model.fit(\n",
    "        X_train,\n",
    "        y_train,\n",
    "        validation_data=(X_valid, y_valid),\n",
    "        shuffle=True,\n",
    "        batch_size=BATCHSIZE,\n",
    "        epochs=EPOCHS,\n",
    "        verbose=0,\n",
    "    )\n",
    "\n",
    "    # Evaluamos en validación\n",
    "    loss, msle = model.evaluate(X_valid, y_valid, verbose=0)\n",
    "    return msle  # minimizar MAE\n",
    "\n",
    "# Ejecución del estudio\n",
    "study = optuna.create_study(direction=\"minimize\")\n",
    "study.optimize(objective, n_trials=30, timeout=600)  # podés ajustar esto\n",
    "\n",
    "# Resultados\n",
    "print(\"Número de trials:\", len(study.trials))\n",
    "print(\"Mejor trial:\")\n",
    "print(\"  MAE:\", study.best_trial.value)\n",
    "print(\"  Hiperparámetros:\")\n",
    "for key, value in study.best_trial.params.items():\n",
    "    print(f\"    {key}: {value}\")\n"
   ]
  },
  {
   "cell_type": "markdown",
   "metadata": {
    "id": "cQoU9uS1lkM0"
   },
   "source": [
    "## Parte 5 - Pipeline\n",
    "\n",
    "\n",
    "\n",
    "*   Incorporar el estimador con mejor desempeño a un *pipeline* similar al implementado en el Taller 3. Puede ser útil la biblioteca [scikeras](https://adriangb.com/scikeras/stable/migration.html).\n",
    "*   Subir los resultados de los datos *test* a la página de la competencia.\n",
    "\n"
   ]
  },
  {
   "cell_type": "code",
   "execution_count": 198,
   "metadata": {
    "colab": {
     "base_uri": "https://localhost:8080/"
    },
    "id": "hXPwnG-rhKN2",
    "outputId": "1f40a4c8-e48a-4cdb-bf22-03e86d33ae5e"
   },
   "outputs": [
    {
     "name": "stdout",
     "output_type": "stream",
     "text": [
      "{'n_hidden': 5, 'n_neurons': 207, 'activation': 'relu', 'optimizer': 'adam', 'learning_rate': 0.0005675377088122445}\n"
     ]
    }
   ],
   "source": [
    "from scikeras.wrappers import KerasRegressor\n",
    "from sklearn.pipeline import Pipeline\n",
    "from sklearn.pipeline import Pipeline\n",
    "from sklearn.compose import ColumnTransformer\n",
    "from sklearn.preprocessing import FunctionTransformer\n",
    "from sklearn.metrics import mean_squared_log_error, make_scorer\n",
    "\n",
    "from sklearn.metrics import make_scorer, mean_squared_log_error\n",
    "import numpy as np\n",
    "\n",
    "\n",
    "rmsle_scorer = make_scorer(lambda y_true, y_pred: -np.sqrt(mean_squared_log_error(y_true, y_pred)))\n",
    "\n",
    "\n",
    "\n",
    "best_params = study.best_trial.params\n",
    "\n",
    "n_hidden = best_params[\"n_hidden\"]\n",
    "n_neurons = best_params[\"n_neurons\"]\n",
    "learning_rate = best_params[\"learning_rate\"]\n",
    "optimizer_name = best_params[\"optimizer\"]\n",
    "activation_name = best_params[\"activation\"]\n",
    "\n",
    "print(best_params)"
   ]
  },
  {
   "cell_type": "code",
   "execution_count": 199,
   "metadata": {},
   "outputs": [],
   "source": [
    "from scikeras.wrappers import KerasRegressor\n",
    "from sklearn.pipeline import Pipeline\n",
    "from sklearn.preprocessing import StandardScaler"
   ]
  },
  {
   "cell_type": "code",
   "execution_count": 258,
   "metadata": {},
   "outputs": [
    {
     "name": "stdout",
     "output_type": "stream",
     "text": [
      "['season', 'holiday', 'weather', 'atemp', 'humidity', 'windspeed', 'hour', 'weekday', 'month', 'year']\n"
     ]
    }
   ],
   "source": [
    "\n",
    "df_train_sin = df_train.drop(columns=['temp','workingday'])\n",
    "print(df_train_sin.columns.tolist())"
   ]
  },
  {
   "cell_type": "code",
   "execution_count": 259,
   "metadata": {},
   "outputs": [],
   "source": [
    "from scikeras.wrappers import KerasRegressor\n",
    "\n",
    "from sklearn.pipeline import Pipeline\n",
    "from tensorflow.keras.models import Sequential\n",
    "from tensorflow.keras.layers import Dense\n",
    "from tensorflow.keras.optimizers import Adam, SGD  \n",
    "from tensorflow.keras import Input\n",
    "\n",
    "\n",
    "\n",
    "def create_model(n_hidden=5, n_neurons=207, learning_rate=0.0005675377088122445, optimizer_name=\"adam\", activation_name=\"relu\", input_shape=10):\n",
    "    model = Sequential()\n",
    "    \n",
    "    model.add(Input(shape=(input_shape,)))\n",
    "    model.add(Dense(n_neurons, activation=activation_name))\n",
    "    \n",
    "    for _ in range(n_hidden - 1):\n",
    "        model.add(Dense(n_neurons, activation=activation_name))\n",
    "        \n",
    "    model.add(Dense(1,activation=\"relu\")) \n",
    "    \n",
    "    if optimizer_name == \"adam\":\n",
    "        optimizer = Adam(learning_rate=learning_rate)\n",
    "    elif optimizer_name == \"sgd\":\n",
    "        optimizer = SGD(learning_rate=learning_rate)\n",
    "    else:\n",
    "        raise ValueError(f\"Optimizer {optimizer_name} no reconocido\")\n",
    "    \n",
    "    model.compile(loss=\"msle\", optimizer=optimizer)\n",
    "    return model\n",
    "\n"
   ]
  },
  {
   "cell_type": "code",
   "execution_count": 260,
   "metadata": {},
   "outputs": [],
   "source": [
    "regressor = KerasRegressor(\n",
    "    model=create_model,\n",
    "    epochs=30,\n",
    "    batch_size=16\n",
    ")"
   ]
  },
  {
   "cell_type": "code",
   "execution_count": 265,
   "metadata": {},
   "outputs": [],
   "source": [
    "from sklearn.preprocessing import MinMaxScaler\n",
    "\n",
    "scaler = StandardScaler()\n",
    "X_train_scaled = scaler.fit_transform(df_train_sin)\n",
    "\n",
    "scaler_y = StandardScaler()\n",
    "y_train_full_scaled = scaler_y.fit_transform(y_train_full.to_numpy().reshape(-1, 1))\n",
    "\n",
    "\n",
    "X_train_full, X_test, y_train_full2, y_test = train_test_split(\n",
    "    X_train_scaled, y_train_full_scaled, train_size=0.9\n",
    ")\n",
    "X_train, X_valid, y_train, y_valid = train_test_split(\n",
    "    X_train_full, y_train_full2, train_size=0.9\n",
    ")"
   ]
  },
  {
   "cell_type": "code",
   "execution_count": 262,
   "metadata": {},
   "outputs": [
    {
     "name": "stdout",
     "output_type": "stream",
     "text": [
      "Epoch 1/30\n",
      "\u001b[1m552/552\u001b[0m \u001b[32m━━━━━━━━━━━━━━━━━━━━\u001b[0m\u001b[37m\u001b[0m \u001b[1m4s\u001b[0m 3ms/step - loss: 0.1024 - val_loss: 0.0579\n",
      "Epoch 2/30\n",
      "\u001b[1m552/552\u001b[0m \u001b[32m━━━━━━━━━━━━━━━━━━━━\u001b[0m\u001b[37m\u001b[0m \u001b[1m2s\u001b[0m 3ms/step - loss: 0.0594 - val_loss: 0.0461\n",
      "Epoch 3/30\n",
      "\u001b[1m552/552\u001b[0m \u001b[32m━━━━━━━━━━━━━━━━━━━━\u001b[0m\u001b[37m\u001b[0m \u001b[1m2s\u001b[0m 3ms/step - loss: 0.0380 - val_loss: 0.0380\n",
      "Epoch 4/30\n",
      "\u001b[1m552/552\u001b[0m \u001b[32m━━━━━━━━━━━━━━━━━━━━\u001b[0m\u001b[37m\u001b[0m \u001b[1m2s\u001b[0m 3ms/step - loss: 0.0256 - val_loss: 0.0171\n",
      "Epoch 5/30\n",
      "\u001b[1m552/552\u001b[0m \u001b[32m━━━━━━━━━━━━━━━━━━━━\u001b[0m\u001b[37m\u001b[0m \u001b[1m2s\u001b[0m 3ms/step - loss: 0.0193 - val_loss: 0.0212\n",
      "Epoch 6/30\n",
      "\u001b[1m552/552\u001b[0m \u001b[32m━━━━━━━━━━━━━━━━━━━━\u001b[0m\u001b[37m\u001b[0m \u001b[1m2s\u001b[0m 3ms/step - loss: 0.0175 - val_loss: 0.0173\n",
      "Epoch 7/30\n",
      "\u001b[1m552/552\u001b[0m \u001b[32m━━━━━━━━━━━━━━━━━━━━\u001b[0m\u001b[37m\u001b[0m \u001b[1m2s\u001b[0m 3ms/step - loss: 0.0152 - val_loss: 0.0159\n",
      "Epoch 8/30\n",
      "\u001b[1m552/552\u001b[0m \u001b[32m━━━━━━━━━━━━━━━━━━━━\u001b[0m\u001b[37m\u001b[0m \u001b[1m2s\u001b[0m 3ms/step - loss: 0.0135 - val_loss: 0.0149\n",
      "Epoch 9/30\n",
      "\u001b[1m552/552\u001b[0m \u001b[32m━━━━━━━━━━━━━━━━━━━━\u001b[0m\u001b[37m\u001b[0m \u001b[1m2s\u001b[0m 3ms/step - loss: 0.0129 - val_loss: 0.0323\n",
      "Epoch 10/30\n",
      "\u001b[1m552/552\u001b[0m \u001b[32m━━━━━━━━━━━━━━━━━━━━\u001b[0m\u001b[37m\u001b[0m \u001b[1m2s\u001b[0m 3ms/step - loss: 0.0147 - val_loss: 0.0143\n",
      "Epoch 11/30\n",
      "\u001b[1m552/552\u001b[0m \u001b[32m━━━━━━━━━━━━━━━━━━━━\u001b[0m\u001b[37m\u001b[0m \u001b[1m2s\u001b[0m 3ms/step - loss: 0.0113 - val_loss: 0.0142\n",
      "Epoch 12/30\n",
      "\u001b[1m552/552\u001b[0m \u001b[32m━━━━━━━━━━━━━━━━━━━━\u001b[0m\u001b[37m\u001b[0m \u001b[1m2s\u001b[0m 3ms/step - loss: 0.0118 - val_loss: 0.0191\n",
      "Epoch 13/30\n",
      "\u001b[1m552/552\u001b[0m \u001b[32m━━━━━━━━━━━━━━━━━━━━\u001b[0m\u001b[37m\u001b[0m \u001b[1m2s\u001b[0m 3ms/step - loss: 0.0099 - val_loss: 0.0149\n",
      "Epoch 14/30\n",
      "\u001b[1m552/552\u001b[0m \u001b[32m━━━━━━━━━━━━━━━━━━━━\u001b[0m\u001b[37m\u001b[0m \u001b[1m2s\u001b[0m 3ms/step - loss: 0.0109 - val_loss: 0.0153\n",
      "Epoch 15/30\n",
      "\u001b[1m552/552\u001b[0m \u001b[32m━━━━━━━━━━━━━━━━━━━━\u001b[0m\u001b[37m\u001b[0m \u001b[1m2s\u001b[0m 3ms/step - loss: 0.0094 - val_loss: 0.0184\n",
      "Epoch 16/30\n",
      "\u001b[1m552/552\u001b[0m \u001b[32m━━━━━━━━━━━━━━━━━━━━\u001b[0m\u001b[37m\u001b[0m \u001b[1m2s\u001b[0m 3ms/step - loss: 0.0100 - val_loss: 0.0160\n",
      "Epoch 17/30\n",
      "\u001b[1m552/552\u001b[0m \u001b[32m━━━━━━━━━━━━━━━━━━━━\u001b[0m\u001b[37m\u001b[0m \u001b[1m2s\u001b[0m 3ms/step - loss: 0.0089 - val_loss: 0.0146\n",
      "Epoch 18/30\n",
      "\u001b[1m552/552\u001b[0m \u001b[32m━━━━━━━━━━━━━━━━━━━━\u001b[0m\u001b[37m\u001b[0m \u001b[1m2s\u001b[0m 3ms/step - loss: 0.0087 - val_loss: 0.0144\n",
      "Epoch 19/30\n",
      "\u001b[1m552/552\u001b[0m \u001b[32m━━━━━━━━━━━━━━━━━━━━\u001b[0m\u001b[37m\u001b[0m \u001b[1m2s\u001b[0m 3ms/step - loss: 0.0080 - val_loss: 0.0134\n",
      "Epoch 20/30\n",
      "\u001b[1m552/552\u001b[0m \u001b[32m━━━━━━━━━━━━━━━━━━━━\u001b[0m\u001b[37m\u001b[0m \u001b[1m2s\u001b[0m 3ms/step - loss: 0.0080 - val_loss: 0.0137\n",
      "Epoch 21/30\n",
      "\u001b[1m552/552\u001b[0m \u001b[32m━━━━━━━━━━━━━━━━━━━━\u001b[0m\u001b[37m\u001b[0m \u001b[1m2s\u001b[0m 3ms/step - loss: 0.0070 - val_loss: 0.0162\n",
      "Epoch 22/30\n",
      "\u001b[1m552/552\u001b[0m \u001b[32m━━━━━━━━━━━━━━━━━━━━\u001b[0m\u001b[37m\u001b[0m \u001b[1m2s\u001b[0m 3ms/step - loss: 0.0082 - val_loss: 0.0125\n",
      "Epoch 23/30\n",
      "\u001b[1m552/552\u001b[0m \u001b[32m━━━━━━━━━━━━━━━━━━━━\u001b[0m\u001b[37m\u001b[0m \u001b[1m2s\u001b[0m 3ms/step - loss: 0.0069 - val_loss: 0.0130\n",
      "Epoch 24/30\n",
      "\u001b[1m552/552\u001b[0m \u001b[32m━━━━━━━━━━━━━━━━━━━━\u001b[0m\u001b[37m\u001b[0m \u001b[1m2s\u001b[0m 3ms/step - loss: 0.0064 - val_loss: 0.0133\n",
      "Epoch 25/30\n",
      "\u001b[1m552/552\u001b[0m \u001b[32m━━━━━━━━━━━━━━━━━━━━\u001b[0m\u001b[37m\u001b[0m \u001b[1m3s\u001b[0m 3ms/step - loss: 0.0065 - val_loss: 0.0119\n",
      "Epoch 26/30\n",
      "\u001b[1m552/552\u001b[0m \u001b[32m━━━━━━━━━━━━━━━━━━━━\u001b[0m\u001b[37m\u001b[0m \u001b[1m2s\u001b[0m 3ms/step - loss: 0.0060 - val_loss: 0.0146\n",
      "Epoch 27/30\n",
      "\u001b[1m552/552\u001b[0m \u001b[32m━━━━━━━━━━━━━━━━━━━━\u001b[0m\u001b[37m\u001b[0m \u001b[1m2s\u001b[0m 3ms/step - loss: 0.0079 - val_loss: 0.0149\n",
      "Epoch 28/30\n",
      "\u001b[1m552/552\u001b[0m \u001b[32m━━━━━━━━━━━━━━━━━━━━\u001b[0m\u001b[37m\u001b[0m \u001b[1m2s\u001b[0m 3ms/step - loss: 0.0059 - val_loss: 0.0138\n",
      "Epoch 29/30\n",
      "\u001b[1m552/552\u001b[0m \u001b[32m━━━━━━━━━━━━━━━━━━━━\u001b[0m\u001b[37m\u001b[0m \u001b[1m2s\u001b[0m 4ms/step - loss: 0.0054 - val_loss: 0.0124\n",
      "Epoch 30/30\n",
      "\u001b[1m552/552\u001b[0m \u001b[32m━━━━━━━━━━━━━━━━━━━━\u001b[0m\u001b[37m\u001b[0m \u001b[1m2s\u001b[0m 3ms/step - loss: 0.0065 - val_loss: 0.0130\n",
      "\u001b[1m69/69\u001b[0m \u001b[32m━━━━━━━━━━━━━━━━━━━━\u001b[0m\u001b[37m\u001b[0m \u001b[1m0s\u001b[0m 3ms/step\n",
      "RMSLE: 1.463991137233337\n"
     ]
    }
   ],
   "source": [
    "from sklearn.metrics import mean_squared_log_error\n",
    "\n",
    "regressor.fit(X_train, y_train, validation_data=(X_valid, y_valid))\n",
    "y_pred_test = regressor.predict(X_test)\n",
    "\n",
    "\n",
    "y_pred_test_rescaled = scaler_y.inverse_transform(y_pred_test.reshape(-1, 1))\n",
    "y_test_rescaled = scaler_y.inverse_transform(y_test.reshape(-1, 1))\n",
    "\n",
    "rmsle = np.sqrt(mean_squared_log_error(y_test_rescaled, y_pred_test_rescaled))\n",
    "\n",
    "print(f\"RMSLE: {rmsle}\")"
   ]
  },
  {
   "cell_type": "code",
   "execution_count": 263,
   "metadata": {},
   "outputs": [
    {
     "name": "stdout",
     "output_type": "stream",
     "text": [
      "Epoch 1/30\n",
      "\u001b[1m552/552\u001b[0m \u001b[32m━━━━━━━━━━━━━━━━━━━━\u001b[0m\u001b[37m\u001b[0m \u001b[1m4s\u001b[0m 3ms/step - loss: 0.0996 - val_loss: 0.0674\n",
      "Epoch 2/30\n",
      "\u001b[1m552/552\u001b[0m \u001b[32m━━━━━━━━━━━━━━━━━━━━\u001b[0m\u001b[37m\u001b[0m \u001b[1m2s\u001b[0m 3ms/step - loss: 0.0555 - val_loss: 0.0383\n",
      "Epoch 3/30\n",
      "\u001b[1m552/552\u001b[0m \u001b[32m━━━━━━━━━━━━━━━━━━━━\u001b[0m\u001b[37m\u001b[0m \u001b[1m2s\u001b[0m 3ms/step - loss: 0.0372 - val_loss: 0.0329\n",
      "Epoch 4/30\n",
      "\u001b[1m552/552\u001b[0m \u001b[32m━━━━━━━━━━━━━━━━━━━━\u001b[0m\u001b[37m\u001b[0m \u001b[1m2s\u001b[0m 3ms/step - loss: 0.0265 - val_loss: 0.0284\n",
      "Epoch 5/30\n",
      "\u001b[1m552/552\u001b[0m \u001b[32m━━━━━━━━━━━━━━━━━━━━\u001b[0m\u001b[37m\u001b[0m \u001b[1m2s\u001b[0m 3ms/step - loss: 0.0216 - val_loss: 0.0275\n",
      "Epoch 6/30\n",
      "\u001b[1m552/552\u001b[0m \u001b[32m━━━━━━━━━━━━━━━━━━━━\u001b[0m\u001b[37m\u001b[0m \u001b[1m2s\u001b[0m 3ms/step - loss: 0.0186 - val_loss: 0.0219\n",
      "Epoch 7/30\n",
      "\u001b[1m552/552\u001b[0m \u001b[32m━━━━━━━━━━━━━━━━━━━━\u001b[0m\u001b[37m\u001b[0m \u001b[1m2s\u001b[0m 3ms/step - loss: 0.0168 - val_loss: 0.0213\n",
      "Epoch 8/30\n",
      "\u001b[1m552/552\u001b[0m \u001b[32m━━━━━━━━━━━━━━━━━━━━\u001b[0m\u001b[37m\u001b[0m \u001b[1m2s\u001b[0m 3ms/step - loss: 0.0160 - val_loss: 0.0230\n",
      "Epoch 9/30\n",
      "\u001b[1m552/552\u001b[0m \u001b[32m━━━━━━━━━━━━━━━━━━━━\u001b[0m\u001b[37m\u001b[0m \u001b[1m2s\u001b[0m 3ms/step - loss: 0.0142 - val_loss: 0.0243\n",
      "Epoch 10/30\n",
      "\u001b[1m552/552\u001b[0m \u001b[32m━━━━━━━━━━━━━━━━━━━━\u001b[0m\u001b[37m\u001b[0m \u001b[1m2s\u001b[0m 3ms/step - loss: 0.0140 - val_loss: 0.0244\n",
      "Epoch 11/30\n",
      "\u001b[1m552/552\u001b[0m \u001b[32m━━━━━━━━━━━━━━━━━━━━\u001b[0m\u001b[37m\u001b[0m \u001b[1m2s\u001b[0m 3ms/step - loss: 0.0131 - val_loss: 0.0218\n",
      "Epoch 12/30\n",
      "\u001b[1m552/552\u001b[0m \u001b[32m━━━━━━━━━━━━━━━━━━━━\u001b[0m\u001b[37m\u001b[0m \u001b[1m2s\u001b[0m 3ms/step - loss: 0.0125 - val_loss: 0.0306\n",
      "Epoch 13/30\n",
      "\u001b[1m552/552\u001b[0m \u001b[32m━━━━━━━━━━━━━━━━━━━━\u001b[0m\u001b[37m\u001b[0m \u001b[1m3s\u001b[0m 3ms/step - loss: 0.0148 - val_loss: 0.0191\n",
      "Epoch 14/30\n",
      "\u001b[1m552/552\u001b[0m \u001b[32m━━━━━━━━━━━━━━━━━━━━\u001b[0m\u001b[37m\u001b[0m \u001b[1m3s\u001b[0m 3ms/step - loss: 0.0121 - val_loss: 0.0263\n",
      "Epoch 15/30\n",
      "\u001b[1m552/552\u001b[0m \u001b[32m━━━━━━━━━━━━━━━━━━━━\u001b[0m\u001b[37m\u001b[0m \u001b[1m2s\u001b[0m 3ms/step - loss: 0.0124 - val_loss: 0.0184\n",
      "Epoch 16/30\n",
      "\u001b[1m552/552\u001b[0m \u001b[32m━━━━━━━━━━━━━━━━━━━━\u001b[0m\u001b[37m\u001b[0m \u001b[1m2s\u001b[0m 4ms/step - loss: 0.0093 - val_loss: 0.0217\n",
      "Epoch 17/30\n",
      "\u001b[1m552/552\u001b[0m \u001b[32m━━━━━━━━━━━━━━━━━━━━\u001b[0m\u001b[37m\u001b[0m \u001b[1m2s\u001b[0m 3ms/step - loss: 0.0105 - val_loss: 0.0160\n",
      "Epoch 18/30\n",
      "\u001b[1m552/552\u001b[0m \u001b[32m━━━━━━━━━━━━━━━━━━━━\u001b[0m\u001b[37m\u001b[0m \u001b[1m2s\u001b[0m 3ms/step - loss: 0.0100 - val_loss: 0.0217\n",
      "Epoch 19/30\n",
      "\u001b[1m552/552\u001b[0m \u001b[32m━━━━━━━━━━━━━━━━━━━━\u001b[0m\u001b[37m\u001b[0m \u001b[1m2s\u001b[0m 3ms/step - loss: 0.0091 - val_loss: 0.0194\n",
      "Epoch 20/30\n",
      "\u001b[1m552/552\u001b[0m \u001b[32m━━━━━━━━━━━━━━━━━━━━\u001b[0m\u001b[37m\u001b[0m \u001b[1m2s\u001b[0m 3ms/step - loss: 0.0094 - val_loss: 0.0239\n",
      "Epoch 21/30\n",
      "\u001b[1m552/552\u001b[0m \u001b[32m━━━━━━━━━━━━━━━━━━━━\u001b[0m\u001b[37m\u001b[0m \u001b[1m2s\u001b[0m 3ms/step - loss: 0.0093 - val_loss: 0.0207\n",
      "Epoch 22/30\n",
      "\u001b[1m552/552\u001b[0m \u001b[32m━━━━━━━━━━━━━━━━━━━━\u001b[0m\u001b[37m\u001b[0m \u001b[1m2s\u001b[0m 3ms/step - loss: 0.0082 - val_loss: 0.0262\n",
      "Epoch 23/30\n",
      "\u001b[1m552/552\u001b[0m \u001b[32m━━━━━━━━━━━━━━━━━━━━\u001b[0m\u001b[37m\u001b[0m \u001b[1m2s\u001b[0m 3ms/step - loss: 0.0104 - val_loss: 0.0163\n",
      "Epoch 24/30\n",
      "\u001b[1m552/552\u001b[0m \u001b[32m━━━━━━━━━━━━━━━━━━━━\u001b[0m\u001b[37m\u001b[0m \u001b[1m2s\u001b[0m 3ms/step - loss: 0.0084 - val_loss: 0.0145\n",
      "Epoch 25/30\n",
      "\u001b[1m552/552\u001b[0m \u001b[32m━━━━━━━━━━━━━━━━━━━━\u001b[0m\u001b[37m\u001b[0m \u001b[1m2s\u001b[0m 3ms/step - loss: 0.0077 - val_loss: 0.0116\n",
      "Epoch 26/30\n",
      "\u001b[1m552/552\u001b[0m \u001b[32m━━━━━━━━━━━━━━━━━━━━\u001b[0m\u001b[37m\u001b[0m \u001b[1m2s\u001b[0m 3ms/step - loss: 0.0078 - val_loss: 0.0168\n",
      "Epoch 27/30\n",
      "\u001b[1m552/552\u001b[0m \u001b[32m━━━━━━━━━━━━━━━━━━━━\u001b[0m\u001b[37m\u001b[0m \u001b[1m3s\u001b[0m 3ms/step - loss: 0.0075 - val_loss: 0.0189\n",
      "Epoch 28/30\n",
      "\u001b[1m552/552\u001b[0m \u001b[32m━━━━━━━━━━━━━━━━━━━━\u001b[0m\u001b[37m\u001b[0m \u001b[1m2s\u001b[0m 3ms/step - loss: 0.0071 - val_loss: 0.0188\n",
      "Epoch 29/30\n",
      "\u001b[1m552/552\u001b[0m \u001b[32m━━━━━━━━━━━━━━━━━━━━\u001b[0m\u001b[37m\u001b[0m \u001b[1m2s\u001b[0m 3ms/step - loss: 0.0092 - val_loss: 0.0166\n",
      "Epoch 30/30\n",
      "\u001b[1m552/552\u001b[0m \u001b[32m━━━━━━━━━━━━━━━━━━━━\u001b[0m\u001b[37m\u001b[0m \u001b[1m2s\u001b[0m 3ms/step - loss: 0.0066 - val_loss: 0.0103\n",
      "\u001b[1m69/69\u001b[0m \u001b[32m━━━━━━━━━━━━━━━━━━━━\u001b[0m\u001b[37m\u001b[0m \u001b[1m0s\u001b[0m 3ms/step\n",
      "RMSLE: 1.5016851706321768\n"
     ]
    }
   ],
   "source": [
    "n_hidden = best_params[\"n_hidden\"]\n",
    "n_neurons = best_params[\"n_neurons\"]\n",
    "learning_rate = best_params[\"learning_rate\"]\n",
    "optimizer_name = best_params[\"optimizer\"]\n",
    "activation_name = best_params[\"activation\"]\n",
    "\n",
    "\n",
    "def create_model(input_shape=12):\n",
    "    model = Sequential()\n",
    "    model.add(Input(shape=(input_shape,)))\n",
    "    model.add(Dense(n_neurons, activation=activation_name))\n",
    "    \n",
    "    for _ in range(n_hidden - 1):\n",
    "        model.add(Dense(n_neurons, activation=activation_name))\n",
    "        \n",
    "    model.add(Dense(1, activation=\"relu\")) \n",
    "    \n",
    "    # Elegir optimizador\n",
    "    if optimizer_name == \"adam\":\n",
    "        optimizer = Adam(learning_rate=learning_rate)\n",
    "    elif optimizer_name == \"sgd\":\n",
    "        optimizer = SGD(learning_rate=learning_rate)\n",
    "    else:\n",
    "        raise ValueError(f\"Optimizer {optimizer_name} no reconocido\")\n",
    "\n",
    "    model.compile(loss=\"msle\", optimizer=optimizer)\n",
    "    return model\n",
    "\n",
    "\n",
    "\n",
    "scaler = StandardScaler()\n",
    "X_train_scaled2 = scaler.fit_transform(df_train)\n",
    "\n",
    "scaler_y = StandardScaler()\n",
    "y_train_full_scaled2 = scaler_y.fit_transform(y_train_full.to_numpy().reshape(-1, 1))\n",
    "\n",
    "\n",
    "X_train_full2, X_test2, y_train_full3, y_test2 = train_test_split(\n",
    "    X_train_scaled2, y_train_full_scaled2, train_size=0.9\n",
    ")\n",
    "X_train2, X_valid2, y_train2, y_valid2 = train_test_split(\n",
    "    X_train_full2, y_train_full3, train_size=0.9\n",
    ")\n",
    "\n",
    "modelo_NN  = create_model()\n",
    "regressor = KerasRegressor(model=modelo_NN , epochs=30, batch_size=16)\n",
    "\n",
    "regressor.fit(X_train2, y_train2, validation_data=(X_valid2, y_valid2))\n",
    "y_pred_test2 = regressor.predict(X_test2)\n",
    "\n",
    "\n",
    "y_pred_test_rescaled2 = scaler_y.inverse_transform(y_pred_test2.reshape(-1, 1))\n",
    "y_test_rescaled2 = scaler_y.inverse_transform(y_test2.reshape(-1, 1))\n",
    "\n",
    "rmsle2 = np.sqrt(mean_squared_log_error(y_test_rescaled2, y_pred_test_rescaled2))\n",
    "\n",
    "print(f\"RMSLE: {rmsle2}\")"
   ]
  },
  {
   "cell_type": "code",
   "execution_count": 264,
   "metadata": {},
   "outputs": [
    {
     "data": {
      "text/html": [
       "<pre style=\"white-space:pre;overflow-x:auto;line-height:normal;font-family:Menlo,'DejaVu Sans Mono',consolas,'Courier New',monospace\"><span style=\"font-weight: bold\">Model: \"sequential_94\"</span>\n",
       "</pre>\n"
      ],
      "text/plain": [
       "\u001b[1mModel: \"sequential_94\"\u001b[0m\n"
      ]
     },
     "metadata": {},
     "output_type": "display_data"
    },
    {
     "data": {
      "text/html": [
       "<pre style=\"white-space:pre;overflow-x:auto;line-height:normal;font-family:Menlo,'DejaVu Sans Mono',consolas,'Courier New',monospace\">┏━━━━━━━━━━━━━━━━━━━━━━━━━━━━━━━━━━━━━━┳━━━━━━━━━━━━━━━━━━━━━━━━━━━━━┳━━━━━━━━━━━━━━━━━┓\n",
       "┃<span style=\"font-weight: bold\"> Layer (type)                         </span>┃<span style=\"font-weight: bold\"> Output Shape                </span>┃<span style=\"font-weight: bold\">         Param # </span>┃\n",
       "┡━━━━━━━━━━━━━━━━━━━━━━━━━━━━━━━━━━━━━━╇━━━━━━━━━━━━━━━━━━━━━━━━━━━━━╇━━━━━━━━━━━━━━━━━┩\n",
       "│ dense_526 (<span style=\"color: #0087ff; text-decoration-color: #0087ff\">Dense</span>)                    │ (<span style=\"color: #00d7ff; text-decoration-color: #00d7ff\">None</span>, <span style=\"color: #00af00; text-decoration-color: #00af00\">207</span>)                 │           <span style=\"color: #00af00; text-decoration-color: #00af00\">2,691</span> │\n",
       "├──────────────────────────────────────┼─────────────────────────────┼─────────────────┤\n",
       "│ dense_527 (<span style=\"color: #0087ff; text-decoration-color: #0087ff\">Dense</span>)                    │ (<span style=\"color: #00d7ff; text-decoration-color: #00d7ff\">None</span>, <span style=\"color: #00af00; text-decoration-color: #00af00\">207</span>)                 │          <span style=\"color: #00af00; text-decoration-color: #00af00\">43,056</span> │\n",
       "├──────────────────────────────────────┼─────────────────────────────┼─────────────────┤\n",
       "│ dense_528 (<span style=\"color: #0087ff; text-decoration-color: #0087ff\">Dense</span>)                    │ (<span style=\"color: #00d7ff; text-decoration-color: #00d7ff\">None</span>, <span style=\"color: #00af00; text-decoration-color: #00af00\">207</span>)                 │          <span style=\"color: #00af00; text-decoration-color: #00af00\">43,056</span> │\n",
       "├──────────────────────────────────────┼─────────────────────────────┼─────────────────┤\n",
       "│ dense_529 (<span style=\"color: #0087ff; text-decoration-color: #0087ff\">Dense</span>)                    │ (<span style=\"color: #00d7ff; text-decoration-color: #00d7ff\">None</span>, <span style=\"color: #00af00; text-decoration-color: #00af00\">207</span>)                 │          <span style=\"color: #00af00; text-decoration-color: #00af00\">43,056</span> │\n",
       "├──────────────────────────────────────┼─────────────────────────────┼─────────────────┤\n",
       "│ dense_530 (<span style=\"color: #0087ff; text-decoration-color: #0087ff\">Dense</span>)                    │ (<span style=\"color: #00d7ff; text-decoration-color: #00d7ff\">None</span>, <span style=\"color: #00af00; text-decoration-color: #00af00\">207</span>)                 │          <span style=\"color: #00af00; text-decoration-color: #00af00\">43,056</span> │\n",
       "├──────────────────────────────────────┼─────────────────────────────┼─────────────────┤\n",
       "│ dense_531 (<span style=\"color: #0087ff; text-decoration-color: #0087ff\">Dense</span>)                    │ (<span style=\"color: #00d7ff; text-decoration-color: #00d7ff\">None</span>, <span style=\"color: #00af00; text-decoration-color: #00af00\">1</span>)                   │             <span style=\"color: #00af00; text-decoration-color: #00af00\">208</span> │\n",
       "└──────────────────────────────────────┴─────────────────────────────┴─────────────────┘\n",
       "</pre>\n"
      ],
      "text/plain": [
       "┏━━━━━━━━━━━━━━━━━━━━━━━━━━━━━━━━━━━━━━┳━━━━━━━━━━━━━━━━━━━━━━━━━━━━━┳━━━━━━━━━━━━━━━━━┓\n",
       "┃\u001b[1m \u001b[0m\u001b[1mLayer (type)                        \u001b[0m\u001b[1m \u001b[0m┃\u001b[1m \u001b[0m\u001b[1mOutput Shape               \u001b[0m\u001b[1m \u001b[0m┃\u001b[1m \u001b[0m\u001b[1m        Param #\u001b[0m\u001b[1m \u001b[0m┃\n",
       "┡━━━━━━━━━━━━━━━━━━━━━━━━━━━━━━━━━━━━━━╇━━━━━━━━━━━━━━━━━━━━━━━━━━━━━╇━━━━━━━━━━━━━━━━━┩\n",
       "│ dense_526 (\u001b[38;5;33mDense\u001b[0m)                    │ (\u001b[38;5;45mNone\u001b[0m, \u001b[38;5;34m207\u001b[0m)                 │           \u001b[38;5;34m2,691\u001b[0m │\n",
       "├──────────────────────────────────────┼─────────────────────────────┼─────────────────┤\n",
       "│ dense_527 (\u001b[38;5;33mDense\u001b[0m)                    │ (\u001b[38;5;45mNone\u001b[0m, \u001b[38;5;34m207\u001b[0m)                 │          \u001b[38;5;34m43,056\u001b[0m │\n",
       "├──────────────────────────────────────┼─────────────────────────────┼─────────────────┤\n",
       "│ dense_528 (\u001b[38;5;33mDense\u001b[0m)                    │ (\u001b[38;5;45mNone\u001b[0m, \u001b[38;5;34m207\u001b[0m)                 │          \u001b[38;5;34m43,056\u001b[0m │\n",
       "├──────────────────────────────────────┼─────────────────────────────┼─────────────────┤\n",
       "│ dense_529 (\u001b[38;5;33mDense\u001b[0m)                    │ (\u001b[38;5;45mNone\u001b[0m, \u001b[38;5;34m207\u001b[0m)                 │          \u001b[38;5;34m43,056\u001b[0m │\n",
       "├──────────────────────────────────────┼─────────────────────────────┼─────────────────┤\n",
       "│ dense_530 (\u001b[38;5;33mDense\u001b[0m)                    │ (\u001b[38;5;45mNone\u001b[0m, \u001b[38;5;34m207\u001b[0m)                 │          \u001b[38;5;34m43,056\u001b[0m │\n",
       "├──────────────────────────────────────┼─────────────────────────────┼─────────────────┤\n",
       "│ dense_531 (\u001b[38;5;33mDense\u001b[0m)                    │ (\u001b[38;5;45mNone\u001b[0m, \u001b[38;5;34m1\u001b[0m)                   │             \u001b[38;5;34m208\u001b[0m │\n",
       "└──────────────────────────────────────┴─────────────────────────────┴─────────────────┘\n"
      ]
     },
     "metadata": {},
     "output_type": "display_data"
    },
    {
     "data": {
      "text/html": [
       "<pre style=\"white-space:pre;overflow-x:auto;line-height:normal;font-family:Menlo,'DejaVu Sans Mono',consolas,'Courier New',monospace\"><span style=\"font-weight: bold\"> Total params: </span><span style=\"color: #00af00; text-decoration-color: #00af00\">525,371</span> (2.00 MB)\n",
       "</pre>\n"
      ],
      "text/plain": [
       "\u001b[1m Total params: \u001b[0m\u001b[38;5;34m525,371\u001b[0m (2.00 MB)\n"
      ]
     },
     "metadata": {},
     "output_type": "display_data"
    },
    {
     "data": {
      "text/html": [
       "<pre style=\"white-space:pre;overflow-x:auto;line-height:normal;font-family:Menlo,'DejaVu Sans Mono',consolas,'Courier New',monospace\"><span style=\"font-weight: bold\"> Trainable params: </span><span style=\"color: #00af00; text-decoration-color: #00af00\">175,123</span> (684.07 KB)\n",
       "</pre>\n"
      ],
      "text/plain": [
       "\u001b[1m Trainable params: \u001b[0m\u001b[38;5;34m175,123\u001b[0m (684.07 KB)\n"
      ]
     },
     "metadata": {},
     "output_type": "display_data"
    },
    {
     "data": {
      "text/html": [
       "<pre style=\"white-space:pre;overflow-x:auto;line-height:normal;font-family:Menlo,'DejaVu Sans Mono',consolas,'Courier New',monospace\"><span style=\"font-weight: bold\"> Non-trainable params: </span><span style=\"color: #00af00; text-decoration-color: #00af00\">0</span> (0.00 B)\n",
       "</pre>\n"
      ],
      "text/plain": [
       "\u001b[1m Non-trainable params: \u001b[0m\u001b[38;5;34m0\u001b[0m (0.00 B)\n"
      ]
     },
     "metadata": {},
     "output_type": "display_data"
    },
    {
     "data": {
      "text/html": [
       "<pre style=\"white-space:pre;overflow-x:auto;line-height:normal;font-family:Menlo,'DejaVu Sans Mono',consolas,'Courier New',monospace\"><span style=\"font-weight: bold\"> Optimizer params: </span><span style=\"color: #00af00; text-decoration-color: #00af00\">350,248</span> (1.34 MB)\n",
       "</pre>\n"
      ],
      "text/plain": [
       "\u001b[1m Optimizer params: \u001b[0m\u001b[38;5;34m350,248\u001b[0m (1.34 MB)\n"
      ]
     },
     "metadata": {},
     "output_type": "display_data"
    }
   ],
   "source": [
    "modelo_NN.summary()"
   ]
  },
  {
   "cell_type": "code",
   "execution_count": 266,
   "metadata": {},
   "outputs": [
    {
     "name": "stderr",
     "output_type": "stream",
     "text": [
      "[I 2025-04-23 22:33:55,787] A new study created in memory with name: no-name-7f826012-d2d9-47f6-97ab-19278fe50cc3\n",
      "[I 2025-04-23 22:34:20,192] Trial 0 finished with value: 0.040204744786024094 and parameters: {'n_hidden': 3, 'n_neurons': 156, 'activation': 'tanh', 'optimizer': 'adam', 'learning_rate': 0.00699831474307077}. Best is trial 0 with value: 0.040204744786024094.\n",
      "[I 2025-04-23 22:34:38,556] Trial 1 finished with value: 0.015043715015053749 and parameters: {'n_hidden': 4, 'n_neurons': 68, 'activation': 'tanh', 'optimizer': 'adam', 'learning_rate': 0.0018638194349442701}. Best is trial 1 with value: 0.015043715015053749.\n",
      "[I 2025-04-23 22:34:56,603] Trial 2 finished with value: 0.13764896988868713 and parameters: {'n_hidden': 5, 'n_neurons': 68, 'activation': 'relu', 'optimizer': 'sgd', 'learning_rate': 0.00019101968469259557}. Best is trial 1 with value: 0.015043715015053749.\n",
      "[I 2025-04-23 22:35:12,441] Trial 3 finished with value: 0.12754200398921967 and parameters: {'n_hidden': 3, 'n_neurons': 85, 'activation': 'relu', 'optimizer': 'sgd', 'learning_rate': 0.0001611442095281639}. Best is trial 1 with value: 0.015043715015053749.\n",
      "[I 2025-04-23 22:35:28,300] Trial 4 finished with value: 0.0951659232378006 and parameters: {'n_hidden': 4, 'n_neurons': 60, 'activation': 'relu', 'optimizer': 'sgd', 'learning_rate': 0.004362470145176284}. Best is trial 1 with value: 0.015043715015053749.\n",
      "[I 2025-04-23 22:35:45,141] Trial 5 finished with value: 0.11381484568119049 and parameters: {'n_hidden': 3, 'n_neurons': 79, 'activation': 'tanh', 'optimizer': 'sgd', 'learning_rate': 0.0012159155674905458}. Best is trial 1 with value: 0.015043715015053749.\n",
      "[I 2025-04-23 22:36:02,859] Trial 6 finished with value: 0.12406419962644577 and parameters: {'n_hidden': 4, 'n_neurons': 111, 'activation': 'relu', 'optimizer': 'sgd', 'learning_rate': 0.00019818516760657898}. Best is trial 1 with value: 0.015043715015053749.\n",
      "[I 2025-04-23 22:36:16,946] Trial 7 finished with value: 0.11486981809139252 and parameters: {'n_hidden': 1, 'n_neurons': 35, 'activation': 'relu', 'optimizer': 'sgd', 'learning_rate': 0.0011579463330877273}. Best is trial 1 with value: 0.015043715015053749.\n",
      "[I 2025-04-23 22:36:36,667] Trial 8 finished with value: 0.01599930040538311 and parameters: {'n_hidden': 3, 'n_neurons': 164, 'activation': 'relu', 'optimizer': 'adam', 'learning_rate': 0.00037583936297977264}. Best is trial 1 with value: 0.015043715015053749.\n",
      "[I 2025-04-23 22:36:52,894] Trial 9 finished with value: 0.11091204732656479 and parameters: {'n_hidden': 5, 'n_neurons': 36, 'activation': 'tanh', 'optimizer': 'sgd', 'learning_rate': 0.000278850340120378}. Best is trial 1 with value: 0.015043715015053749.\n",
      "[I 2025-04-23 22:37:08,922] Trial 10 finished with value: 0.05501248314976692 and parameters: {'n_hidden': 1, 'n_neurons': 238, 'activation': 'tanh', 'optimizer': 'adam', 'learning_rate': 0.0027417903786030678}. Best is trial 1 with value: 0.015043715015053749.\n",
      "[I 2025-04-23 22:37:27,098] Trial 11 finished with value: 0.04760013520717621 and parameters: {'n_hidden': 2, 'n_neurons': 163, 'activation': 'tanh', 'optimizer': 'adam', 'learning_rate': 0.0004833326436429259}. Best is trial 1 with value: 0.015043715015053749.\n",
      "[I 2025-04-23 22:37:49,810] Trial 12 finished with value: 0.013457093387842178 and parameters: {'n_hidden': 4, 'n_neurons': 200, 'activation': 'tanh', 'optimizer': 'adam', 'learning_rate': 0.0005676885136151042}. Best is trial 12 with value: 0.013457093387842178.\n",
      "[I 2025-04-23 22:38:14,884] Trial 13 finished with value: 0.0209646113216877 and parameters: {'n_hidden': 4, 'n_neurons': 219, 'activation': 'tanh', 'optimizer': 'adam', 'learning_rate': 0.0018006845244596446}. Best is trial 12 with value: 0.013457093387842178.\n",
      "[I 2025-04-23 22:38:40,501] Trial 14 finished with value: 0.014973337762057781 and parameters: {'n_hidden': 4, 'n_neurons': 205, 'activation': 'tanh', 'optimizer': 'adam', 'learning_rate': 0.0006730148113582915}. Best is trial 12 with value: 0.013457093387842178.\n",
      "[I 2025-04-23 22:39:07,445] Trial 15 finished with value: 0.017504118382930756 and parameters: {'n_hidden': 5, 'n_neurons': 198, 'activation': 'tanh', 'optimizer': 'adam', 'learning_rate': 0.0006662884007414535}. Best is trial 12 with value: 0.013457093387842178.\n",
      "[I 2025-04-23 22:39:27,349] Trial 16 finished with value: 0.021950846537947655 and parameters: {'n_hidden': 2, 'n_neurons': 256, 'activation': 'tanh', 'optimizer': 'adam', 'learning_rate': 0.0007455925814075079}. Best is trial 12 with value: 0.013457093387842178.\n",
      "[I 2025-04-23 22:39:51,474] Trial 17 finished with value: 0.04409417510032654 and parameters: {'n_hidden': 4, 'n_neurons': 194, 'activation': 'tanh', 'optimizer': 'adam', 'learning_rate': 0.00010528399162282368}. Best is trial 12 with value: 0.013457093387842178.\n",
      "[I 2025-04-23 22:40:08,698] Trial 18 finished with value: 0.04117274656891823 and parameters: {'n_hidden': 2, 'n_neurons': 122, 'activation': 'tanh', 'optimizer': 'adam', 'learning_rate': 0.0005261314598820589}. Best is trial 12 with value: 0.013457093387842178.\n",
      "[I 2025-04-23 22:40:34,198] Trial 19 finished with value: 0.012751120142638683 and parameters: {'n_hidden': 5, 'n_neurons': 185, 'activation': 'tanh', 'optimizer': 'adam', 'learning_rate': 0.0003527832735516042}. Best is trial 19 with value: 0.012751120142638683.\n",
      "[I 2025-04-23 22:41:00,516] Trial 20 finished with value: 0.03457506000995636 and parameters: {'n_hidden': 5, 'n_neurons': 181, 'activation': 'tanh', 'optimizer': 'adam', 'learning_rate': 0.00010168907191328233}. Best is trial 19 with value: 0.012751120142638683.\n",
      "[I 2025-04-23 22:41:28,680] Trial 21 finished with value: 0.0159009862691164 and parameters: {'n_hidden': 5, 'n_neurons': 218, 'activation': 'tanh', 'optimizer': 'adam', 'learning_rate': 0.0003242230544348888}. Best is trial 19 with value: 0.012751120142638683.\n",
      "[I 2025-04-23 22:41:53,922] Trial 22 finished with value: 0.015086166560649872 and parameters: {'n_hidden': 4, 'n_neurons': 211, 'activation': 'tanh', 'optimizer': 'adam', 'learning_rate': 0.0008551016125709478}. Best is trial 19 with value: 0.012751120142638683.\n",
      "[I 2025-04-23 22:42:21,222] Trial 23 finished with value: 0.017561083659529686 and parameters: {'n_hidden': 5, 'n_neurons': 182, 'activation': 'tanh', 'optimizer': 'adam', 'learning_rate': 0.00045147944327634246}. Best is trial 19 with value: 0.012751120142638683.\n",
      "[I 2025-04-23 22:42:43,242] Trial 24 finished with value: 0.018069451674818993 and parameters: {'n_hidden': 4, 'n_neurons': 138, 'activation': 'tanh', 'optimizer': 'adam', 'learning_rate': 0.0002540600635857703}. Best is trial 19 with value: 0.012751120142638683.\n",
      "[I 2025-04-23 22:43:09,521] Trial 25 finished with value: 0.02044997736811638 and parameters: {'n_hidden': 5, 'n_neurons': 232, 'activation': 'tanh', 'optimizer': 'adam', 'learning_rate': 0.0006307215343435589}. Best is trial 19 with value: 0.012751120142638683.\n",
      "[I 2025-04-23 22:43:32,028] Trial 26 finished with value: 0.01729118824005127 and parameters: {'n_hidden': 4, 'n_neurons': 178, 'activation': 'tanh', 'optimizer': 'adam', 'learning_rate': 0.0016026993695908215}. Best is trial 19 with value: 0.012751120142638683.\n",
      "[I 2025-04-23 22:43:54,590] Trial 27 finished with value: 0.013772783800959587 and parameters: {'n_hidden': 3, 'n_neurons': 197, 'activation': 'tanh', 'optimizer': 'adam', 'learning_rate': 0.001027954509157272}. Best is trial 19 with value: 0.012751120142638683.\n",
      "[I 2025-04-23 22:44:15,821] Trial 28 finished with value: 0.012495175935328007 and parameters: {'n_hidden': 3, 'n_neurons': 145, 'activation': 'tanh', 'optimizer': 'adam', 'learning_rate': 0.0010380761191225833}. Best is trial 28 with value: 0.012495175935328007.\n"
     ]
    },
    {
     "data": {
      "image/png": "[encoded data removed]",
      "text/plain": [
       "<Figure size 1000x600 with 1 Axes>"
      ]
     },
     "metadata": {},
     "output_type": "display_data"
    },
    {
     "name": "stdout",
     "output_type": "stream",
     "text": [
      "Top 5 trials:\n",
      "Trial 0:\n",
      "  MSLE: 0.040204744786024094\n",
      "  Hiperparámetros: {'n_hidden': 3, 'n_neurons': 156, 'activation': 'tanh', 'optimizer': 'adam', 'learning_rate': 0.00699831474307077}\n",
      "------------------------------\n",
      "Trial 1:\n",
      "  MSLE: 0.015043715015053749\n",
      "  Hiperparámetros: {'n_hidden': 4, 'n_neurons': 68, 'activation': 'tanh', 'optimizer': 'adam', 'learning_rate': 0.0018638194349442701}\n",
      "------------------------------\n",
      "Trial 2:\n",
      "  MSLE: 0.13764896988868713\n",
      "  Hiperparámetros: {'n_hidden': 5, 'n_neurons': 68, 'activation': 'relu', 'optimizer': 'sgd', 'learning_rate': 0.00019101968469259557}\n",
      "------------------------------\n",
      "Trial 3:\n",
      "  MSLE: 0.12754200398921967\n",
      "  Hiperparámetros: {'n_hidden': 3, 'n_neurons': 85, 'activation': 'relu', 'optimizer': 'sgd', 'learning_rate': 0.0001611442095281639}\n",
      "------------------------------\n",
      "Trial 4:\n",
      "  MSLE: 0.0951659232378006\n",
      "  Hiperparámetros: {'n_hidden': 4, 'n_neurons': 60, 'activation': 'relu', 'optimizer': 'sgd', 'learning_rate': 0.004362470145176284}\n",
      "------------------------------\n"
     ]
    }
   ],
   "source": [
    "import optuna\n",
    "from keras.models import Sequential\n",
    "from keras.layers import Dense, Input, Flatten\n",
    "from keras.optimizers import Adam, SGD\n",
    "from keras.backend import clear_session\n",
    "\n",
    "scaler = StandardScaler()\n",
    "X_train_scaled = scaler.fit_transform(df_train_sin)\n",
    "\n",
    "scaler_y = StandardScaler()\n",
    "y_train_full_scaled = scaler_y.fit_transform(y_train_full.to_numpy().reshape(-1, 1))\n",
    "\n",
    "\n",
    "X_train_full, X_test, y_train_full2, y_test = train_test_split(\n",
    "    X_train_scaled, y_train_full_scaled, train_size=0.9\n",
    ")\n",
    "X_train, X_valid, y_train, y_valid = train_test_split(\n",
    "    X_train_full, y_train_full2, train_size=0.9\n",
    ")\n",
    "\n",
    "EPOCHS = 20\n",
    "BATCHSIZE = 32\n",
    "\n",
    "def objective(trial):\n",
    "    clear_session()\n",
    "\n",
    "    \n",
    "    n_hidden = trial.suggest_int(\"n_hidden\", 1, 5)\n",
    "    n_neurons = trial.suggest_int(\"n_neurons\", 32, 256)\n",
    "    activation = trial.suggest_categorical(\"activation\", [\"relu\", \"tanh\"])\n",
    "    optimizer_name = trial.suggest_categorical(\"optimizer\", [\"adam\", \"sgd\"])\n",
    "    learning_rate = trial.suggest_float(\"learning_rate\", 1e-4, 1e-2, log=True)\n",
    "\n",
    "    if optimizer_name == \"adam\":\n",
    "        optimizer = Adam(learning_rate=learning_rate)\n",
    "    else:\n",
    "        optimizer = SGD(learning_rate=learning_rate)\n",
    "\n",
    "    # Construcción del modelo\n",
    "    model = Sequential()\n",
    "    model.add(Input(shape=X_train.shape[1:]))\n",
    "    for _ in range(n_hidden):\n",
    "        model.add(Dense(n_neurons, activation=activation))\n",
    "    model.add(Dense(1))  # Salida para regresión\n",
    "\n",
    "    model.compile(loss=\"msle\", optimizer=optimizer, metrics=[\"msle\"])\n",
    "\n",
    "    model.fit(\n",
    "        X_train,\n",
    "        y_train,\n",
    "        validation_data=(X_valid, y_valid),\n",
    "        shuffle=True,\n",
    "        batch_size=BATCHSIZE,\n",
    "        epochs=EPOCHS,\n",
    "        verbose=0,\n",
    "    )\n",
    "\n",
    "    # Evaluamos en validación\n",
    "    loss, msle = model.evaluate(X_valid, y_valid, verbose=0)\n",
    "    return msle  \n",
    "\n",
    "# Ejecución del estudio\n",
    "study = optuna.create_study(direction=\"minimize\")\n",
    "study.optimize(objective, n_trials=90, timeout=600)  # podés ajustar esto\n",
    "\n",
    "# Resultados\n",
    "msle_values = [trial.value for trial in study.trials]\n",
    "\n",
    "# Crear un gráfico\n",
    "plt.figure(figsize=(10, 6))\n",
    "plt.plot(msle_values, marker=\"o\")\n",
    "plt.title(\"Evolución del MSLE a lo largo de los trials\")\n",
    "plt.xlabel(\"Número de trial\")\n",
    "plt.ylabel(\"MSLE\")\n",
    "plt.show()\n",
    "\n",
    "# Mostrar las 5 mejores pruebas\n",
    "print(\"Top 5 trials:\")\n",
    "for trial in study.trials[:5]:\n",
    "    print(f\"Trial {trial.number}:\")\n",
    "    print(f\"  MSLE: {trial.value}\")\n",
    "    print(f\"  Hiperparámetros: {trial.params}\")\n",
    "    print(\"-\" * 30)\n"
   ]
  },
  {
   "cell_type": "code",
   "execution_count": 267,
   "metadata": {},
   "outputs": [
    {
     "name": "stdout",
     "output_type": "stream",
     "text": [
      "Número de trials: 29\n",
      "Mejor trial:\n",
      "  MAE: 0.012495175935328007\n",
      "  Hiperparámetros:\n",
      "    n_hidden: 3\n",
      "    n_neurons: 145\n",
      "    activation: tanh\n",
      "    optimizer: adam\n",
      "    learning_rate: 0.0010380761191225833\n"
     ]
    }
   ],
   "source": [
    "print(\"Número de trials:\", len(study.trials))\n",
    "print(\"Mejor trial:\")\n",
    "print(\"  MAE:\", study.best_trial.value)\n",
    "print(\"  Hiperparámetros:\")\n",
    "for key, value in study.best_trial.params.items():\n",
    "    print(f\"    {key}: {value}\")"
   ]
  },
  {
   "cell_type": "code",
   "execution_count": 269,
   "metadata": {},
   "outputs": [
    {
     "name": "stdout",
     "output_type": "stream",
     "text": [
      "Epoch 1/30\n",
      "\u001b[1m552/552\u001b[0m \u001b[32m━━━━━━━━━━━━━━━━━━━━\u001b[0m\u001b[37m\u001b[0m \u001b[1m3s\u001b[0m 3ms/step - loss: 0.1284 - val_loss: 0.0838\n",
      "Epoch 2/30\n",
      "\u001b[1m552/552\u001b[0m \u001b[32m━━━━━━━━━━━━━━━━━━━━\u001b[0m\u001b[37m\u001b[0m \u001b[1m1s\u001b[0m 2ms/step - loss: 0.0736 - val_loss: 0.0685\n",
      "Epoch 3/30\n",
      "\u001b[1m552/552\u001b[0m \u001b[32m━━━━━━━━━━━━━━━━━━━━\u001b[0m\u001b[37m\u001b[0m \u001b[1m1s\u001b[0m 2ms/step - loss: 0.0530 - val_loss: 0.0612\n",
      "Epoch 4/30\n",
      "\u001b[1m552/552\u001b[0m \u001b[32m━━━━━━━━━━━━━━━━━━━━\u001b[0m\u001b[37m\u001b[0m \u001b[1m2s\u001b[0m 3ms/step - loss: 0.0443 - val_loss: 0.0409\n",
      "Epoch 5/30\n",
      "\u001b[1m552/552\u001b[0m \u001b[32m━━━━━━━━━━━━━━━━━━━━\u001b[0m\u001b[37m\u001b[0m \u001b[1m1s\u001b[0m 2ms/step - loss: 0.0326 - val_loss: 0.0263\n",
      "Epoch 6/30\n",
      "\u001b[1m552/552\u001b[0m \u001b[32m━━━━━━━━━━━━━━━━━━━━\u001b[0m\u001b[37m\u001b[0m \u001b[1m1s\u001b[0m 2ms/step - loss: 0.0241 - val_loss: 0.0259\n",
      "Epoch 7/30\n",
      "\u001b[1m552/552\u001b[0m \u001b[32m━━━━━━━━━━━━━━━━━━━━\u001b[0m\u001b[37m\u001b[0m \u001b[1m3s\u001b[0m 2ms/step - loss: 0.0217 - val_loss: 0.0211\n",
      "Epoch 8/30\n",
      "\u001b[1m552/552\u001b[0m \u001b[32m━━━━━━━━━━━━━━━━━━━━\u001b[0m\u001b[37m\u001b[0m \u001b[1m3s\u001b[0m 2ms/step - loss: 0.0192 - val_loss: 0.0199\n",
      "Epoch 9/30\n",
      "\u001b[1m552/552\u001b[0m \u001b[32m━━━━━━━━━━━━━━━━━━━━\u001b[0m\u001b[37m\u001b[0m \u001b[1m1s\u001b[0m 2ms/step - loss: 0.0189 - val_loss: 0.0198\n",
      "Epoch 10/30\n",
      "\u001b[1m552/552\u001b[0m \u001b[32m━━━━━━━━━━━━━━━━━━━━\u001b[0m\u001b[37m\u001b[0m \u001b[1m1s\u001b[0m 2ms/step - loss: 0.0176 - val_loss: 0.0190\n",
      "Epoch 11/30\n",
      "\u001b[1m552/552\u001b[0m \u001b[32m━━━━━━━━━━━━━━━━━━━━\u001b[0m\u001b[37m\u001b[0m \u001b[1m1s\u001b[0m 2ms/step - loss: 0.0165 - val_loss: 0.0201\n",
      "Epoch 12/30\n",
      "\u001b[1m552/552\u001b[0m \u001b[32m━━━━━━━━━━━━━━━━━━━━\u001b[0m\u001b[37m\u001b[0m \u001b[1m1s\u001b[0m 2ms/step - loss: 0.0160 - val_loss: 0.0199\n",
      "Epoch 13/30\n",
      "\u001b[1m552/552\u001b[0m \u001b[32m━━━━━━━━━━━━━━━━━━━━\u001b[0m\u001b[37m\u001b[0m \u001b[1m1s\u001b[0m 2ms/step - loss: 0.0155 - val_loss: 0.0187\n",
      "Epoch 14/30\n",
      "\u001b[1m552/552\u001b[0m \u001b[32m━━━━━━━━━━━━━━━━━━━━\u001b[0m\u001b[37m\u001b[0m \u001b[1m2s\u001b[0m 3ms/step - loss: 0.0146 - val_loss: 0.0218\n",
      "Epoch 15/30\n",
      "\u001b[1m552/552\u001b[0m \u001b[32m━━━━━━━━━━━━━━━━━━━━\u001b[0m\u001b[37m\u001b[0m \u001b[1m1s\u001b[0m 3ms/step - loss: 0.0154 - val_loss: 0.0210\n",
      "Epoch 16/30\n",
      "\u001b[1m552/552\u001b[0m \u001b[32m━━━━━━━━━━━━━━━━━━━━\u001b[0m\u001b[37m\u001b[0m \u001b[1m2s\u001b[0m 3ms/step - loss: 0.0145 - val_loss: 0.0197\n",
      "Epoch 17/30\n",
      "\u001b[1m552/552\u001b[0m \u001b[32m━━━━━━━━━━━━━━━━━━━━\u001b[0m\u001b[37m\u001b[0m \u001b[1m1s\u001b[0m 3ms/step - loss: 0.0136 - val_loss: 0.0208\n",
      "Epoch 18/30\n",
      "\u001b[1m552/552\u001b[0m \u001b[32m━━━━━━━━━━━━━━━━━━━━\u001b[0m\u001b[37m\u001b[0m \u001b[1m3s\u001b[0m 3ms/step - loss: 0.0129 - val_loss: 0.0225\n",
      "Epoch 19/30\n",
      "\u001b[1m552/552\u001b[0m \u001b[32m━━━━━━━━━━━━━━━━━━━━\u001b[0m\u001b[37m\u001b[0m \u001b[1m2s\u001b[0m 3ms/step - loss: 0.0123 - val_loss: 0.0200\n",
      "Epoch 20/30\n",
      "\u001b[1m552/552\u001b[0m \u001b[32m━━━━━━━━━━━━━━━━━━━━\u001b[0m\u001b[37m\u001b[0m \u001b[1m1s\u001b[0m 3ms/step - loss: 0.0130 - val_loss: 0.0173\n",
      "Epoch 21/30\n",
      "\u001b[1m552/552\u001b[0m \u001b[32m━━━━━━━━━━━━━━━━━━━━\u001b[0m\u001b[37m\u001b[0m \u001b[1m1s\u001b[0m 3ms/step - loss: 0.0123 - val_loss: 0.0212\n",
      "Epoch 22/30\n",
      "\u001b[1m552/552\u001b[0m \u001b[32m━━━━━━━━━━━━━━━━━━━━\u001b[0m\u001b[37m\u001b[0m \u001b[1m1s\u001b[0m 2ms/step - loss: 0.0123 - val_loss: 0.0212\n",
      "Epoch 23/30\n",
      "\u001b[1m552/552\u001b[0m \u001b[32m━━━━━━━━━━━━━━━━━━━━\u001b[0m\u001b[37m\u001b[0m \u001b[1m1s\u001b[0m 2ms/step - loss: 0.0115 - val_loss: 0.0224\n",
      "Epoch 24/30\n",
      "\u001b[1m552/552\u001b[0m \u001b[32m━━━━━━━━━━━━━━━━━━━━\u001b[0m\u001b[37m\u001b[0m \u001b[1m1s\u001b[0m 2ms/step - loss: 0.0108 - val_loss: 0.0188\n",
      "Epoch 25/30\n",
      "\u001b[1m552/552\u001b[0m \u001b[32m━━━━━━━━━━━━━━━━━━━━\u001b[0m\u001b[37m\u001b[0m \u001b[1m1s\u001b[0m 3ms/step - loss: 0.0107 - val_loss: 0.0206\n",
      "Epoch 26/30\n",
      "\u001b[1m552/552\u001b[0m \u001b[32m━━━━━━━━━━━━━━━━━━━━\u001b[0m\u001b[37m\u001b[0m \u001b[1m1s\u001b[0m 2ms/step - loss: 0.0108 - val_loss: 0.0191\n",
      "Epoch 27/30\n",
      "\u001b[1m552/552\u001b[0m \u001b[32m━━━━━━━━━━━━━━━━━━━━\u001b[0m\u001b[37m\u001b[0m \u001b[1m3s\u001b[0m 3ms/step - loss: 0.0110 - val_loss: 0.0204\n",
      "Epoch 28/30\n",
      "\u001b[1m552/552\u001b[0m \u001b[32m━━━━━━━━━━━━━━━━━━━━\u001b[0m\u001b[37m\u001b[0m \u001b[1m1s\u001b[0m 2ms/step - loss: 0.0108 - val_loss: 0.0233\n",
      "Epoch 29/30\n",
      "\u001b[1m552/552\u001b[0m \u001b[32m━━━━━━━━━━━━━━━━━━━━\u001b[0m\u001b[37m\u001b[0m \u001b[1m1s\u001b[0m 2ms/step - loss: 0.0104 - val_loss: 0.0216\n",
      "Epoch 30/30\n",
      "\u001b[1m552/552\u001b[0m \u001b[32m━━━━━━━━━━━━━━━━━━━━\u001b[0m\u001b[37m\u001b[0m \u001b[1m1s\u001b[0m 2ms/step - loss: 0.0100 - val_loss: 0.0169\n",
      "\u001b[1m69/69\u001b[0m \u001b[32m━━━━━━━━━━━━━━━━━━━━\u001b[0m\u001b[37m\u001b[0m \u001b[1m0s\u001b[0m 2ms/step\n",
      "RMSLE: 1.4554771938794675\n"
     ]
    }
   ],
   "source": [
    "n_hidden = 3\n",
    "n_neurons = 145\n",
    "learning_rate = 0.0010380761191225833\n",
    "optimizer_name = 'adam'\n",
    "activation_name = 'tanh'\n",
    "\n",
    "\n",
    "def create_model(input_shape=12):\n",
    "    model = Sequential()\n",
    "    model.add(Input(shape=(input_shape,)))\n",
    "    model.add(Dense(n_neurons, activation=activation_name))\n",
    "    \n",
    "    for _ in range(n_hidden - 1):\n",
    "        model.add(Dense(n_neurons, activation=activation_name))\n",
    "        \n",
    "    model.add(Dense(1, activation=\"relu\")) \n",
    "    \n",
    "    # Elegir optimizador\n",
    "    if optimizer_name == \"adam\":\n",
    "        optimizer = Adam(learning_rate=learning_rate)\n",
    "    elif optimizer_name == \"sgd\":\n",
    "        optimizer = SGD(learning_rate=learning_rate)\n",
    "    else:\n",
    "        raise ValueError(f\"Optimizer {optimizer_name} no reconocido\")\n",
    "\n",
    "    model.compile(loss=\"msle\", optimizer=optimizer)\n",
    "    return model\n",
    "\n",
    "\n",
    "\n",
    "scaler = StandardScaler()\n",
    "X_train_scaled2 = scaler.fit_transform(df_train)\n",
    "\n",
    "scaler_y = StandardScaler()\n",
    "y_train_full_scaled2 = scaler_y.fit_transform(y_train_full.to_numpy().reshape(-1, 1))\n",
    "\n",
    "\n",
    "X_train_full2, X_test2, y_train_full3, y_test2 = train_test_split(\n",
    "    X_train_scaled2, y_train_full_scaled2, train_size=0.9\n",
    ")\n",
    "X_train2, X_valid2, y_train2, y_valid2 = train_test_split(\n",
    "    X_train_full2, y_train_full3, train_size=0.9\n",
    ")\n",
    "\n",
    "modelo_NN  = create_model()\n",
    "regressor = KerasRegressor(model=modelo_NN , epochs=30, batch_size=16)\n",
    "\n",
    "regressor.fit(X_train2, y_train2, validation_data=(X_valid2, y_valid2))\n",
    "y_pred_test2 = regressor.predict(X_test2)\n",
    "\n",
    "\n",
    "y_pred_test_rescaled2 = scaler_y.inverse_transform(y_pred_test2.reshape(-1, 1))\n",
    "y_test_rescaled2 = scaler_y.inverse_transform(y_test2.reshape(-1, 1))\n",
    "\n",
    "rmsle2 = np.sqrt(mean_squared_log_error(y_test_rescaled2, y_pred_test_rescaled2))\n",
    "\n",
    "print(f\"RMSLE: {rmsle2}\")"
   ]
  },
  {
   "cell_type": "code",
   "execution_count": null,
   "metadata": {},
   "outputs": [],
   "source": []
  }
 ],
 "metadata": {
  "colab": {
   "collapsed_sections": [],
   "name": "Taller5_demanda_de_bicicletas_con_NNs_solucion.ipynb",
   "provenance": [],
   "toc_visible": true
  },
  "kernelspec": {
   "display_name": "Python 3 (ipykernel)",
   "language": "python",
   "name": "python3"
  },
  "language_info": {
   "codemirror_mode": {
    "name": "ipython",
    "version": 3
   },
   "file_extension": ".py",
   "mimetype": "text/x-python",
   "name": "python",
   "nbconvert_exporter": "python",
   "pygments_lexer": "ipython3",
   "version": "3.11.11"
  },
  "varInspector": {
   "cols": {
    "lenName": 16,
    "lenType": 16,
    "lenVar": 40
   },
   "kernels_config": {
    "python": {
     "delete_cmd_postfix": "",
     "delete_cmd_prefix": "del ",
     "library": "var_list.py",
     "varRefreshCmd": "print(var_dic_list())"
    },
    "r": {
     "delete_cmd_postfix": ") ",
     "delete_cmd_prefix": "rm(",
     "library": "var_list.r",
     "varRefreshCmd": "cat(var_dic_list()) "
    }
   },
   "types_to_exclude": [
    "module",
    "function",
    "builtin_function_or_method",
    "instance",
    "_Feature"
   ],
   "window_display": false
  },
  "vscode": {
   "interpreter": {
    "hash": "cf9ed6eb9f80a715f753bb5491e7f879990bf814a1e5372a2cadce9b619c9f4f"
   }
  }
 },
 "nbformat": 4,
 "nbformat_minor": 4
}
