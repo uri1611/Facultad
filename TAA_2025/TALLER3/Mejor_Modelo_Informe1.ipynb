{
 "cells": [
  {
   "cell_type": "code",
   "execution_count": 5,
   "id": "d565db27-25ca-4bec-adc1-823f5808c062",
   "metadata": {},
   "outputs": [
    {
     "data": {
      "text/plain": [
       "['season',\n",
       " 'holiday',\n",
       " 'workingday',\n",
       " 'weather',\n",
       " 'temp',\n",
       " 'atemp',\n",
       " 'windspeed',\n",
       " 'hour']"
      ]
     },
     "execution_count": 5,
     "metadata": {},
     "output_type": "execute_result"
    }
   ],
   "source": [
    "#import comet_ml in the top of your file\n",
    "from comet_ml import Experiment\n",
    "import matplotlib.pyplot as plt\n",
    "import numpy as np\n",
    "import pandas as pd\n",
    "import matplotlib as mpl\n",
    "import matplotlib.pyplot as plt\n",
    "from sklearn.pipeline import Pipeline\n",
    "from sklearn.ensemble import RandomForestRegressor, VotingRegressor\n",
    "from sklearn.preprocessing import StandardScaler\n",
    "from sklearn.model_selection import cross_val_score\n",
    "from sklearn.model_selection import GridSearchCV\n",
    "import seaborn as sns\n",
    "\n",
    "\n",
    "df_train = pd.read_csv('train.csv')\n",
    "df_test = pd.read_csv('test.csv')\n",
    "df_submission = pd.read_csv('sampleSubmission.csv')\n",
    "df_train['datetime'] = pd.to_datetime(df_train['datetime'])\n",
    "df_train['hour'] = df_train['datetime'].dt.hour\n",
    "df_train['weekday'] = df_train['datetime'].dt.weekday\n",
    "columnas_a_eliminar = ['weekday','datetime','humidity']\n",
    "df_train = df_train.drop(columns=columnas_a_eliminar)\n",
    "\n",
    "y_train = df_train['count']\n",
    "\n",
    "X_train = df_train.drop(columns=['count','casual','registered'])\n",
    "X_train.columns.tolist()\n"
   ]
  },
  {
   "cell_type": "code",
   "execution_count": 8,
   "id": "0af9162d-b373-4ad7-a05b-eed7d4323b90",
   "metadata": {},
   "outputs": [],
   "source": [
    "from sklearn.metrics import mean_squared_log_error, make_scorer\n",
    "def rmsle(y_true, y_pred):\n",
    "    return np.sqrt(mean_squared_log_error(y_true, np.maximum(0, y_pred)))\n",
    "\n",
    "rmsle_scorer = make_scorer(rmsle, greater_is_better=False)"
   ]
  },
  {
   "cell_type": "code",
   "execution_count": 9,
   "id": "9b489fcf-ac08-49c3-80d8-3052fb5562b7",
   "metadata": {},
   "outputs": [],
   "source": [
    "from xgboost import XGBRegressor\n",
    "param_grid = {\n",
    "    \"n_estimators\": [50, 100, 200, 300],  \n",
    "    \"learning_rate\": [0.01, 0.05, 0.1, 0.2]  \n",
    "}\n",
    "\n",
    "xgb_model = XGBRegressor(objective=\"reg:squarederror\", random_state=2)\n",
    "\n",
    "\n",
    "grid_search = GridSearchCV(\n",
    "    estimator=xgb_model,\n",
    "    param_grid=param_grid,\n",
    "    scoring=rmsle_scorer,\n",
    "    cv=5,\n",
    "    n_jobs=-1\n",
    ")\n",
    "\n",
    "grid_search.fit(X_train, y_train)\n",
    "\n",
    "\n",
    "best_model4 = grid_search.best_estimator_\n",
    "best_params = grid_search.best_params_\n",
    "best_rmsle = grid_search.best_score_  "
   ]
  },
  {
   "cell_type": "code",
   "execution_count": null,
   "id": "6a50034d-310e-4548-88f5-6e40426ee74f",
   "metadata": {},
   "outputs": [],
   "source": [
    "diccionario = {\n",
    "    'max_depth': [5,8,10,12,15,20],\n",
    "    'n_estimators' : [10,50,100,150,200,250,300]\n",
    "    }\n",
    "\n",
    "grid_search = GridSearchCV(estimator=RandomForestRegressor(random_state=2), param_grid=diccionario, cv=10)\n",
    "\n",
    "grid_search.fit(X_train, y_train)\n",
    "\n",
    "best_model = grid_search.best_estimator_\n",
    "best_depth = grid_search.best_params_['max_depth']\n",
    "best_n = grid_search.best_params_['n_estimators']"
   ]
  },
  {
   "cell_type": "code",
   "execution_count": null,
   "id": "b200c4fb-5745-4533-b4b4-361855871e96",
   "metadata": {},
   "outputs": [],
   "source": [
    "diccionario2 = {\n",
    "    'min_samples_split': [2, 5, 10, 15, 20],\n",
    "    'min_samples_leaf': [1, 2, 4, 6, 10, 15, 30]\n",
    "    }\n",
    "\n",
    "\n",
    "best_rf = RandomForestRegressor(max_depth=best_depth, n_estimators=best_n,n_jobs=-1,random_state=2)\n",
    "\n",
    "grid_search2 = GridSearchCV(estimator=best_rf, param_grid=diccionario2, cv=10)\n",
    "\n",
    "grid_search2.fit(X_train, y_train)\n",
    "\n",
    "best_model2 = grid_search2.best_estimator_\n",
    "best_leaf = grid_search2.best_params_['min_samples_leaf']\n",
    "best_sample = grid_search2.best_params_['min_samples_split']"
   ]
  },
  {
   "cell_type": "code",
   "execution_count": null,
   "id": "65857dc1-4fcb-4b59-af47-fb67daba9585",
   "metadata": {},
   "outputs": [],
   "source": [
    "best_params2 = grid_search2.best_params_"
   ]
  },
  {
   "cell_type": "code",
   "execution_count": null,
   "id": "efc319e9-c8c2-43c5-9780-ca2cb55d6c55",
   "metadata": {},
   "outputs": [],
   "source": [
    "y_casual = df_train['casual']\n",
    "y_registered = df_train['registered']\n",
    "X_casual = df_train.drop(columns=['count','casual','registered','temp'])\n",
    "X_registered = df_train.drop(columns=['count','casual','registered','temp'])"
   ]
  },
  {
   "cell_type": "code",
   "execution_count": null,
   "id": "197dceec-b4fb-412d-9239-21876e6464f8",
   "metadata": {},
   "outputs": [],
   "source": [
    "rf_model = RandomForestRegressor(**best_params2)\n",
    "xgb_model = XGBRegressor(**best_xgb_params)\n",
    "\n",
    "voting_model = VotingRegressor(estimators=[\n",
    "    (\"random_forest\", rf_model),\n",
    "    (\"xgboost\", xgb_model)\n",
    "])\n",
    "\n",
    "\n",
    "pipeline = Pipeline([\n",
    "    (\"scaler\", StandardScaler()),  \n",
    "    (\"ensemble\", voting_model)\n",
    "])"
   ]
  },
  {
   "cell_type": "code",
   "execution_count": null,
   "id": "255634f3-596f-42ea-b646-f0d7a7f8e84d",
   "metadata": {},
   "outputs": [],
   "source": [
    "score_casual = cross_validate(pipeline,X_casual,y_casual,cv=5,scoring=rmsle_scorer)\n",
    "score_registered = cross_validate(pipeline,X_registered,y_registered,cv=5,scoring=rmsle_scorer)"
   ]
  },
  {
   "cell_type": "code",
   "execution_count": null,
   "id": "e7a8a20f-be25-4133-b7e0-d2dd42fcb11d",
   "metadata": {},
   "outputs": [],
   "source": [
    "print(score_casual['test_score'].mean()*-1)\n",
    "print(score_registered['test_score'].mean()*-1)\n",
    "print((score_casual['test_score'].mean()*-1 + score_registered['test_score'].mean()*-1)/2)"
   ]
  },
  {
   "cell_type": "code",
   "execution_count": null,
   "id": "53737447-b559-4dcb-89a8-d60874b0ce83",
   "metadata": {},
   "outputs": [],
   "source": []
  }
 ],
 "metadata": {
  "kernelspec": {
   "display_name": "Python 3 (ipykernel)",
   "language": "python",
   "name": "python3"
  },
  "language_info": {
   "codemirror_mode": {
    "name": "ipython",
    "version": 3
   },
   "file_extension": ".py",
   "mimetype": "text/x-python",
   "name": "python",
   "nbconvert_exporter": "python",
   "pygments_lexer": "ipython3",
   "version": "3.11.11"
  }
 },
 "nbformat": 4,
 "nbformat_minor": 5
}
